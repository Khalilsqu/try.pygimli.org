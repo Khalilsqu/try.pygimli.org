{
 "cells": [
  {
   "cell_type": "code",
   "execution_count": null,
   "metadata": {
    "collapsed": false
   },
   "outputs": [],
   "source": [
    "%matplotlib inline"
   ]
  },
  {
   "cell_type": "markdown",
   "metadata": {},
   "source": [
    "\n",
    "Meshing the Omega aka. BERT logo\n",
    "================================\n",
    "\n",
    "This is a fun example creating a logo for the BERT software. It illustrates the\n",
    "possibility to hand over matplotlib path objects to the TriangleWrapper."
   ]
  },
  {
   "cell_type": "code",
   "execution_count": null,
   "metadata": {
    "collapsed": false
   },
   "outputs": [],
   "source": [
    "import matplotlib.pyplot as plt\n",
    "import matplotlib.textpath\n",
    "import matplotlib.patheffects as path_effects\n",
    "import pygimli as pg"
   ]
  },
  {
   "cell_type": "markdown",
   "metadata": {},
   "source": [
    "We start by generating a matplotlib path respresenting the $\\Omega$\n",
    "character.\n"
   ]
  },
  {
   "cell_type": "code",
   "execution_count": null,
   "metadata": {
    "collapsed": false
   },
   "outputs": [],
   "source": [
    "logo_path = matplotlib.textpath.TextPath((0,0), r'$\\Omega$', size=1)\n",
    "patch = matplotlib.patches.PathPatch(logo_path)"
   ]
  },
  {
   "cell_type": "markdown",
   "metadata": {},
   "source": [
    "The vertices of the path are defined as mesh nodes and connected with edges.\n"
   ]
  },
  {
   "cell_type": "code",
   "execution_count": null,
   "metadata": {
    "collapsed": false
   },
   "outputs": [],
   "source": [
    "nodes = patch.get_verts() * 50\n",
    "nodes2 = pg.utils.unique_rows(nodes) # remove duplicate nodes\n",
    "poly = pg.Mesh(2)\n",
    "\n",
    "for node in nodes:\n",
    "    poly.createNode(node[0], node[1], 0.0)\n",
    "\n",
    "for i in range(poly.nodeCount() - 1):\n",
    "    poly.createEdge(poly.node(i), poly.node(i + 1))\n",
    "\n",
    "poly.createEdge(poly.node(poly.nodeCount() - 1), poly.node(0))"
   ]
  },
  {
   "cell_type": "markdown",
   "metadata": {},
   "source": [
    "We call the TriangleWrapper to generate the mesh and set the x values as the\n",
    "data for a color transition.\n"
   ]
  },
  {
   "cell_type": "code",
   "execution_count": null,
   "metadata": {
    "collapsed": false
   },
   "outputs": [],
   "source": [
    "tri = pg.TriangleWrapper(poly)\n",
    "mesh = pg.Mesh(2)\n",
    "tri.setSwitches('-pzeAfa5q31')\n",
    "tri.generate(mesh)\n",
    "\n",
    "data = []\n",
    "for cell in mesh.cells():\n",
    "    data.append(cell.center().x())"
   ]
  },
  {
   "cell_type": "markdown",
   "metadata": {},
   "source": [
    "Lastly, we create a BERT caption, visualize the mesh and fine-tune the figure.\n"
   ]
  },
  {
   "cell_type": "code",
   "execution_count": null,
   "metadata": {
    "collapsed": false
   },
   "outputs": [],
   "source": [
    "fig, ax = plt.subplots(figsize=(4,3))\n",
    "ax.axis('off')\n",
    "offset = -10\n",
    "t = ax.text(1.5, offset, 'BERT', fontsize=50, fontweight='bold')\n",
    "t.set_path_effects([path_effects.PathPatchEffect(offset=(3, -3), hatch='xxxx',\n",
    "                                                 facecolor='gray', alpha=0.5),\n",
    "                    path_effects.PathPatchEffect(edgecolor='white', linewidth=1,\n",
    "                                                 facecolor='black')])\n",
    "pg.show(mesh, data, axes=ax, cmap='RdBu', logScale=False, showLater=True)\n",
    "pg.show(mesh, axes=ax)\n",
    "ax.set_ylim(offset, mesh.ymax())"
   ]
  }
 ],
 "metadata": {
  "kernelspec": {
   "display_name": "Python 2",
   "language": "python2",
   "name": "python2"
  },
  "language_info": {
   "codemirror_mode": {
    "name": "ipython",
    "version": 2
   },
   "file_extension": ".py",
   "mimetype": "text/x-python",
   "name": "python",
   "nbconvert_exporter": "python",
   "pygments_lexer": "ipython2",
   "version": "2.7.11"
  }
 },
 "nbformat": 4,
 "nbformat_minor": 0
}
