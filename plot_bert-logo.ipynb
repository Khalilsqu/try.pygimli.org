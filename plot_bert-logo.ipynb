{
  "nbformat_minor": 0,
  "cells": [
    {
      "source": [
        "%matplotlib inline"
      ],
      "cell_type": "code",
      "execution_count": null,
      "outputs": [],
      "metadata": {
        "collapsed": false
      }
    },
    {
      "cell_type": "markdown",
      "source": [
        "\nMeshing the Omega aka. BERT logo\n================================\n\nThis is a fun example creating a logo for the BERT software. It illustrates the\npossibility to hand over matplotlib path objects to the TriangleWrapper."
      ],
      "metadata": {}
    },
    {
      "source": [
        "import matplotlib.pyplot as plt\nimport matplotlib.textpath\nimport matplotlib.patheffects as path_effects\nimport pygimli as pg"
      ],
      "cell_type": "code",
      "execution_count": null,
      "outputs": [],
      "metadata": {
        "collapsed": false
      }
    },
    {
      "cell_type": "markdown",
      "source": [
        "We start by generating a matplotlib path respresenting the $\\Omega$\ncharacter.\n"
      ],
      "metadata": {}
    },
    {
      "source": [
        "logo_path = matplotlib.textpath.TextPath((0,0), r'$\\Omega$', size=1)\npatch = matplotlib.patches.PathPatch(logo_path)"
      ],
      "cell_type": "code",
      "execution_count": null,
      "outputs": [],
      "metadata": {
        "collapsed": false
      }
    },
    {
      "cell_type": "markdown",
      "source": [
        "The vertices of the path are defined as mesh nodes and connected with edges.\n"
      ],
      "metadata": {}
    },
    {
      "source": [
        "nodes = patch.get_verts() * 50\nnodes2 = pg.utils.unique_rows(nodes) # remove duplicate nodes\npoly = pg.Mesh(2)\n\nfor node in nodes:\n    poly.createNode(node[0], node[1], 0.0)\n\nfor i in range(poly.nodeCount() - 1):\n    poly.createEdge(poly.node(i), poly.node(i + 1))\n\npoly.createEdge(poly.node(poly.nodeCount() - 1), poly.node(0))"
      ],
      "cell_type": "code",
      "execution_count": null,
      "outputs": [],
      "metadata": {
        "collapsed": false
      }
    },
    {
      "cell_type": "markdown",
      "source": [
        "We call the TriangleWrapper to generate the mesh and set the x values as the\ndata for a color transition.\n"
      ],
      "metadata": {}
    },
    {
      "source": [
        "tri = pg.TriangleWrapper(poly)\nmesh = pg.Mesh(2)\ntri.setSwitches('-pzeAfa5q31')\ntri.generate(mesh)\n\ndata = []\nfor cell in mesh.cells():\n    data.append(cell.center().x())"
      ],
      "cell_type": "code",
      "execution_count": null,
      "outputs": [],
      "metadata": {
        "collapsed": false
      }
    },
    {
      "cell_type": "markdown",
      "source": [
        "Lastly, we create a BERT caption, visualize the mesh and fine-tune the figure.\n"
      ],
      "metadata": {}
    },
    {
      "source": [
        "fig, ax = plt.subplots(figsize=(4,3))\nax.axis('off')\noffset = -10\nt = ax.text(1.5, offset, 'BERT', fontsize=50, fontweight='bold')\nt.set_path_effects([path_effects.PathPatchEffect(offset=(3, -3), hatch='xxxx',\n                                                 facecolor='gray', alpha=0.5),\n                    path_effects.PathPatchEffect(edgecolor='white', linewidth=1,\n                                                 facecolor='black')])\npg.show(mesh, data, axes=ax, cmap='RdBu', logScale=False, showLater=True)\npg.show(mesh, axes=ax)\nax.set_ylim(offset, mesh.ymax())"
      ],
      "cell_type": "code",
      "execution_count": null,
      "outputs": [],
      "metadata": {
        "collapsed": false
      }
    }
  ],
  "nbformat": 4,
  "metadata": {
    "language_info": {
      "codemirror_mode": {
        "version": 3,
        "name": "ipython"
      },
      "nbconvert_exporter": "python",
      "mimetype": "text/x-python",
      "version": "3.5.1",
      "name": "python",
      "pygments_lexer": "ipython3",
      "file_extension": ".py"
    },
    "kernelspec": {
      "language": "python",
      "display_name": "Python 3",
      "name": "python3"
    }
  }
}