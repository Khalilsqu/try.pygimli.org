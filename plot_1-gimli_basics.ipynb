{
 "cells": [
  {
   "cell_type": "code",
   "execution_count": null,
   "metadata": {
    "collapsed": false
   },
   "outputs": [],
   "source": [
    "%matplotlib inline"
   ]
  },
  {
   "cell_type": "markdown",
   "metadata": {},
   "source": [
    "\n",
    "\n",
    "GIMLi Basics\n",
    "------------\n",
    "\n",
    "This is the first tutorial where we demonstrate the general use of\n",
    ":term:`GIMLi` in Python, i.e., :term:`pyGIMLi`.\n",
    "\n",
    "The modelling as well as the inversion 2art of :term:`GIMLi` often requires a\n",
    "spatial discretization for the domain of interest, the so called\n",
    ":gimliapi:`GIMLI::Mesh`.\n",
    "This tutorial shows some basic aspects of handling a mesh.\n",
    "\n",
    "First, the library needs to be imported.\n",
    "To avoid name clashes with other libraries we suggest to ``import pygimli`` and\n",
    "alias it to the simple abbreviation ``pg``:\n",
    "\n"
   ]
  },
  {
   "cell_type": "code",
   "execution_count": null,
   "metadata": {
    "collapsed": false
   },
   "outputs": [],
   "source": [
    "import pygimli as pg"
   ]
  },
  {
   "cell_type": "markdown",
   "metadata": {},
   "source": [
    "2"
   ]
  },
  {
   "cell_type": "code",
   "execution_count": null,
   "metadata": {
    "collapsed": false
   },
   "outputs": [],
   "source": [
    "print(pg.__version__)"
   ]
  },
  {
   "cell_type": "markdown",
   "metadata": {},
   "source": [
    "This yields:\n",
    "\n",
    "Now we know the name space :gimliapi:`GIMLI` and can create a first mesh.\n",
    "A mesh is represented by a collection of nodes, cells and boundaries,\n",
    "i.e., geometrical entities.\n",
    "\n",
    ".. note::\n",
    "\n",
    "    A regularly spaced mesh consisting of rectangles or hexahedrons is\n",
    "    usually called grid. However, a grid is just a special variant of a mesh\n",
    "    so GIMLi treat it the same. The only difference is how they are created.\n",
    "\n",
    "GIMLi provides a collection of tools for mesh import, export and generation.\n",
    "A simple grid generation is built-in but we also provide wrappers for\n",
    "unstructured mesh generations, e.g., :term:`Triangle`, :term:`Tetgen` and\n",
    ":term:`Gmsh`. To create a 2d grid you need to give two arrays/lists for the\n",
    "sampling points in x and y direction, respectively, or just numbers.\n"
   ]
  },
  {
   "cell_type": "code",
   "execution_count": null,
   "metadata": {
    "collapsed": false
   },
   "outputs": [],
   "source": [
    "grid = pg.createGrid(x=[-1.0, 0.0, 1.0, 4.0], y=(-1.0, 0.0, 1.0, 4.0))"
   ]
  },
  {
   "cell_type": "markdown",
   "metadata": {},
   "source": [
    "The returned object ``grid`` is an instance of :gimliapi:`GIMLI::Mesh` and\n",
    "provides various methods for modification and io-operations. General\n",
    "informations can be simply printed.\n",
    "\n"
   ]
  },
  {
   "cell_type": "code",
   "execution_count": null,
   "metadata": {
    "collapsed": false
   },
   "outputs": [],
   "source": [
    "print(grid)"
   ]
  },
  {
   "cell_type": "markdown",
   "metadata": {},
   "source": [
    "yields:\n",
    "\n",
    "Or you can access them manually:\n",
    "\n"
   ]
  },
  {
   "cell_type": "code",
   "execution_count": null,
   "metadata": {
    "collapsed": false
   },
   "outputs": [],
   "source": [
    "print('Mesh: Nodes:', grid.nodeCount(),\n",
    "      'Cells:', grid.cellCount(),\n",
    "      'Boundaries:', grid.boundaryCount())"
   ]
  },
  {
   "cell_type": "markdown",
   "metadata": {},
   "source": [
    "\n",
    "You can iterate through all cells of the general type :gimliapi:`GIMLI::Cell`\n",
    "that also provides a lot of methods:\n",
    "\n"
   ]
  },
  {
   "cell_type": "code",
   "execution_count": null,
   "metadata": {
    "collapsed": false
   },
   "outputs": [],
   "source": [
    "for cell in grid.cells():\n",
    "    print(\"Cell-Nr:\", cell.id(), 'Type:', type(cell),\n",
    "          'Nodes per Cell', cell.nodeCount())"
   ]
  },
  {
   "cell_type": "markdown",
   "metadata": {},
   "source": [
    "To find the grid generation input arrays ``x`` and ``y``, you can use the\n",
    "build-in :gimliapi:`GIMLI::Vector` (pre-defined with value type double as\n",
    "``pg.RVector``), standard python lists or :term:`numpy` arrays,\n",
    "which are widely compatible with :term:`GIMLi` vectors.\n"
   ]
  },
  {
   "cell_type": "code",
   "execution_count": null,
   "metadata": {
    "collapsed": false
   },
   "outputs": [],
   "source": [
    "import numpy as np\n",
    "\n",
    "grid = pg.createGrid(x=np.linspace(-1.0, 1.0, 10),\n",
    "                     y=1.0 - np.logspace(np.log10(1.0), np.log10(2.0), 10))"
   ]
  },
  {
   "cell_type": "markdown",
   "metadata": {},
   "source": [
    "\n",
    "We can found that this new ``grid`` contains\n",
    "\n"
   ]
  },
  {
   "cell_type": "code",
   "execution_count": null,
   "metadata": {
    "collapsed": false
   },
   "outputs": [],
   "source": [
    "print(grid.cellCount())"
   ]
  },
  {
   "cell_type": "markdown",
   "metadata": {},
   "source": [
    "rectangles of type :gimliapi:`GIMLI::Quadrangle` being derived from the\n",
    "base type :gimliapi:`GIMLI::Cell`,\n",
    "\n"
   ]
  },
  {
   "cell_type": "code",
   "execution_count": null,
   "metadata": {
    "collapsed": false
   },
   "outputs": [],
   "source": [
    "print(grid.boundaryCount())"
   ]
  },
  {
   "cell_type": "markdown",
   "metadata": {},
   "source": [
    "edges of type :gimliapi:`GIMLI::Edge`, which are boundaries of the general\n",
    "type :gimliapi:`GIMLI::Boundary`.\n",
    "\n",
    "The mesh can be saved and loaded in our binary mesh format ``.bms``.\n",
    "Or exported into ``.vtk`` format for 2D or 3D visualization using\n",
    ":term:`Paraview`.\n",
    "\n",
    "However, we recommend visualizing 2-dimensional content using python scripts\n",
    "that provides better exports to graphics files (e.g., png, pdf, svg).\n",
    "In :term:`pygimli` we provide some basic post-processing routines using\n",
    "the :term:`matplotlib` visualization framework. The main visualization call\n",
    "is :py:mod:`pygimli.viewer.show` which is sufficient for the most meshs,\n",
    "fields, models and streamline views.2n"
   ]
  },
  {
   "cell_type": "code",
   "execution_count": null,
   "metadata": {
    "collapsed": false
   },
   "outputs": [],
   "source": [
    "pg.viewer.show(grid)"
   ]
  },
  {
   "cell_type": "markdown",
   "metadata": {},
   "source": [
    "For more control you can also use the appropriate draw methods\n",
    ":py:mod:`pygimli.mplviewer.drawMesh`.\n"
   ]
  },
  {
   "cell_type": "code",
   "execution_count": null,
   "metadata": {
    "collapsed": false
   },
   "outputs": [],
   "source": [
    "pg.wait()"
   ]
  }
 ],
 "metadata": {
  "kernelspec": {
   "display_name": "Python 2",
   "language": "python2",
   "name": "python2"
  },
  "language_info": {
   "codemirror_mode": {
    "name": "ipython",
    "version": 2
   },
   "file_extension": ".py",
   "mimetype": "text/x-python",
   "name": "python",
   "nbconvert_exporter": "python",
   "pygments_lexer": "ipython2",
   "version": "2.7.11"
  }
 },
 "nbformat": 4,
 "nbformat_minor": 0
}
