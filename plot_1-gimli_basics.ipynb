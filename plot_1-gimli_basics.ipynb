{
  "nbformat_minor": 0,
  "cells": [
    {
      "source": [
        "%matplotlib inline"
      ],
      "cell_type": "code",
      "execution_count": null,
      "outputs": [],
      "metadata": {
        "collapsed": false
      }
    },
    {
      "cell_type": "markdown",
      "source": [
        "\n\nGIMLi Basics\n------------\n\nThis is the first tutorial where we demonstrate the general use of\n:term:`GIMLi` in Python, i.e., :term:`pyGIMLi`.\n\nThe modelling as well as the inversion part of :term:`GIMLi` often requires a\nspatial discretization for the domain of interest, the so called\n:gimliapi:`GIMLI::Mesh`.\nThis tutorial shows some basic aspects of handling a mesh.\n\nFirst, the library needs to be imported.\nTo avoid name clashes with other libraries we suggest to ``import pygimli`` and\nalias it to the simple abbreviation ``pg``:\n\n"
      ],
      "metadata": {}
    },
    {
      "source": [
        "import pygimli as pg"
      ],
      "cell_type": "code",
      "execution_count": null,
      "outputs": [],
      "metadata": {
        "collapsed": false
      }
    },
    {
      "cell_type": "markdown",
      "source": [
        "Every part of the c++ namespace :gimliapi:`GIMLI` is bound to python and can\nbe used with the leading ``pg.``\n\nFor instance get the current version for :term:`GIMLi` with:\n"
      ],
      "metadata": {}
    },
    {
      "source": [
        "print(pg.__version__)"
      ],
      "cell_type": "code",
      "execution_count": null,
      "outputs": [],
      "metadata": {
        "collapsed": false
      }
    },
    {
      "cell_type": "markdown",
      "source": [
        "This yields:\n\nNow we know the name space :gimliapi:`GIMLI` and can create a first mesh.\nA mesh is represented by a collection of nodes, cells and boundaries,\ni.e., geometrical entities.\n\n.. note::\n\n    A regularly spaced mesh consisting of rectangles or hexahedrons is\n    usually called grid. However, a grid is just a special variant of a mesh\n    so GIMLi treat it the same. The only difference is how they are created.\n\nGIMLi provides a collection of tools for mesh import, export and generation.\nA simple grid generation is built-in but we also provide wrappers for\nunstructured mesh generations, e.g., :term:`Triangle`, :term:`Tetgen` and\n:term:`Gmsh`. To create a 2d grid you need to give two arrays/lists for the\nsampling points in x and y direction, respectively, or just numbers.\n"
      ],
      "metadata": {}
    },
    {
      "source": [
        "grid = pg.createGrid(x=[-1.0, 0.0, 1.0, 4.0], y=(-1.0, 0.0, 1.0, 4.0))"
      ],
      "cell_type": "code",
      "execution_count": null,
      "outputs": [],
      "metadata": {
        "collapsed": false
      }
    },
    {
      "cell_type": "markdown",
      "source": [
        "The returned object ``grid`` is an instance of :gimliapi:`GIMLI::Mesh` and\nprovides various methods for modification and io-operations. General\ninformations can be simply printed.\n\n"
      ],
      "metadata": {}
    },
    {
      "source": [
        "print(grid)"
      ],
      "cell_type": "code",
      "execution_count": null,
      "outputs": [],
      "metadata": {
        "collapsed": false
      }
    },
    {
      "cell_type": "markdown",
      "source": [
        "yields:\n\nOr you can access them manually:\n\n"
      ],
      "metadata": {}
    },
    {
      "source": [
        "print('Mesh: Nodes:', grid.nodeCount(),\n      'Cells:', grid.cellCount(),\n      'Boundaries:', grid.boundaryCount())"
      ],
      "cell_type": "code",
      "execution_count": null,
      "outputs": [],
      "metadata": {
        "collapsed": false
      }
    },
    {
      "cell_type": "markdown",
      "source": [
        "\nYou can iterate through all cells of the general type :gimliapi:`GIMLI::Cell`\nthat also provides a lot of methods:\n\n"
      ],
      "metadata": {}
    },
    {
      "source": [
        "for cell in grid.cells():\n    print(\"Cell-Nr:\", cell.id(), 'Type:', type(cell),\n          'Nodes per Cell', cell.nodeCount())"
      ],
      "cell_type": "code",
      "execution_count": null,
      "outputs": [],
      "metadata": {
        "collapsed": false
      }
    },
    {
      "cell_type": "markdown",
      "source": [
        "To find the grid generation input arrays ``x`` and ``y``, you can use the\nbuild-in :gimliapi:`GIMLI::Vector` (pre-defined with value type double as\n``pg.RVector``), standard python lists or :term:`numpy` arrays,\nwhich are widely compatible with :term:`GIMLi` vectors.\n"
      ],
      "metadata": {}
    },
    {
      "source": [
        "import numpy as np\n\ngrid = pg.createGrid(x=np.linspace(-1.0, 1.0, 10),\n                     y=1.0 - np.logspace(np.log10(1.0), np.log10(2.0), 10))"
      ],
      "cell_type": "code",
      "execution_count": null,
      "outputs": [],
      "metadata": {
        "collapsed": false
      }
    },
    {
      "cell_type": "markdown",
      "source": [
        "\nWe can found that this new ``grid`` contains\n\n"
      ],
      "metadata": {}
    },
    {
      "source": [
        "print(grid.cellCount())"
      ],
      "cell_type": "code",
      "execution_count": null,
      "outputs": [],
      "metadata": {
        "collapsed": false
      }
    },
    {
      "cell_type": "markdown",
      "source": [
        "rectangles of type :gimliapi:`GIMLI::Quadrangle` being derived from the\nbase type :gimliapi:`GIMLI::Cell`,\n\n"
      ],
      "metadata": {}
    },
    {
      "source": [
        "print(grid.boundaryCount())"
      ],
      "cell_type": "code",
      "execution_count": null,
      "outputs": [],
      "metadata": {
        "collapsed": false
      }
    },
    {
      "cell_type": "markdown",
      "source": [
        "edges of type :gimliapi:`GIMLI::Edge`, which are boundaries of the general\ntype :gimliapi:`GIMLI::Boundary`.\n\nThe mesh can be saved and loaded in our binary mesh format ``.bms``.\nOr exported into ``.vtk`` format for 2D or 3D visualization using\n:term:`Paraview`.\n\nHowever, we recommend visualizing 2-dimensional content using python scripts\nthat provides better exports to graphics files (e.g., png, pdf, svg).\nIn :term:`pygimli` we provide some basic post-processing routines using\nthe :term:`matplotlib` visualization framework. The main visualization call\nis :py:mod:`pygimli.viewer.show` which is sufficient for the most meshs,\nfields, models and streamline views.\n"
      ],
      "metadata": {}
    },
    {
      "source": [
        "pg.viewer.show(grid)"
      ],
      "cell_type": "code",
      "execution_count": null,
      "outputs": [],
      "metadata": {
        "collapsed": false
      }
    },
    {
      "cell_type": "markdown",
      "source": [
        "For more control you can also use the appropriate draw methods\n:py:mod:`pygimli.mplviewer.drawMesh`.\n"
      ],
      "metadata": {}
    },
    {
      "source": [
        "pg.wait()"
      ],
      "cell_type": "code",
      "execution_count": null,
      "outputs": [],
      "metadata": {
        "collapsed": false
      }
    }
  ],
  "nbformat": 4,
  "metadata": {
    "language_info": {
      "codemirror_mode": {
        "version": 3,
        "name": "ipython"
      },
      "nbconvert_exporter": "python",
      "mimetype": "text/x-python",
      "version": "3.5.1",
      "name": "python",
      "pygments_lexer": "ipython3",
      "file_extension": ".py"
    },
    "kernelspec": {
      "language": "python",
      "display_name": "Python 3",
      "name": "python3"
    }
  }
}