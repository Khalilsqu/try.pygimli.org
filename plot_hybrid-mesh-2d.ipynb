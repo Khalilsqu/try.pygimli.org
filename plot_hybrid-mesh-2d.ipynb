{
 "cells": [
  {
   "cell_type": "code",
   "execution_count": null,
   "metadata": {
    "collapsed": false
   },
   "outputs": [],
   "source": [
    "%matplotlib inline"
   ]
  },
  {
   "cell_type": "markdown",
   "metadata": {},
   "source": [
    "\n",
    "Building a hybrid mesh in 2-D\n",
    "-----------------------------\n",
    "\n",
    "In some cases, the modelling domain may require flexibility in one region and\n",
    "equidistant structure in another. In this short example, we demonstrate how to\n",
    "accomplish this for a two-dimensional mesh consisting of a region with regularly\n",
    "spaced quadrilaterals and a region with unstructured triangles."
   ]
  },
  {
   "cell_type": "markdown",
   "metadata": {},
   "source": [
    "We start by importing numpy, matplotlib and pygimli with its required components.\n"
   ]
  },
  {
   "cell_type": "code",
   "execution_count": null,
   "metadata": {
    "collapsed": false
   },
   "outputs": [],
   "source": [
    "import numpy as np\n",
    "\n",
    "import pygimli as pg\n",
    "from pygimli.viewer import showMesh\n",
    "from pygimli.mplviewer import drawMesh\n",
    "from pygimli.meshtools import merge2Meshes, appendTriangleBoundary"
   ]
  },
  {
   "cell_type": "markdown",
   "metadata": {},
   "source": [
    "We continue by building a regular grid and assign the marker 2 to all cells.\n"
   ]
  },
  {
   "cell_type": "code",
   "execution_count": null,
   "metadata": {
    "collapsed": false
   },
   "outputs": [],
   "source": [
    "xmin, xmax = 0., 50.\n",
    "zmin, zmax = -50., -25.\n",
    "\n",
    "dx = 1.0\n",
    "xreg = np.arange(xmin, xmax + dx, dx, 'float')\n",
    "zreg = np.arange(zmin, zmax + dx, dx, 'float')\n",
    "\n",
    "mesh1 = pg.Mesh(2)\n",
    "mesh1.create2DGrid(xreg, zreg, 0)\n",
    "for c in mesh1.cells():\n",
    "    c.setMarker(2)\n",
    "\n",
    "print(mesh1)"
   ]
  },
  {
   "cell_type": "markdown",
   "metadata": {},
   "source": [
    "Next, we build an unstructured region on top by creating the polygon and calling\n",
    "triangle via pygimli's TriangleWrapper.\n"
   ]
  },
  {
   "cell_type": "code",
   "execution_count": null,
   "metadata": {
    "collapsed": false
   },
   "outputs": [],
   "source": [
    "poly = pg.Mesh(2)  # empty 2d mesh\n",
    "nStart = poly.createNode(xmin, zmax, 0.0)\n",
    "\n",
    "nA = nStart\n",
    "for x in xreg[1:]:\n",
    "    nB = poly.createNode(x, zmax, 0.0)\n",
    "    poly.createEdge(nA, nB)\n",
    "    nA = nB\n",
    "\n",
    "z2 = 0.\n",
    "nA = poly.createNode(xmax, z2, 0.0)\n",
    "poly.createEdge(nB, nA)\n",
    "nB = poly.createNode(xmin, z2, 0.0)\n",
    "poly.createEdge(nA, nB)\n",
    "poly.createEdge(nB, nStart)\n",
    "\n",
    "tri = pg.TriangleWrapper(poly)\n",
    "tri.setSwitches('-pzeAfaq31')"
   ]
  },
  {
   "cell_type": "markdown",
   "metadata": {},
   "source": [
    "For more information on the triangle switches and the corresponding settings,\n",
    "the reader is referred to `the triangle website <http://www.cs.cmu.edu/~quake/triangle.switch.html>`_.\n",
    "\n",
    "Now we can generate the unstructured mesh.\n"
   ]
  },
  {
   "cell_type": "code",
   "execution_count": null,
   "metadata": {
    "collapsed": false
   },
   "outputs": [],
   "source": [
    "mesh2 = pg.Mesh(2)\n",
    "tri.generate(mesh2)\n",
    "\n",
    "for cell in mesh2.cells():\n",
    "    cell.setMarker(1)"
   ]
  },
  {
   "cell_type": "markdown",
   "metadata": {},
   "source": [
    "Finally, the grid and the unstructured mesh can be merged to single mesh for further\n",
    "modelling.\n"
   ]
  },
  {
   "cell_type": "code",
   "execution_count": null,
   "metadata": {
    "collapsed": false
   },
   "outputs": [],
   "source": [
    "mesh3 = merge2Meshes(mesh1, mesh2)"
   ]
  },
  {
   "cell_type": "markdown",
   "metadata": {},
   "source": [
    "Of course, you can treat the hybrid mesh like any other mesh and append a triangle\n",
    "boundary for example with :py:func:`pygimli.meshtools.grid.appendTriangleBoundary`.\n"
   ]
  },
  {
   "cell_type": "code",
   "execution_count": null,
   "metadata": {
    "collapsed": false
   },
   "outputs": [],
   "source": [
    "mesh = appendTriangleBoundary(mesh3, -100., 100., quality=31,\n",
    "                              smooth=True, marker=3, isSubSurface=True)\n",
    "\n",
    "ax, cbar = showMesh(mesh, mesh.cellMarker(),\n",
    "                   cmap=\"summer\",\n",
    "                   label=\"Region marker\")\n",
    "\n",
    "drawMesh(ax, mesh)\n",
    "\n",
    "ax, _ = showMesh(mesh, mesh.cellMarker(),\n",
    "                logScale=False,\n",
    "                label=\"Region marker\")\n",
    "\n",
    "drawMesh(ax, mesh)\n",
    "pg.wait()"
   ]
  }
 ],
 "metadata": {
  "kernelspec": {
   "display_name": "Python 2",
   "language": "python2",
   "name": "python2"
  },
  "language_info": {
   "codemirror_mode": {
    "name": "ipython",
    "version": 2
   },
   "file_extension": ".py",
   "mimetype": "text/x-python",
   "name": "python",
   "nbconvert_exporter": "python",
   "pygments_lexer": "ipython2",
   "version": "2.7.11"
  }
 },
 "nbformat": 4,
 "nbformat_minor": 0
}
