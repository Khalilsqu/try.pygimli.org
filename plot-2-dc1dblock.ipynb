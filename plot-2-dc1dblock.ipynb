{
 "cells": [
  {
   "cell_type": "code",
   "execution_count": null,
   "metadata": {
    "collapsed": false
   },
   "outputs": [],
   "source": [
    "%matplotlib inline"
   ]
  },
  {
   "cell_type": "markdown",
   "metadata": {},
   "source": [
    "\n",
    "DC1dBlock\n",
    "---------\n",
    "\n",
    "This tutorial shows how an built-in forward operator is used for inversion.\n",
    "A DC 1D (VES) modelling is used to generate data, noisify and invert them."
   ]
  },
  {
   "cell_type": "markdown",
   "metadata": {},
   "source": [
    "We import numpy for , mpl plotting, pygimli and the 1D plotting function\n"
   ]
  },
  {
   "cell_type": "code",
   "execution_count": null,
   "metadata": {
    "collapsed": false
   },
   "outputs": [],
   "source": [
    "import numpy as np\n",
    "import matplotlib.pyplot as plt\n",
    "\n",
    "import pygimli as pg\n",
    "from pygimli.viewer import drawModel1D"
   ]
  },
  {
   "cell_type": "markdown",
   "metadata": {},
   "source": [
    "some definitions before\n"
   ]
  },
  {
   "cell_type": "code",
   "execution_count": null,
   "metadata": {
    "collapsed": false
   },
   "outputs": [],
   "source": [
    "nlay = 4  # number of layers\n",
    "lam = 200.  # (initial) regularization parameter\n",
    "errPerc = 3.  # relative error of 3 percent"
   ]
  },
  {
   "cell_type": "markdown",
   "metadata": {},
   "source": [
    "generate current and potential length vector\n"
   ]
  },
  {
   "cell_type": "code",
   "execution_count": null,
   "metadata": {
    "collapsed": false
   },
   "outputs": [],
   "source": [
    "ab2 = np.logspace(-1, 2, 50)\n",
    "mn2 = ab2 / 3."
   ]
  },
  {
   "cell_type": "markdown",
   "metadata": {},
   "source": [
    "initialize the forward modelling operator\n"
   ]
  },
  {
   "cell_type": "code",
   "execution_count": null,
   "metadata": {
    "collapsed": false
   },
   "outputs": [],
   "source": [
    "f = pg.DC1dModelling(nlay, ab2, mn2)"
   ]
  },
  {
   "cell_type": "markdown",
   "metadata": {},
   "source": [
    "other ways are by specifying a Data Container or am/an/bm/bn distances\n"
   ]
  },
  {
   "cell_type": "code",
   "execution_count": null,
   "metadata": {
    "collapsed": false
   },
   "outputs": [],
   "source": [
    "synres = [100., 500., 20., 800.]  # synthetic resistivity\n",
    "synthk = [0.5, 3.5, 6.]  # synthetic thickness (lay layer is infinite)"
   ]
  },
  {
   "cell_type": "markdown",
   "metadata": {},
   "source": [
    "the forward operator can be called by f.response(model) or simply f(model)\n"
   ]
  },
  {
   "cell_type": "code",
   "execution_count": null,
   "metadata": {
    "collapsed": false
   },
   "outputs": [],
   "source": [
    "rhoa = f(synthk+synres)\n",
    "rhoa = rhoa * (np.random.randn(len(rhoa)) * errPerc / 100. + 1.)"
   ]
  },
  {
   "cell_type": "markdown",
   "metadata": {},
   "source": [
    "create some transformations used for inversion\n"
   ]
  },
  {
   "cell_type": "code",
   "execution_count": null,
   "metadata": {
    "collapsed": false
   },
   "outputs": [],
   "source": [
    "transThk = pg.RTransLog()  # log-transform ensures thk>0\n",
    "transRho = pg.RTransLogLU(1, 1000)  # lower and upper bound\n",
    "transRhoa = pg.RTransLog()  # log transformation also for data"
   ]
  },
  {
   "cell_type": "markdown",
   "metadata": {},
   "source": [
    "set model transformation for thickness and resistivity\n"
   ]
  },
  {
   "cell_type": "code",
   "execution_count": null,
   "metadata": {
    "collapsed": false
   },
   "outputs": [],
   "source": [
    "f.region(0).setTransModel(transThk)  # 0=thickness\n",
    "f.region(1).setTransModel(transRho)  # 1=resistivity"
   ]
  },
  {
   "cell_type": "markdown",
   "metadata": {},
   "source": [
    "generate start model from median app. resistivity & current bipole length\n"
   ]
  },
  {
   "cell_type": "code",
   "execution_count": null,
   "metadata": {
    "collapsed": false
   },
   "outputs": [],
   "source": [
    "paraDepth = max(ab2) / 3.  # rule-of-thumb for Wenner/Schlumberger\n",
    "f.region(0).setStartValue(paraDepth / nlay / 2)\n",
    "f.region(1).setStartValue(np.median(rhoa))"
   ]
  },
  {
   "cell_type": "markdown",
   "metadata": {},
   "source": [
    "set up inversion\n"
   ]
  },
  {
   "cell_type": "code",
   "execution_count": null,
   "metadata": {
    "collapsed": false
   },
   "outputs": [],
   "source": [
    "inv = pg.RInversion(rhoa, f, transRhoa, True)  # data vector, fop, verbose"
   ]
  },
  {
   "cell_type": "markdown",
   "metadata": {},
   "source": [
    "could also be set by inv.setTransData(transRhoa)\n"
   ]
  },
  {
   "cell_type": "code",
   "execution_count": null,
   "metadata": {
    "collapsed": false
   },
   "outputs": [],
   "source": [
    "inv.setRelativeError(errPerc / 100.0)\n",
    "inv.setLambda(lam)  # (initial) regularization parameter\n",
    "inv.setMarquardtScheme(0.9)  # decrease lambda by factor 0.9\n",
    "model = f.createStartVector()  # creates from region start value"
   ]
  },
  {
   "cell_type": "markdown",
   "metadata": {},
   "source": [
    "optionally change default model by changing a layer resistivity\n"
   ]
  },
  {
   "cell_type": "code",
   "execution_count": null,
   "metadata": {
    "collapsed": false
   },
   "outputs": [],
   "source": [
    "model[nlay] *= 1.5\n",
    "inv.setModel(model)  #"
   ]
  },
  {
   "cell_type": "markdown",
   "metadata": {},
   "source": [
    "run actual inversion\n"
   ]
  },
  {
   "cell_type": "code",
   "execution_count": null,
   "metadata": {
    "collapsed": false
   },
   "outputs": [],
   "source": [
    "model = inv.run()  # result is a pg.RVector, but compatible to numpy array\n",
    "res, thk = model[nlay-1:nlay*2-1], model[0:nlay-1]"
   ]
  },
  {
   "cell_type": "markdown",
   "metadata": {},
   "source": [
    "show everything\n"
   ]
  },
  {
   "cell_type": "code",
   "execution_count": null,
   "metadata": {
    "collapsed": false
   },
   "outputs": [],
   "source": [
    "fig, ax = plt.subplots(ncols=2, figsize=(8, 6))  # two-column figure\n",
    "# plot model (inverted and synthetic)\n",
    "drawModel1D(ax[0], thk, res, color='r')  # r'\\rho in \\Omega m')\n",
    "drawModel1D(ax[0], synthk, synres, color='b')\n",
    "ax[0].grid(True, which='both')\n",
    "# plot sounding curve data and model response\n",
    "ax[1].loglog(rhoa, ab2, 'rx-', label='measured')\n",
    "ax[1].loglog(inv.response(), ab2, 'b-', label='fitted')\n",
    "ax[1].set_ylim((max(ab2), min(ab2)))\n",
    "ax[1].grid(True, which='both')\n",
    "ax[1].set_xlabel(r'$\\rho_a$ [$\\Omega$m]')\n",
    "ax[1].set_ylabel('AB/2 [m]')\n",
    "ax[1].legend(loc='best')\n",
    "\n",
    "plt.show()"
   ]
  }
 ],
 "metadata": {
  "kernelspec": {
   "display_name": "Python 2",
   "language": "python2",
   "name": "python2"
  },
  "language_info": {
   "codemirror_mode": {
    "name": "ipython",
    "version": 2
   },
   "file_extension": ".py",
   "mimetype": "text/x-python",
   "name": "python",
   "nbconvert_exporter": "python",
   "pygments_lexer": "ipython2",
   "version": "2.7.11"
  }
 },
 "nbformat": 4,
 "nbformat_minor": 0
}
