{
  "nbformat_minor": 0,
  "cells": [
    {
      "source": [
        "%matplotlib inline"
      ],
      "cell_type": "code",
      "execution_count": null,
      "outputs": [],
      "metadata": {
        "collapsed": false
      }
    },
    {
      "cell_type": "markdown",
      "source": [
        "\nDC1dBlock\n---------\n\nThis tutorial shows how an built-in forward operator is used for inversion.\nA DC 1D (VES) modelling is used to generate data, noisify and invert them."
      ],
      "metadata": {}
    },
    {
      "cell_type": "markdown",
      "source": [
        "We import numpy for , mpl plotting, pygimli and the 1D plotting function\n"
      ],
      "metadata": {}
    },
    {
      "source": [
        "import numpy as np\nimport matplotlib.pyplot as plt\n\nimport pygimli as pg\nfrom pygimli.viewer import drawModel1D"
      ],
      "cell_type": "code",
      "execution_count": null,
      "outputs": [],
      "metadata": {
        "collapsed": false
      }
    },
    {
      "cell_type": "markdown",
      "source": [
        "some definitions before\n"
      ],
      "metadata": {}
    },
    {
      "source": [
        "nlay = 4  # number of layers\nlam = 200.  # (initial) regularization parameter\nerrPerc = 3.  # relative error of 3 percent"
      ],
      "cell_type": "code",
      "execution_count": null,
      "outputs": [],
      "metadata": {
        "collapsed": false
      }
    },
    {
      "cell_type": "markdown",
      "source": [
        "generate current and potential length vector\n"
      ],
      "metadata": {}
    },
    {
      "source": [
        "ab2 = np.logspace(-1, 2, 50)\nmn2 = ab2 / 3."
      ],
      "cell_type": "code",
      "execution_count": null,
      "outputs": [],
      "metadata": {
        "collapsed": false
      }
    },
    {
      "cell_type": "markdown",
      "source": [
        "initialize the forward modelling operator\n"
      ],
      "metadata": {}
    },
    {
      "source": [
        "f = pg.DC1dModelling(nlay, ab2, mn2)"
      ],
      "cell_type": "code",
      "execution_count": null,
      "outputs": [],
      "metadata": {
        "collapsed": false
      }
    },
    {
      "cell_type": "markdown",
      "source": [
        "other ways are by specifying a Data Container or am/an/bm/bn distances\n"
      ],
      "metadata": {}
    },
    {
      "source": [
        "synres = [100., 500., 20., 800.]  # synthetic resistivity\nsynthk = [0.5, 3.5, 6.]  # synthetic thickness (lay layer is infinite)"
      ],
      "cell_type": "code",
      "execution_count": null,
      "outputs": [],
      "metadata": {
        "collapsed": false
      }
    },
    {
      "cell_type": "markdown",
      "source": [
        "the forward operator can be called by f.response(model) or simply f(model)\n"
      ],
      "metadata": {}
    },
    {
      "source": [
        "rhoa = f(synthk+synres)\nrhoa = rhoa * (np.random.randn(len(rhoa)) * errPerc / 100. + 1.)"
      ],
      "cell_type": "code",
      "execution_count": null,
      "outputs": [],
      "metadata": {
        "collapsed": false
      }
    },
    {
      "cell_type": "markdown",
      "source": [
        "create some transformations used for inversion\n"
      ],
      "metadata": {}
    },
    {
      "source": [
        "transThk = pg.RTransLog()  # log-transform ensures thk>0\ntransRho = pg.RTransLogLU(1, 1000)  # lower and upper bound\ntransRhoa = pg.RTransLog()  # log transformation also for data"
      ],
      "cell_type": "code",
      "execution_count": null,
      "outputs": [],
      "metadata": {
        "collapsed": false
      }
    },
    {
      "cell_type": "markdown",
      "source": [
        "set model transformation for thickness and resistivity\n"
      ],
      "metadata": {}
    },
    {
      "source": [
        "f.region(0).setTransModel(transThk)  # 0=thickness\nf.region(1).setTransModel(transRho)  # 1=resistivity"
      ],
      "cell_type": "code",
      "execution_count": null,
      "outputs": [],
      "metadata": {
        "collapsed": false
      }
    },
    {
      "cell_type": "markdown",
      "source": [
        "generate start model from median app. resistivity & current bipole length\n"
      ],
      "metadata": {}
    },
    {
      "source": [
        "paraDepth = max(ab2) / 3.  # rule-of-thumb for Wenner/Schlumberger\nf.region(0).setStartValue(paraDepth / nlay / 2)\nf.region(1).setStartValue(np.median(rhoa))"
      ],
      "cell_type": "code",
      "execution_count": null,
      "outputs": [],
      "metadata": {
        "collapsed": false
      }
    },
    {
      "cell_type": "markdown",
      "source": [
        "set up inversion\n"
      ],
      "metadata": {}
    },
    {
      "source": [
        "inv = pg.RInversion(rhoa, f, transRhoa, True)  # data vector, fop, verbose"
      ],
      "cell_type": "code",
      "execution_count": null,
      "outputs": [],
      "metadata": {
        "collapsed": false
      }
    },
    {
      "cell_type": "markdown",
      "source": [
        "could also be set by inv.setTransData(transRhoa)\n"
      ],
      "metadata": {}
    },
    {
      "source": [
        "inv.setRelativeError(errPerc / 100.0)\ninv.setLambda(lam)  # (initial) regularization parameter\ninv.setMarquardtScheme(0.9)  # decrease lambda by factor 0.9\nmodel = f.createStartVector()  # creates from region start value"
      ],
      "cell_type": "code",
      "execution_count": null,
      "outputs": [],
      "metadata": {
        "collapsed": false
      }
    },
    {
      "cell_type": "markdown",
      "source": [
        "optionally change default model by changing a layer resistivity\n"
      ],
      "metadata": {}
    },
    {
      "source": [
        "model[nlay] *= 1.5\ninv.setModel(model)  #"
      ],
      "cell_type": "code",
      "execution_count": null,
      "outputs": [],
      "metadata": {
        "collapsed": false
      }
    },
    {
      "cell_type": "markdown",
      "source": [
        "run actual inversion\n"
      ],
      "metadata": {}
    },
    {
      "source": [
        "model = inv.run()  # result is a pg.RVector, but compatible to numpy array\nres, thk = model[nlay-1:nlay*2-1], model[0:nlay-1]"
      ],
      "cell_type": "code",
      "execution_count": null,
      "outputs": [],
      "metadata": {
        "collapsed": false
      }
    },
    {
      "cell_type": "markdown",
      "source": [
        "show everything\n"
      ],
      "metadata": {}
    },
    {
      "source": [
        "fig, ax = plt.subplots(ncols=2, figsize=(8, 6))  # two-column figure\n# plot model (inverted and synthetic)\ndrawModel1D(ax[0], thk, res, color='r')  # r'\\rho in \\Omega m')\ndrawModel1D(ax[0], synthk, synres, color='b')\nax[0].grid(True, which='both')\n# plot sounding curve data and model response\nax[1].loglog(rhoa, ab2, 'rx-', label='measured')\nax[1].loglog(inv.response(), ab2, 'b-', label='fitted')\nax[1].set_ylim((max(ab2), min(ab2)))\nax[1].grid(True, which='both')\nax[1].set_xlabel(r'$\\rho_a$ [$\\Omega$m]')\nax[1].set_ylabel('AB/2 [m]')\nax[1].legend(loc='best')\n\nplt.show()"
      ],
      "cell_type": "code",
      "execution_count": null,
      "outputs": [],
      "metadata": {
        "collapsed": false
      }
    }
  ],
  "nbformat": 4,
  "metadata": {
    "language_info": {
      "codemirror_mode": {
        "version": 3,
        "name": "ipython"
      },
      "nbconvert_exporter": "python",
      "mimetype": "text/x-python",
      "version": "3.5.1",
      "name": "python",
      "pygments_lexer": "ipython3",
      "file_extension": ".py"
    },
    "kernelspec": {
      "language": "python",
      "display_name": "Python 3",
      "name": "python3"
    }
  }
}