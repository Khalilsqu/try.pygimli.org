{
  "nbformat": 4,
  "nbformat_minor": 0,
  "metadata": {
    "kernelspec": {
      "display_name": "Python 3",
      "language": "python",
      "name": "python3"
    },
    "language_info": {
      "file_extension": ".py",
      "name": "python",
      "codemirror_mode": {
        "version": 3,
        "name": "ipython"
      },
      "mimetype": "text/x-python",
      "nbconvert_exporter": "python",
      "version": "3.4.3",
      "pygments_lexer": "ipython3"
    }
  },
  "cells": [
    {
      "outputs": [],
      "cell_type": "code",
      "source": [
        "%matplotlib inline"
      ],
      "metadata": {
        "collapsed": false
      },
      "execution_count": null
    },
    {
      "cell_type": "markdown",
      "metadata": {},
      "source": [
        "\nDC1dSmooth\n==========\n\nThis tutorial shows how an built-in forward operator is used for an Occam type\n(smoothness-constrained) inversion with fixed regularization (most natural).\nA direct current (DC) one-dimensional (1D) VES (vertical electric sounding)\nmodelling operator is used to generate data, add noise and inversion.\n\n"
      ]
    },
    {
      "cell_type": "markdown",
      "metadata": {},
      "source": [
        "We import numpy numerics, mpl plotting, pygimli and the 1D plotting function\n\n"
      ]
    },
    {
      "outputs": [],
      "cell_type": "code",
      "source": [
        "import numpy as np\nimport matplotlib.pyplot as plt\n\nimport pygimli as pg\nfrom pygimli.mplviewer import drawModel1D"
      ],
      "metadata": {
        "collapsed": false
      },
      "execution_count": null
    },
    {
      "cell_type": "markdown",
      "metadata": {},
      "source": [
        "##############################################################################\n initialize the forward modelling operator and compute synthetic noisy data\n\n"
      ]
    },
    {
      "outputs": [],
      "cell_type": "code",
      "source": [
        "synres = [100., 500., 20., 800.]  # synthetic resistivity\nsynthk = [4, 6, 10]  # synthetic thickness (lay layer is infinite)\nab2 = np.logspace(-1, 2, 25)  # 0.1 to 100 in 25 steps (8 points per decade)\nfBlock = pg.DC1dModelling(len(synres), ab2, ab2/3)\nrhoa = fBlock(synthk+synres)\n# The data are noisified using a\nerrPerc = 3.  # relative error of 3 percent\nrhoa = rhoa * (pg.randn(len(rhoa)) * errPerc / 100. + 1.)"
      ],
      "metadata": {
        "collapsed": false
      },
      "execution_count": null
    },
    {
      "cell_type": "markdown",
      "metadata": {},
      "source": [
        "%% the forward operator can be called by f.response(model) or simply f(model)\n\n"
      ]
    },
    {
      "outputs": [],
      "cell_type": "code",
      "source": [
        "thk = np.logspace(-0.5, 0.5, 30)\nf = pg.DC1dRhoModelling(thk, ab2, ab2/3)"
      ],
      "metadata": {
        "collapsed": false
      },
      "execution_count": null
    },
    {
      "cell_type": "markdown",
      "metadata": {},
      "source": [
        "%% create some transformations used for inversion\n\n"
      ]
    },
    {
      "outputs": [],
      "cell_type": "code",
      "source": [
        "transRho = pg.RTransLogLU(1, 1000)  # lower and upper bound\ntransRhoa = pg.RTransLog()  # log transformation also for data"
      ],
      "metadata": {
        "collapsed": false
      },
      "execution_count": null
    },
    {
      "cell_type": "markdown",
      "metadata": {},
      "source": [
        "set up inversion\n\n"
      ]
    },
    {
      "outputs": [],
      "cell_type": "code",
      "source": [
        "inv = pg.RInversion(rhoa, f, transRhoa, transRho, False)  # data vector, f, ...\n# The transformations can also be omitted and set individually by\ninv.setTransData(transRhoa)\ninv.setTransModel(transRho)"
      ],
      "metadata": {
        "collapsed": false
      },
      "execution_count": null
    },
    {
      "cell_type": "markdown",
      "metadata": {},
      "source": [
        "the error model is set to the above used noise level\n\n"
      ]
    },
    {
      "outputs": [],
      "cell_type": "code",
      "source": [
        "inv.setRelativeError(errPerc / 100.0)"
      ],
      "metadata": {
        "collapsed": false
      },
      "execution_count": null
    },
    {
      "cell_type": "markdown",
      "metadata": {},
      "source": [
        "optionally change default model by changing a layer resistivity\n\n"
      ]
    },
    {
      "outputs": [],
      "cell_type": "code",
      "source": [
        "model = pg.RVector(len(thk)+1, np.median(rhoa))  # uniform values\ninv.setModel(model)  #"
      ],
      "metadata": {
        "collapsed": false
      },
      "execution_count": null
    },
    {
      "cell_type": "markdown",
      "metadata": {},
      "source": [
        "set pretty large regularization strength and run inversion\n\n"
      ]
    },
    {
      "outputs": [],
      "cell_type": "code",
      "source": [
        "print(\"inversion with lam=200\")\ninv.setLambda(100)\nres100 = inv.run()  # result is a pg.RVector, but compatible to numpy array\ninv.echoStatus()\n# We now decrease the regularization (smoothness) and start (from old result)\nprint(\"inversion with lam=20\")\ninv.setLambda(10)\nres10 = inv.run()  # result is a pg.RVector, but compatible to numpy array\ninv.echoStatus()\n# We now optimize lambda such that data are fitted within noise (chi^2=1)\nprint(\"chi^2=1 optimized inversion\")\nresChi = inv.runChi1()  # ends up in a lambda of about 3\ninv.echoStatus()\nprint(\"optimized lambda value:\", inv.getLambda())"
      ],
      "metadata": {
        "collapsed": false
      },
      "execution_count": null
    },
    {
      "cell_type": "markdown",
      "metadata": {},
      "source": [
        "show everything\n\n"
      ]
    },
    {
      "outputs": [],
      "cell_type": "code",
      "source": [
        "fig, ax = plt.subplots(ncols=2, figsize=(8, 6))  # two-column figure\n# plot model (inverted and synthetic)\ndrawModel1D(ax[0], synthk, synres, color='b', label='synthetic',\n            plotfunction='semilogx')\ndrawModel1D(ax[0], thk, res100, color='g', label=r'$\\lambda$=100')\ndrawModel1D(ax[0], thk, res10, color='c', label=r'$\\lambda$=10')\ndrawModel1D(ax[0], thk, resChi, color='r', label=r'$\\chi$=1')\nax[0].grid(True, which='both')\nax[0].legend(loc='best')\n# plot sounding curve data and model response\nax[1].loglog(rhoa, ab2, 'rx-', label='measured')\nax[1].loglog(inv.response(), ab2, 'b-', label='fitted')\nax[1].set_ylim((max(ab2), min(ab2)))\nax[1].grid(True, which='both')\nax[1].set_xlabel(r'$\\rho_a$ [$\\Omega$m]')\nax[1].set_ylabel('AB/2 [m]')\nax[1].legend(loc='best')\n\nplt.show()"
      ],
      "metadata": {
        "collapsed": false
      },
      "execution_count": null
    }
  ]
}