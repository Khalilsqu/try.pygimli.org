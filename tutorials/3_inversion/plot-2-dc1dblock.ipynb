{
  "nbformat": 4,
  "nbformat_minor": 0,
  "metadata": {
    "kernelspec": {
      "display_name": "Python 3",
      "language": "python",
      "name": "python3"
    },
    "language_info": {
      "file_extension": ".py",
      "name": "python",
      "codemirror_mode": {
        "version": 3,
        "name": "ipython"
      },
      "mimetype": "text/x-python",
      "nbconvert_exporter": "python",
      "version": "3.4.3",
      "pygments_lexer": "ipython3"
    }
  },
  "cells": [
    {
      "outputs": [],
      "cell_type": "code",
      "source": [
        "%matplotlib inline"
      ],
      "metadata": {
        "collapsed": false
      },
      "execution_count": null
    },
    {
      "cell_type": "markdown",
      "metadata": {},
      "source": [
        "\nDC1dBlock\n---------\n\nThis tutorial shows how an built-in forward operator is used for inversion.\nA DC 1D (VES) modelling is used to generate data, noisify and invert them.\n\n"
      ]
    },
    {
      "cell_type": "markdown",
      "metadata": {},
      "source": [
        "We import numpy, matplotlib and the 1D plotting function\n\n"
      ]
    },
    {
      "outputs": [],
      "cell_type": "code",
      "source": [
        "import numpy as np\nimport matplotlib.pyplot as plt\n\nimport pygimli as pg\nfrom pygimli.mplviewer import drawModel1D"
      ],
      "metadata": {
        "collapsed": false
      },
      "execution_count": null
    },
    {
      "cell_type": "markdown",
      "metadata": {},
      "source": [
        "some definitions before\n\n"
      ]
    },
    {
      "outputs": [],
      "cell_type": "code",
      "source": [
        "nlay = 4  # number of layers\nlam = 200.  # (initial) regularization parameter\nerrPerc = 3.  # relative error of 3 percent"
      ],
      "metadata": {
        "collapsed": false
      },
      "execution_count": null
    },
    {
      "cell_type": "markdown",
      "metadata": {},
      "source": [
        "generate current and potential length vector\n\n"
      ]
    },
    {
      "outputs": [],
      "cell_type": "code",
      "source": [
        "ab2 = np.logspace(-1, 2, 50)\nmn2 = ab2 / 3."
      ],
      "metadata": {
        "collapsed": false
      },
      "execution_count": null
    },
    {
      "cell_type": "markdown",
      "metadata": {},
      "source": [
        "initialize the forward modelling operator\n\n"
      ]
    },
    {
      "outputs": [],
      "cell_type": "code",
      "source": [
        "f = pg.DC1dModelling(nlay, ab2, mn2)"
      ],
      "metadata": {
        "collapsed": false
      },
      "execution_count": null
    },
    {
      "cell_type": "markdown",
      "metadata": {},
      "source": [
        "other ways are by specifying a Data Container or am/an/bm/bn distances\n\n"
      ]
    },
    {
      "outputs": [],
      "cell_type": "code",
      "source": [
        "synres = [100., 500., 20., 800.]  # synthetic resistivity\nsynthk = [0.5, 3.5, 6.]  # synthetic thickness (lay layer is infinite)"
      ],
      "metadata": {
        "collapsed": false
      },
      "execution_count": null
    },
    {
      "cell_type": "markdown",
      "metadata": {},
      "source": [
        "the forward operator can be called by f.response(model) or simply f(model)\n\n"
      ]
    },
    {
      "outputs": [],
      "cell_type": "code",
      "source": [
        "rhoa = f(synthk+synres)\nrhoa = rhoa * (pg.randn(len(rhoa)) * errPerc / 100. + 1.)"
      ],
      "metadata": {
        "collapsed": false
      },
      "execution_count": null
    },
    {
      "cell_type": "markdown",
      "metadata": {},
      "source": [
        "create some transformations used for inversion\n\n"
      ]
    },
    {
      "outputs": [],
      "cell_type": "code",
      "source": [
        "transThk = pg.RTransLog()  # log-transform ensures thk>0\ntransRho = pg.RTransLogLU(1, 1000)  # lower and upper bound\ntransRhoa = pg.RTransLog()  # log transformation also for data"
      ],
      "metadata": {
        "collapsed": false
      },
      "execution_count": null
    },
    {
      "cell_type": "markdown",
      "metadata": {},
      "source": [
        "set model transformation for thickness and resistivity\n\n"
      ]
    },
    {
      "outputs": [],
      "cell_type": "code",
      "source": [
        "f.region(0).setTransModel(transThk)  # 0=thickness\nf.region(1).setTransModel(transRho)  # 1=resistivity"
      ],
      "metadata": {
        "collapsed": false
      },
      "execution_count": null
    },
    {
      "cell_type": "markdown",
      "metadata": {},
      "source": [
        "generate start model from median app. resistivity & current bipole length\n\n"
      ]
    },
    {
      "outputs": [],
      "cell_type": "code",
      "source": [
        "paraDepth = max(ab2) / 3.  # rule-of-thumb for Wenner/Schlumberger\nf.region(0).setStartValue(paraDepth / nlay / 2)\nf.region(1).setStartValue(np.median(rhoa))"
      ],
      "metadata": {
        "collapsed": false
      },
      "execution_count": null
    },
    {
      "cell_type": "markdown",
      "metadata": {},
      "source": [
        "set up inversion\n\n"
      ]
    },
    {
      "outputs": [],
      "cell_type": "code",
      "source": [
        "inv = pg.RInversion(rhoa, f, transRhoa, True)  # data vector, fop, verbose"
      ],
      "metadata": {
        "collapsed": false
      },
      "execution_count": null
    },
    {
      "cell_type": "markdown",
      "metadata": {},
      "source": [
        "could also be set by inv.setTransData(transRhoa)\n\n"
      ]
    },
    {
      "outputs": [],
      "cell_type": "code",
      "source": [
        "inv.setRelativeError(errPerc / 100.0)\ninv.setLambda(lam)  # (initial) regularization parameter\ninv.setMarquardtScheme(0.9)  # decrease lambda by factor 0.9\nmodel = f.createStartVector()  # creates from region start value"
      ],
      "metadata": {
        "collapsed": false
      },
      "execution_count": null
    },
    {
      "cell_type": "markdown",
      "metadata": {},
      "source": [
        "optionally change default model by changing a layer resistivity\n\n"
      ]
    },
    {
      "outputs": [],
      "cell_type": "code",
      "source": [
        "model[nlay] *= 1.5\ninv.setModel(model)  #"
      ],
      "metadata": {
        "collapsed": false
      },
      "execution_count": null
    },
    {
      "cell_type": "markdown",
      "metadata": {},
      "source": [
        "run actual inversion\n\n"
      ]
    },
    {
      "outputs": [],
      "cell_type": "code",
      "source": [
        "model = inv.run()  # result is a pg.RVector, but compatible to numpy array\nres, thk = model[nlay-1:nlay*2-1], model[0:nlay-1]"
      ],
      "metadata": {
        "collapsed": false
      },
      "execution_count": null
    },
    {
      "cell_type": "markdown",
      "metadata": {},
      "source": [
        "show everything\n\n"
      ]
    },
    {
      "outputs": [],
      "cell_type": "code",
      "source": [
        "fig, ax = plt.subplots(ncols=2, figsize=(8, 6))  # two-column figure\n# plot model (inverted and synthetic)\ndrawModel1D(ax[0], thk, res, color='r')  # r'\\rho in \\Omega m')\ndrawModel1D(ax[0], synthk, synres, color='b')\n\n\nprint(thk)\n\nax[0].grid(True, which='both')\n# plot sounding curve data and model response\nax[1].loglog(rhoa, ab2, 'rx-', label='measured')\nax[1].loglog(inv.response(), ab2, 'b-', label='fitted')\nax[1].set_ylim((max(ab2), min(ab2)))\nax[1].grid(True, which='both')\nax[1].set_xlabel(r'$\\rho_a$ [$\\Omega$m]')\nax[1].set_ylabel('AB/2 [m]')\nax[1].legend(loc='best')\n\nplt.show()"
      ],
      "metadata": {
        "collapsed": false
      },
      "execution_count": null
    }
  ]
}