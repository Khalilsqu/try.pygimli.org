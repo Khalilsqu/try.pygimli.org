{
  "nbformat": 4,
  "nbformat_minor": 0,
  "metadata": {
    "kernelspec": {
      "display_name": "Python 3",
      "language": "python",
      "name": "python3"
    },
    "language_info": {
      "file_extension": ".py",
      "name": "python",
      "codemirror_mode": {
        "version": 3,
        "name": "ipython"
      },
      "mimetype": "text/x-python",
      "nbconvert_exporter": "python",
      "version": "3.4.3",
      "pygments_lexer": "ipython3"
    }
  },
  "cells": [
    {
      "outputs": [],
      "cell_type": "code",
      "source": [
        "%matplotlib inline"
      ],
      "metadata": {
        "collapsed": false
      },
      "execution_count": null
    },
    {
      "cell_type": "markdown",
      "metadata": {},
      "source": [
        "\nHeat equation in 2D\n-------------------\n\nThis tutorial simulates the stationary heat equation in 2D. The example is\ntaken from the pyGIMLi paper (https://cg17.pygimli.org).\n\n"
      ]
    },
    {
      "outputs": [],
      "cell_type": "code",
      "source": [
        "import pygimli as pg\nimport pygimli.meshtools as mt"
      ],
      "metadata": {
        "collapsed": false
      },
      "execution_count": null
    },
    {
      "cell_type": "markdown",
      "metadata": {},
      "source": [
        "Create geometry definition for the modelling domain.\n\n"
      ]
    },
    {
      "outputs": [],
      "cell_type": "code",
      "source": [
        "world = mt.createWorld(start=[-20, 0], end=[20, -16], layers=[-2, -8],\n                       worldMarker=False)\n# Create a heterogeneous block\nblock = mt.createRectangle(start=[-6, -3.5], end=[6, -6.0],\n                           marker=4,  boundaryMarker=10, area=0.1)\n# Merge geometrical entities\ngeom = mt.mergePLC([world, block])\npg.show(geom, boundaryMarker=True)"
      ],
      "metadata": {
        "collapsed": false
      },
      "execution_count": null
    },
    {
      "cell_type": "markdown",
      "metadata": {},
      "source": [
        "Create a mesh from based on the geometry definition.\n\n"
      ]
    },
    {
      "outputs": [],
      "cell_type": "code",
      "source": [
        "mesh = mt.createMesh(geom, quality=33, area=0.2, smooth=[1, 10])\npg.show(mesh)"
      ],
      "metadata": {
        "collapsed": false
      },
      "execution_count": null
    },
    {
      "cell_type": "markdown",
      "metadata": {},
      "source": [
        "Call :py:func:`pygimli.solver.solveFiniteElements` to solve the heat\ndiffusion equation $\\nabla\\cdot(a\\nabla T)=0$ with $T(bottom)=1$\nand $T(top)=0$, where $a$ is the thermal diffusivity and $T$\nis the temperature distribution.\n\n"
      ]
    },
    {
      "outputs": [],
      "cell_type": "code",
      "source": [
        "T = pg.solver.solveFiniteElements(mesh,\n                                  a=[[1, 1.0], [2, 2.0], [3, 3.0], [4, 0.1]],\n                                  uB=[[8, 1.0], [4, 0.0]], verbose=True)\n\nax, _ = pg.show(mesh, data=T, label='Temperature $T$', cmap=\"hot_r\")\npg.show(geom, ax=ax, fillRegion=True)\n\n# just hold figure windows open if run outside from spyder, ipython or similar\npg.wait()"
      ],
      "metadata": {
        "collapsed": false
      },
      "execution_count": null
    }
  ]
}