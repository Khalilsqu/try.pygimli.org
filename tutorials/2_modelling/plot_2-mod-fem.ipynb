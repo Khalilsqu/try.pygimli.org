{
  "nbformat": 4,
  "nbformat_minor": 0,
  "metadata": {
    "kernelspec": {
      "display_name": "Python 3",
      "language": "python",
      "name": "python3"
    },
    "language_info": {
      "file_extension": ".py",
      "name": "python",
      "codemirror_mode": {
        "version": 3,
        "name": "ipython"
      },
      "mimetype": "text/x-python",
      "nbconvert_exporter": "python",
      "version": "3.4.3",
      "pygments_lexer": "ipython3"
    }
  },
  "cells": [
    {
      "outputs": [],
      "cell_type": "code",
      "source": [
        "%matplotlib inline"
      ],
      "metadata": {
        "collapsed": false
      },
      "execution_count": null
    },
    {
      "cell_type": "markdown",
      "metadata": {},
      "source": [
        "\n\nModelling\n---------\n\nThis is the first step for the modelling tutorial where we actually use\nfinite elements computation.\n\nWe will not go in deep detail about the finite elements theory here,\nas this can be found in several books, e.g., :cite:`Zienkiewicz1977`\n\nIn this modelling tutorial we just want to solve some simple problems\nto show how the *M* (Modelling) in *GIMLi* works.\n\nWe start with a simple elliptic partial differential equation and\nwith zero boundary values, but a nonzero right hand side.\n\n\\begin{align}\\nabla\\cdot(A \\cdot \\nabla u ) + B u + C & =\n    0 \\quad{\\mathrm{in}}\\quad\\Omega \\\\\n    \\alpha u + \\beta \\frac{\\partial u }{\\partial n} & =\n    0 \\quad{\\mathrm{on}}\\quad\\partial\\Omega\\end{align}\n\nLet $A=1,\\,B=0\\,$ and $C = 1$ we get the simplest Poisson equation:\n\n\\begin{align}- \\Delta u & = 1 \\quad{\\mathrm{in}}\\quad\\Omega\\\\\n             u & = 0 \\quad{\\mathrm{on}}\\quad\\partial\\Omega\\\\\\end{align}\n\n\nModel domain is the unit square: $\\Omega=[-1, 1]^2$\n\nWe start by importing the pygimli package.\n\n"
      ]
    },
    {
      "outputs": [],
      "cell_type": "code",
      "source": [
        "import pygimli as pg\n\nimport numpy as np\nimport matplotlib.pyplot as plt"
      ],
      "metadata": {
        "collapsed": false
      },
      "execution_count": null
    },
    {
      "cell_type": "markdown",
      "metadata": {},
      "source": [
        "We create a grid for our modelling domain with equidistant spacing in x\nand y direction.\n\n"
      ]
    },
    {
      "outputs": [],
      "cell_type": "code",
      "source": [
        "grid = pg.createGrid(x=np.linspace(-1.0, 1.0, 10),\n                     y=np.linspace(-1.0, 1.0, 10))"
      ],
      "metadata": {
        "collapsed": false
      },
      "execution_count": null
    },
    {
      "cell_type": "markdown",
      "metadata": {},
      "source": [
        "Now we can call the solver :py:mod:`pygimli.solver.solve`  for some\ndefault material values and global homogeneous Dirichlet boundary conditions.\n\n"
      ]
    },
    {
      "outputs": [],
      "cell_type": "code",
      "source": [
        "u = pg.solver.solve(grid, f=1.,\n                    uB=[grid.findBoundaryByMarker(1, 5), 0.0],\n                    verbose=True)"
      ],
      "metadata": {
        "collapsed": false
      },
      "execution_count": null
    },
    {
      "cell_type": "markdown",
      "metadata": {},
      "source": [
        "The result is drawn with the function :py:mod:`pygimli.show`.\n\n"
      ]
    },
    {
      "outputs": [],
      "cell_type": "code",
      "source": [
        "ax, cbar = pg.show(grid, data=u, label='P1 Solution $u$')"
      ],
      "metadata": {
        "collapsed": false
      },
      "execution_count": null
    },
    {
      "cell_type": "markdown",
      "metadata": {},
      "source": [
        ":py:mod:`pygimli.show` is just a shortcut for various routines that can also\nbe called directly.\n\n\n"
      ]
    },
    {
      "outputs": [],
      "cell_type": "code",
      "source": [
        "pg.mplviewer.drawMesh(ax, grid)"
      ],
      "metadata": {
        "collapsed": false
      },
      "execution_count": null
    },
    {
      "cell_type": "markdown",
      "metadata": {},
      "source": [
        "We repeat the computation with a spatially (H) refined version of the\noriginal grid.\n\n"
      ]
    },
    {
      "outputs": [],
      "cell_type": "code",
      "source": [
        "gridh2 = grid.createH2()\n\nuh = pg.solver.solve(gridh2, f=1.,\n                     uB=[gridh2.findBoundaryByMarker(1, 5), 0.0],\n                     verbose=True)\n\nax, cbar = pg.show(gridh2, data=uh, label='H2 Solution $u$')\n\npg.mplviewer.drawMesh(ax, gridh2)"
      ],
      "metadata": {
        "collapsed": false
      },
      "execution_count": null
    },
    {
      "cell_type": "markdown",
      "metadata": {},
      "source": [
        "We do the same using quadratic (P) refinement, i.e. the same number of nodes.\n\n"
      ]
    },
    {
      "outputs": [],
      "cell_type": "code",
      "source": [
        "gridp2 = grid.createP2()\n\nup = pg.solver.solve(gridp2, f=1.,\n                     uB=[gridp2.findBoundaryByMarker(1, 5), 0.0],\n                     verbose=True)"
      ],
      "metadata": {
        "collapsed": false
      },
      "execution_count": null
    },
    {
      "cell_type": "markdown",
      "metadata": {},
      "source": [
        "Fortunately there exist an analytical solution for this example.\n\n"
      ]
    },
    {
      "outputs": [],
      "cell_type": "code",
      "source": [
        "def uAna(r):\n    x = r[0]\n    y = r[1]\n\n    ret = 0\n    for k in range(1, 151, 2):\n        kp = k*np.pi\n        s = np.sin(kp * (1. + x)/2) / (k**3 * np.sinh(kp)) * \\\n            (np.sinh(kp * (1. + y)/2) + np.sinh(kp * (1. - y)/2))\n        ret += s\n    return (1. - x**2)/2 - 16./(np.pi**3) * ret"
      ],
      "metadata": {
        "collapsed": false
      },
      "execution_count": null
    },
    {
      "cell_type": "markdown",
      "metadata": {},
      "source": [
        "To compare the different results the in detail we interpolate our solution\nalong a probe line through the domain.\n\n\n"
      ]
    },
    {
      "outputs": [],
      "cell_type": "code",
      "source": [
        "x = np.linspace(-1.0, 1.0, 100)\n\nprobe = np.zeros((len(x), 3))\nprobe[:, 0] = x\n\nuH1 = pg.interpolate(srcMesh=grid, inVec=u, destPos=probe)\nuH2 = pg.interpolate(srcMesh=gridh2, inVec=uh, destPos=probe)\nuP2 = pg.interpolate(srcMesh=gridp2, inVec=up, destPos=probe)\n\nplt.figure()\nplt.plot(x, np.array(list(map(uAna, probe))), 'black', linewidth=2,\n         label='analytical')\nplt.plot(x, uH1, label='linear (H1)')\nplt.plot(x, uH2, label='linear (H2)')\nplt.plot(x, uP2, label='quadratic (P2)')\n\nplt.xlim([-0.4, 0.4])\nplt.ylim([0.25, 0.3])\nplt.legend()\n\n\nplt.show()"
      ],
      "metadata": {
        "collapsed": false
      },
      "execution_count": null
    }
  ]
}