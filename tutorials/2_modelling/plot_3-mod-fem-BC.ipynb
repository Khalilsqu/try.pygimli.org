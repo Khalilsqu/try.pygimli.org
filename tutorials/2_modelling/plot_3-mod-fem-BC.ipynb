{
  "nbformat": 4,
  "nbformat_minor": 0,
  "metadata": {
    "kernelspec": {
      "display_name": "Python 3",
      "language": "python",
      "name": "python3"
    },
    "language_info": {
      "file_extension": ".py",
      "name": "python",
      "codemirror_mode": {
        "version": 3,
        "name": "ipython"
      },
      "mimetype": "text/x-python",
      "nbconvert_exporter": "python",
      "version": "3.4.3",
      "pygments_lexer": "ipython3"
    }
  },
  "cells": [
    {
      "outputs": [],
      "cell_type": "code",
      "source": [
        "%matplotlib inline"
      ],
      "metadata": {
        "collapsed": false
      },
      "execution_count": null
    },
    {
      "cell_type": "markdown",
      "metadata": {},
      "source": [
        "\n\nModelling with Boundary Conditions\n----------------------------------\n\nWe use the preceding example (Poisson equation on the unit square) but want to\nspecify different boundary conditions on the four sides.\n\nAgain, we first import numpy and pygimli, the solver and post processing\nfunctionality.\n\n"
      ]
    },
    {
      "outputs": [],
      "cell_type": "code",
      "source": [
        "import numpy as np\nimport pygimli as pg\n\nfrom pygimli.solver import solve\nfrom pygimli.viewer import show\nfrom pygimli.mplviewer import drawStreams"
      ],
      "metadata": {
        "collapsed": false
      },
      "execution_count": null
    },
    {
      "cell_type": "markdown",
      "metadata": {},
      "source": [
        "We create a 50x50 node grid to solve on.\n\n"
      ]
    },
    {
      "outputs": [],
      "cell_type": "code",
      "source": [
        "grid = pg.createGrid(x=np.linspace(-1.0, 1.0, 21),\n                     y=np.linspace(-1.0, 1.0, 21))"
      ],
      "metadata": {
        "collapsed": false
      },
      "execution_count": null
    },
    {
      "cell_type": "markdown",
      "metadata": {},
      "source": [
        "We start considering inhomogeneous Dirchlet boundary conditions (BC).\nThere are different ways of specifying BCs. They can be maps from markers to\nvalues, explicit functions or implicit (lambda) functions.\n\nThe boundary 1 (top) and 2 (left) are directly mapped to the values 1 and 2.\nOn side 3 (bottom) a lambda function 3+x is used (p is the boundary position\nand p[0] its x coordinate. On side 4 (right) a function uDirichlet is used\nthat simply returns 4 in this example but can compute anything as a function\nof the individual boundaries b.\n\n"
      ]
    },
    {
      "cell_type": "markdown",
      "metadata": {},
      "source": [
        "Short test: setting single node dirichlet BC\n\n"
      ]
    },
    {
      "outputs": [],
      "cell_type": "code",
      "source": [
        "u = solve(grid, f=1., uB=[grid.node(2), 0.])\n\nax, _ = pg.show(grid, u, label='Solution $u$',)\nshow(grid, ax=ax)\n\ndef uDirichlet(b):\n    \"\"\"\n        Return a solution value for coordinate p.\n    \"\"\"\n    return 4.0\n\ndirichletBC = [[1, 1.0],                                    # left\n               [grid.findBoundaryByMarker(2), 2.0],         # right\n               [grid.findBoundaryByMarker(3),\n                lambda p: 3.0 + p.center()[0]],  # top\n               [grid.findBoundaryByMarker(4), uDirichlet]]  # bottom"
      ],
      "metadata": {
        "collapsed": false
      },
      "execution_count": null
    },
    {
      "cell_type": "markdown",
      "metadata": {},
      "source": [
        "The BC are passed using the uBoundary keyword. Note that showMesh returns the\ncreated figure ax ax while drawMesh plots on it and it can also be used as\na class with plotting or decoration methods.\n\n"
      ]
    },
    {
      "outputs": [],
      "cell_type": "code",
      "source": [
        "u = solve(grid, f=1., uB=dirichletBC)\n\nax = show(grid, data=u, colorBar=True,\n          orientation='vertical', label='Solution $u$',\n          levels=np.linspace(1.0, 4.0, 17), hold=1)[0]\n\nshow(grid, ax=ax)\n\nax.text(0, 1.01, '$u=3+x$', ha='center')\nax.text(-1.01, 0, '$u=1$', va='center', ha='right', rotation='vertical')\nax.text(0, -1.01, '$u=4$', ha='center', va='top')\nax.text(1.02, 0, '$u=2$', va='center', ha='left',  rotation='vertical')\n\nax.set_title('$\\\\nabla\\cdot(1\\\\nabla u)=1$')\n\nax.set_xlim([-1.1, 1.1])  # some boundary for the text\nax.set_ylim([-1.1, 1.1])"
      ],
      "metadata": {
        "collapsed": false
      },
      "execution_count": null
    },
    {
      "cell_type": "markdown",
      "metadata": {},
      "source": [
        "Alternatively we can define the gradients of the solution on the boundary,\ni.e., Neumann type BC. This is done with another map (marker, value) and\npassed by the keyword duBoundary.\n\n"
      ]
    },
    {
      "outputs": [],
      "cell_type": "code",
      "source": [
        "neumannBC = [[1, -0.5],  # left\n             [grid.findBoundaryByMarker(4), 2.5]]  # bottom\n\ndirichletBC = [3, 1.0]  # top\n\nu = solve(grid, f=0., duB=neumannBC, uB=dirichletBC)"
      ],
      "metadata": {
        "collapsed": false
      },
      "execution_count": null
    },
    {
      "cell_type": "markdown",
      "metadata": {},
      "source": [
        "Note that on boundary 4 (right) no BC is explicitly applied leading to\ndefault (natural) BC that are of homogeneous Neumann type\n$\\frac{\\partial u}{\\partial n}=0$\n\n"
      ]
    },
    {
      "outputs": [],
      "cell_type": "code",
      "source": [
        "ax = show(grid, data=u, filled=True, colorBar=True,\n          orientation='vertical', label='Solution $u$',\n          levels=np.linspace(min(u), max(u), 14), hold=True)[0]\n\n# Instead of the grid we now want to add streamlines to show the gradients of\n# the solution (i.e., the flow direction).\n\ndrawStreams(ax, grid, u)\n\nax.text(0.0, 1.01, '$u=1$',\n        horizontalalignment='center')  # top -- 3\nax.text(-1.0, 0.0, '$\\partial u/\\partial n=-0.5$',\n        va='center', ha='right', rotation='vertical')  # left -- 1\nax.text(0.0, -1.01, '$\\partial u/\\partial n=2.5$',\n        ha='center', va='top')  # bot -- 4\nax.text(1.01, 0.0, '$\\partial u/\\partial n=0$',\n        va='center', ha='left', rotation='vertical')  # right -- 2\n\nax.set_title('$\\\\nabla\\cdot(1\\\\nabla u)=0$')\n\nax.set_xlim([-1.1, 1.1])\nax.set_ylim([-1.1, 1.1])\n\npg.wait()"
      ],
      "metadata": {
        "collapsed": false
      },
      "execution_count": null
    }
  ]
}