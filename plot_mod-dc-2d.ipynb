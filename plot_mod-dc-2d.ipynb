{
  "nbformat_minor": 0,
  "cells": [
    {
      "source": [
        "%matplotlib inline"
      ],
      "cell_type": "code",
      "execution_count": null,
      "outputs": [],
      "metadata": {
        "collapsed": false
      }
    },
    {
      "cell_type": "markdown",
      "source": [
        "\nGeoelectric in 2.5d\n-------------------\n\nGeoelectrical modeling example in 2.5D."
      ],
      "metadata": {}
    },
    {
      "cell_type": "markdown",
      "source": [
        "Let us start with a mathematical formulation ...\n\n$$\\nabla\\cdot( \\sigma \\nabla u ) = -I\\delta(\\vec{r}-\\vec{r}_{\\text{s}}) \\in R^3$$\n\nFourier-Cosine-Transform\n\n$$\\nabla\\cdot( \\sigma \\nabla u ) & = -I\\delta(\\vec{r}-\\vec{r}_{\\text{s}}) \\in R^2 \\\\\n    \\frac{\\partial u}{\\partial \\vec{n}} & = 0 \\quad\\mathrm{on}\\quad\\text{Surface} z=0$$\n\n"
      ],
      "metadata": {}
    },
    {
      "source": [
        "import pygimli as pg\n\nfrom pygimli.solver import solve\n\nfrom pygimli.viewer import show\nfrom pygimli.mplviewer import *"
      ],
      "cell_type": "code",
      "execution_count": null,
      "outputs": [],
      "metadata": {
        "collapsed": false
      }
    },
    {
      "cell_type": "markdown",
      "source": [
        "Maybe this is usefully. The analytical solution for one source location.\n"
      ],
      "metadata": {}
    },
    {
      "source": [
        "def uAnalytical(p, sourcePos, k):\n    r1A = (p - sourcePos).abs()\n    # Mirror on surface at depth=0\n    r2A = (p - pg.RVector3(1.0, -1.0, 1.0) * sourcePos).abs()\n\n    # need rho here!!!!!!!!!!!!!!!!!!!!!!!!!!!1\n\n    if r1A > 1e-12 and r2A > 1e-12:\n        return (pg.besselK0(r1A * k) + pg.besselK0(r2A *k)) / (2.0 * np.pi)\n    else:\n        return 0."
      ],
      "cell_type": "code",
      "execution_count": null,
      "outputs": [],
      "metadata": {
        "collapsed": false
      }
    },
    {
      "cell_type": "markdown",
      "source": [
        "\nDefine the derivative of the analytical solution regarding the outer normal direction\n$\\vec{n}$. So we can define the value for the Neumann type Boundary\nconditions for the boundaries in the subsurface.\n\n"
      ],
      "metadata": {}
    },
    {
      "source": [
        "def mixedBC(boundary, userData):\n    sourcePos = userData['sourcePos']\n    k = userData['k']\n    r1 = boundary.center() - sourcePos\n    # Mirror on surface at depth=0\n    r2 = boundary.center() - pg.RVector3(1.0, -1.0, 1.0) * sourcePos\n    r1A = r1.abs()\n    r2A = r2.abs()\n\n    n = boundary.norm()\n    # need rho here !!!!!!!!!!!!!!!!!!!!!!!!!!!1\n\n    if r1A > 1e-12 and r2A > 1e-12:\n        return k * ((r1.dot(n)) / r1A * pg.besselK1(r1A * k) +\n                    (r2.dot(n)) / r2A * pg.besselK1(r2A * k)) / \\\n        (pg.besselK0(r1A * k) + pg.besselK0(r2A * k))\n    else:\n        return 0."
      ],
      "cell_type": "code",
      "execution_count": null,
      "outputs": [],
      "metadata": {
        "collapsed": false
      }
    },
    {
      "cell_type": "markdown",
      "source": [
        "\nDefine function for the current source term\n$\\delta(x-pos), \\int f(x) \\delta(x-pos)=f(pos)=N(pos)$\nRight hand side entries will be shape functions(pos)\n\n"
      ],
      "metadata": {}
    },
    {
      "source": [
        "def pointSource(cell, f, userData):\n    sourcePos = userData['sourcePos']\n\n    if cell.shape().isInside(sourcePos):\n        f.setVal(cell.N(cell.shape().rst(sourcePos)), cell.ids())\n\ngrid = pg.createGrid(x=np.linspace(-10.0, 10.0, 21), y=np.linspace(-15.0, .0, 16))\n\n#grid = grid.createH2()\ngrid = grid.createP2()\n\nsourcePosA = [-5.0, -4.0]\nsourcePosB = [ 5.0, -4.0]\n\nneumannBC = [[1, mixedBC], #left boundary\n             [2, mixedBC], #right boundary\n             [4, mixedBC]] #bottom boundary\n\nk = 1e-3\nu = solve(grid, a=1, b=k*k, f=pointSource,\n          duB=neumannBC,\n          userData={'sourcePos': sourcePosA, 'k': k},\n          verbose=True)\n\nu -= solve(grid, a=1, b=k*k, f=pointSource,\n           duB=neumannBC,\n           userData={'sourcePos': sourcePosB, 'k': k},\n           verbose=True)\n\n#uAna = pg.RVector(map(lambda p__: uAnalytical(p__, sourcePosA, k), grid.positions()))\n#uAna -= pg.RVector(map(lambda p__: uAnalytical(p__, sourcePosB, k), grid.positions()))\n\n#err = (1.0 -u/uAna)*100.0\n\n#print \"error min max\", min(err), max(err)\n\nax = show(grid, data=u, filled=True, colorBar=True,\n          orientation='horizontal', label='Solution u')[0]\nshow(grid, axes=ax)\ngridCoarse = pg.createGrid(x=np.linspace(-10.0, 10.0, 20), y=np.linspace(-15.0, .0, 20))\n# Instead of the grid we want to add streamlines to the plot to show the gradients\n# of the solution.\ndrawStreams(ax, grid, u, coarseMesh=gridCoarse, color='Black')\npg.wait()"
      ],
      "cell_type": "code",
      "execution_count": null,
      "outputs": [],
      "metadata": {
        "collapsed": false
      }
    }
  ],
  "nbformat": 4,
  "metadata": {
    "language_info": {
      "codemirror_mode": {
        "version": 3,
        "name": "ipython"
      },
      "nbconvert_exporter": "python",
      "mimetype": "text/x-python",
      "version": "3.5.1",
      "name": "python",
      "pygments_lexer": "ipython3",
      "file_extension": ".py"
    },
    "kernelspec": {
      "language": "python",
      "display_name": "Python 3",
      "name": "python3"
    }
  }
}