{
  "nbformat_minor": 0,
  "cells": [
    {
      "source": [
        "%matplotlib inline"
      ],
      "cell_type": "code",
      "execution_count": null,
      "outputs": [],
      "metadata": {
        "collapsed": false
      }
    },
    {
      "cell_type": "markdown",
      "source": [
        "\nMesh interpolation\n==================\n\nIn this tutorial, we look at the mesh interpolation options in GIMLi. Although\nthe example shown here is in 2D, the same routines can be applied when\nconverting 3D data to a 2D mesh for instance.\n"
      ],
      "metadata": {}
    },
    {
      "source": [
        "import numpy as np\nimport matplotlib.pyplot as plt\n\nimport pygimli as pg\nfrom pygimli.mplviewer import drawMesh, drawModel"
      ],
      "cell_type": "code",
      "execution_count": null,
      "outputs": [],
      "metadata": {
        "collapsed": false
      }
    },
    {
      "cell_type": "markdown",
      "source": [
        "Create coarse and fine mesh with data\n-------------------------------------\n"
      ],
      "metadata": {}
    },
    {
      "source": [
        "def create_mesh_and_data(n):\n    nc = np.linspace(-2.0, 0.0, n)\n    mesh = pg.createMesh2D(nc, nc)\n    mcx = pg.x(mesh.cellCenter())\n    mcy = pg.y(mesh.cellCenter())\n    data = np.cos(1.5 * mcx) * np.sin(1.5 * mcy)\n    return mesh, data\n\ncoarse, coarse_data = create_mesh_and_data(5)\nfine, fine_data = create_mesh_and_data(20)"
      ],
      "cell_type": "code",
      "execution_count": null,
      "outputs": [],
      "metadata": {
        "collapsed": false
      }
    },
    {
      "cell_type": "markdown",
      "source": [
        "Interpolate data to different meshes\n------------------------------------\n\nWe define two functions taking the input mesh, the input data and the output\nmesh as parameters and return the input data interpolated to the output mesh.\n"
      ],
      "metadata": {}
    },
    {
      "source": [
        "def nearest_neighbor_interpolation(inmesh, indata, outmesh, nan=99.9):\n    \"\"\" Nearest neighbor interpolation. \"\"\"\n    outdata = []\n    for pos in outmesh.cellCenters():\n        cell = inmesh.findCell(pos)\n        if cell:\n            outdata.append(indata[cell.id()])\n        else:\n            outdata.append(nan)\n    return outdata\n\n\ndef linear_interpolation(inmesh, indata, outmesh):\n    \"\"\" Linear interpolation using `pg.interpolate()` \"\"\"\n    outdata = pg.RVector()  # empty\n    pg.interpolate(srcMesh=inmesh, inVec=indata,\n                   destPos=outmesh.cellCenters(), outVec=outdata)\n    return outdata"
      ],
      "cell_type": "code",
      "execution_count": null,
      "outputs": [],
      "metadata": {
        "collapsed": false
      }
    },
    {
      "cell_type": "markdown",
      "source": [
        "Visualization\n-------------\n"
      ],
      "metadata": {}
    },
    {
      "source": [
        "meshes = [coarse, fine]\ndatasets = [coarse_data, fine_data]\nints = [nearest_neighbor_interpolation,\n        linear_interpolation]\n\nfig, axes = plt.subplots(2, 2, figsize=(5, 5))\n\n# Coarse data to fine mesh\ndrawModel(axes[0, 0], fine, ints[0](coarse, coarse_data, fine), showCbar=False)\ndrawMesh(axes[0, 0], fine)\ndrawModel(axes[0, 1], fine, ints[1](coarse, coarse_data, fine), showCbar=False)\ndrawMesh(axes[0, 1], fine)\n\n# Fine data to coarse mesh\ndrawModel(axes[1, 0], coarse, ints[0](fine, fine_data, coarse), showCbar=False)\ndrawMesh(axes[1, 0], coarse)\ndrawModel(axes[1, 1], coarse, ints[1](fine, fine_data, coarse), showCbar=False)\ndrawMesh(axes[1, 1], coarse)\n\ntitles = [\"Coarse to fine\\nwith nearest neighbors\",\n          \"Coarse to fine\\nwith linear interpolation\",\n          \"Fine to coarse\\nwith nearest neighbors\",\n          \"Fine to coarse\\nwith linear interpolation\"]\n\nfor a, title in zip(axes.flat, titles):\n    a.set_title(title + \"\\n\")\n\nfig.tight_layout()\nplt.show()"
      ],
      "cell_type": "code",
      "execution_count": null,
      "outputs": [],
      "metadata": {
        "collapsed": false
      }
    }
  ],
  "nbformat": 4,
  "metadata": {
    "language_info": {
      "codemirror_mode": {
        "version": 3,
        "name": "ipython"
      },
      "nbconvert_exporter": "python",
      "mimetype": "text/x-python",
      "version": "3.5.1",
      "name": "python",
      "pygments_lexer": "ipython3",
      "file_extension": ".py"
    },
    "kernelspec": {
      "language": "python",
      "display_name": "Python 3",
      "name": "python3"
    }
  }
}