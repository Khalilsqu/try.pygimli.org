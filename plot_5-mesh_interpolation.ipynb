{
 "cells": [
  {
   "cell_type": "code",
   "execution_count": null,
   "metadata": {
    "collapsed": false
   },
   "outputs": [],
   "source": [
    "%matplotlib inline"
   ]
  },
  {
   "cell_type": "markdown",
   "metadata": {},
   "source": [
    "\n",
    "Mesh interpolation\n",
    "==================\n",
    "\n",
    "In this tutorial, we look at the mesh interpolation options in GIMLi. Although\n",
    "the example shown here is in 2D, the same routines can be applied when\n",
    "converting 3D data to a 2D mesh for instance.\n"
   ]
  },
  {
   "cell_type": "code",
   "execution_count": null,
   "metadata": {
    "collapsed": false
   },
   "outputs": [],
   "source": [
    "import numpy as np\n",
    "import matplotlib.pyplot as plt\n",
    "\n",
    "import pygimli as pg\n",
    "from pygimli.mplviewer import drawMesh, drawModel"
   ]
  },
  {
   "cell_type": "markdown",
   "metadata": {},
   "source": [
    "Create coarse and fine mesh with data\n",
    "-------------------------------------\n"
   ]
  },
  {
   "cell_type": "code",
   "execution_count": null,
   "metadata": {
    "collapsed": false
   },
   "outputs": [],
   "source": [
    "def create_mesh_and_data(n):\n",
    "    nc = np.linspace(-2.0, 0.0, n)\n",
    "    mesh = pg.createMesh2D(nc, nc)\n",
    "    mcx = pg.x(mesh.cellCenter())\n",
    "    mcy = pg.y(mesh.cellCenter())\n",
    "    data = np.cos(1.5 * mcx) * np.sin(1.5 * mcy)\n",
    "    return mesh, data\n",
    "\n",
    "coarse, coarse_data = create_mesh_and_data(5)\n",
    "fine, fine_data = create_mesh_and_data(20)"
   ]
  },
  {
   "cell_type": "markdown",
   "metadata": {},
   "source": [
    "Interpolate data to different meshes\n",
    "------------------------------------\n",
    "\n",
    "We define two functions taking the input mesh, the input data and the output\n",
    "mesh as parameters and return the input data interpolated to the output mesh.\n"
   ]
  },
  {
   "cell_type": "code",
   "execution_count": null,
   "metadata": {
    "collapsed": false
   },
   "outputs": [],
   "source": [
    "def nearest_neighbor_interpolation(inmesh, indata, outmesh, nan=99.9):\n",
    "    \"\"\" Nearest neighbor interpolation. \"\"\"\n",
    "    outdata = []\n",
    "    for pos in outmesh.cellCenters():\n",
    "        cell = inmesh.findCell(pos)\n",
    "        if cell:\n",
    "            outdata.append(indata[cell.id()])\n",
    "        else:\n",
    "            outdata.append(nan)\n",
    "    return outdata\n",
    "\n",
    "\n",
    "def linear_interpolation(inmesh, indata, outmesh):\n",
    "    \"\"\" Linear interpolation using `pg.interpolate()` \"\"\"\n",
    "    outdata = pg.RVector()  # empty\n",
    "    pg.interpolate(srcMesh=inmesh, inVec=indata,\n",
    "                   destPos=outmesh.cellCenters(), outVec=outdata)\n",
    "    return outdata"
   ]
  },
  {
   "cell_type": "markdown",
   "metadata": {},
   "source": [
    "Visualization\n",
    "-------------\n"
   ]
  },
  {
   "cell_type": "code",
   "execution_count": null,
   "metadata": {
    "collapsed": false
   },
   "outputs": [],
   "source": [
    "meshes = [coarse, fine]\n",
    "datasets = [coarse_data, fine_data]\n",
    "ints = [nearest_neighbor_interpolation,\n",
    "        linear_interpolation]\n",
    "\n",
    "fig, axes = plt.subplots(2, 2, figsize=(5, 5))\n",
    "\n",
    "# Coarse data to fine mesh\n",
    "drawModel(axes[0, 0], fine, ints[0](coarse, coarse_data, fine), showCbar=False)\n",
    "drawMesh(axes[0, 0], fine)\n",
    "drawModel(axes[0, 1], fine, ints[1](coarse, coarse_data, fine), showCbar=False)\n",
    "drawMesh(axes[0, 1], fine)\n",
    "\n",
    "# Fine data to coarse mesh\n",
    "drawModel(axes[1, 0], coarse, ints[0](fine, fine_data, coarse), showCbar=False)\n",
    "drawMesh(axes[1, 0], coarse)\n",
    "drawModel(axes[1, 1], coarse, ints[1](fine, fine_data, coarse), showCbar=False)\n",
    "drawMesh(axes[1, 1], coarse)\n",
    "\n",
    "titles = [\"Coarse to fine\\nwith nearest neighbors\",\n",
    "          \"Coarse to fine\\nwith linear interpolation\",\n",
    "          \"Fine to coarse\\nwith nearest neighbors\",\n",
    "          \"Fine to coarse\\nwith linear interpolation\"]\n",
    "\n",
    "for a, title in zip(axes.flat, titles):\n",
    "    a.set_title(title + \"\\n\")\n",
    "\n",
    "fig.tight_layout()\n",
    "plt.show()"
   ]
  }
 ],
 "metadata": {
  "kernelspec": {
   "display_name": "Python 2",
   "language": "python2",
   "name": "python2"
  },
  "language_info": {
   "codemirror_mode": {
    "name": "ipython",
    "version": 2
   },
   "file_extension": ".py",
   "mimetype": "text/x-python",
   "name": "python",
   "nbconvert_exporter": "python",
   "pygments_lexer": "ipython2",
   "version": "2.7.11"
  }
 },
 "nbformat": 4,
 "nbformat_minor": 0
}
