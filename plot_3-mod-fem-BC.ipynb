{
 "cells": [
  {
   "cell_type": "code",
   "execution_count": null,
   "metadata": {
    "collapsed": false
   },
   "outputs": [],
   "source": [
    "%matplotlib inline"
   ]
  },
  {
   "cell_type": "markdown",
   "metadata": {},
   "source": [
    "\n",
    "\n",
    "Modelling with Boundary Conditions\n",
    "----------------------------------\n",
    "\n",
    "We use the preceding example (Poisson equation on the unit square) but want to\n",
    "specify different boundary conditions on the four sides.\n",
    "\n",
    "Again, we first import numpy and pygimli, the solver and post processing\n",
    "functionality.\n"
   ]
  },
  {
   "cell_type": "code",
   "execution_count": null,
   "metadata": {
    "collapsed": false
   },
   "outputs": [],
   "source": [
    "import numpy as np\n",
    "import pygimli as pg\n",
    "\n",
    "from pygimli.solver import solve\n",
    "from pygimli.viewer import show\n",
    "from pygimli.mplviewer import drawStreams"
   ]
  },
  {
   "cell_type": "markdown",
   "metadata": {},
   "source": [
    "We create a 50x50 node grid to solve on.\n"
   ]
  },
  {
   "cell_type": "code",
   "execution_count": null,
   "metadata": {
    "collapsed": false
   },
   "outputs": [],
   "source": [
    "grid = pg.createGrid(x=np.linspace(-1.0, 1.0, 21),\n",
    "                     y=np.linspace(-1.0, 1.0, 21))"
   ]
  },
  {
   "cell_type": "markdown",
   "metadata": {},
   "source": [
    "We start considering inhomogeneous Dirchlet boundary conditions (BC).\n",
    "There are different ways of specifying BCs. They can be maps from markers to\n",
    "values, explicit functions or implicit (lambda) functions.\n",
    "\n",
    "The boundary 1 (top) and 2 (left) are directly mapped to the values 1 and 2.\n",
    "On side 3 (bottom) a lambda function 3+x is used (p is the boundary position\n",
    "and p[0] its x coordinate. On side 4 (right) a function uDirichlet is used\n",
    "that simply returns 4 in this example but can compute anything as a function\n",
    "of the individual boundaries b.\n"
   ]
  },
  {
   "cell_type": "code",
   "execution_count": null,
   "metadata": {
    "collapsed": false
   },
   "outputs": [],
   "source": [
    "def uDirichlet(b):\n",
    "    \"\"\"\n",
    "        Return a solution value for coordinate p.\n",
    "    \"\"\"\n",
    "    return 4.0\n",
    "\n",
    "dirichletBC = [[1, 1.0],                                    # left\n",
    "               [grid.findBoundaryByMarker(2), 2.0],         # right\n",
    "               [grid.findBoundaryByMarker(3),\n",
    "                lambda p: 3.0 + p.center()[0]],  # top\n",
    "               [grid.findBoundaryByMarker(4), uDirichlet]]  # bottom"
   ]
  },
  {
   "cell_type": "markdown",
   "metadata": {},
   "source": [
    "The BC are passed using the uBoundary keyword. Note that showMesh returns the\n",
    "created figure axes ax while drawMesh plots on it and it can also be used as\n",
    "a class with plotting or decoration methods.\n"
   ]
  },
  {
   "cell_type": "code",
   "execution_count": null,
   "metadata": {
    "collapsed": false
   },
   "outputs": [],
   "source": [
    "u = solve(grid, f=1., uB=dirichletBC)\n",
    "\n",
    "ax = show(grid, data=u, colorBar=True,\n",
    "          orientation='vertical', label='Solution $u$',\n",
    "          levels=np.linspace(1.0, 4.0, 17), hold=1)[0]\n",
    "\n",
    "show(grid, axes=ax)\n",
    "\n",
    "ax.text(0, 1.01, '$u=3+x$', ha='center')\n",
    "ax.text(-1.01, 0, '$u=1$', va='center', ha='right', rotation='vertical')\n",
    "ax.text(0, -1.01, '$u=4$', ha='center', va='top')\n",
    "ax.text(1.02, 0, '$u=2$', va='center', ha='left',  rotation='vertical')\n",
    "\n",
    "ax.set_title('$\\\\nabla\\cdot(1\\\\nabla u)=1$')\n",
    "\n",
    "ax.set_xlim([-1.1, 1.1])  # some boundary for the text\n",
    "ax.set_ylim([-1.1, 1.1])"
   ]
  },
  {
   "cell_type": "markdown",
   "metadata": {},
   "source": [
    "\n",
    "Alternatively we can define the gradients of the solution on the boundary,\n",
    "i.e., Neumann type BC. This is done with another map (marker, value) and\n",
    "passed by the keyword duBoundary.\n"
   ]
  },
  {
   "cell_type": "code",
   "execution_count": null,
   "metadata": {
    "collapsed": false
   },
   "outputs": [],
   "source": [
    "neumannBC = [[1, -0.5],  # left\n",
    "             [grid.findBoundaryByMarker(4), 2.5]]  # bottom\n",
    "\n",
    "dirichletBC = [3, 1.0]  # top\n",
    "\n",
    "u = solve(grid, f=0., duB=neumannBC, uB=dirichletBC)"
   ]
  },
  {
   "cell_type": "markdown",
   "metadata": {},
   "source": [
    "Note that on boundary 4 (right) no BC is explicitly applied leading to\n",
    "default (natural) BC that are of homogeneous Neumann type\n",
    "$\\frac{\\partial u}{\\partial n}=0$\n"
   ]
  },
  {
   "cell_type": "code",
   "execution_count": null,
   "metadata": {
    "collapsed": false
   },
   "outputs": [],
   "source": [
    "ax = show(grid, data=u, filled=True, colorBar=True,\n",
    "          orientation='vertical', label='Solution $u$',\n",
    "          levels=np.linspace(min(u), max(u), 14), hold=1)[0]"
   ]
  },
  {
   "cell_type": "markdown",
   "metadata": {},
   "source": [
    "Instead of the grid we now want to add streamlines to show the gradients of\n",
    "the solution (i.e., the flow direction).\n"
   ]
  },
  {
   "cell_type": "code",
   "execution_count": null,
   "metadata": {
    "collapsed": false
   },
   "outputs": [],
   "source": [
    "drawStreams(ax, grid, u)\n",
    "\n",
    "ax.text(0.0, 1.01, '$u=1$',\n",
    "        horizontalalignment='center')  # top -- 3\n",
    "ax.text(-1.0, 0.0, '$\\partial u/\\partial n=-0.5$',\n",
    "        va='center', ha='right', rotation='vertical')  # left -- 1\n",
    "ax.text(0.0, -1.01, '$\\partial u/\\partial n=2.5$',\n",
    "        ha='center', va='top')  # bot -- 4\n",
    "ax.text(1.01, 0.0, '$\\partial u/\\partial n=0$',\n",
    "        va='center', ha='left', rotation='vertical')  # right -- 2\n",
    "\n",
    "ax.set_title('$\\\\nabla\\cdot(1\\\\nabla u)=0$')\n",
    "\n",
    "ax.set_xlim([-1.1, 1.1])\n",
    "ax.set_ylim([-1.1, 1.1])\n",
    "\n",
    "pg.wait()"
   ]
  }
 ],
 "metadata": {
  "kernelspec": {
   "display_name": "Python 2",
   "language": "python2",
   "name": "python2"
  },
  "language_info": {
   "codemirror_mode": {
    "name": "ipython",
    "version": 2
   },
   "file_extension": ".py",
   "mimetype": "text/x-python",
   "name": "python",
   "nbconvert_exporter": "python",
   "pygments_lexer": "ipython2",
   "version": "2.7.11"
  }
 },
 "nbformat": 4,
 "nbformat_minor": 0
}
