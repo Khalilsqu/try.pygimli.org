{
  "nbformat_minor": 0,
  "cells": [
    {
      "source": [
        "%matplotlib inline"
      ],
      "cell_type": "code",
      "execution_count": null,
      "outputs": [],
      "metadata": {
        "collapsed": false
      }
    },
    {
      "cell_type": "markdown",
      "source": [
        "\n\nModelling\n---------\n\nThis is the first step for the modelling tutorial where we actually use\nfinite elements computation.\n\nWe will not go in deep detail about the finite elements theory here,\nas this can be found in several books, e.g., :cite:`Zienkiewicz1977`\n\nIn this modelling tutorial we just want to solve some simple problems\nto show how the *M* (Modelling) in *GIMLi* works.\n\nWe start with a simple elliptic partial differential equation and\nwith zero boundary values, but a nonzero right hand side.\n\n$$\\nabla\\cdot(A \\cdot \\nabla u ) + B u + C & =\n    0 \\quad{\\mathrm{in}}\\quad\\Omega \\\\\n    \\alpha u + \\beta \\frac{\\partial u }{\\partial n} & =\n    0 \\quad{\\mathrm{on}}\\quad\\partial\\Omega$$\n\nLet $A=1,\\,B=0\\,` and :math:`C = 1$ we get the simplest Poisson equation:\n\n$$- \\Delta u & = 1 \\quad{\\mathrm{in}}\\quad\\Omega\\\\\n             u & = 0 \\quad{\\mathrm{on}}\\quad\\partial\\Omega\\\\$$\n\n\nModel domain is the unit square: $\\Omega=[-1, 1]^2$\n\nWe start by importing the pygimli package.\n"
      ],
      "metadata": {}
    },
    {
      "source": [
        "import pygimli as pg\n\nimport numpy as np\nimport matplotlib.pyplot as plt"
      ],
      "cell_type": "code",
      "execution_count": null,
      "outputs": [],
      "metadata": {
        "collapsed": false
      }
    },
    {
      "cell_type": "markdown",
      "source": [
        "We create a grid for our modelling domain with equidistant spacing in x\nand y direction.\n"
      ],
      "metadata": {}
    },
    {
      "source": [
        "grid = pg.createGrid(x=np.linspace(-1.0, 1.0, 10),\n                     y=np.linspace(-1.0, 1.0, 10))"
      ],
      "cell_type": "code",
      "execution_count": null,
      "outputs": [],
      "metadata": {
        "collapsed": false
      }
    },
    {
      "cell_type": "markdown",
      "source": [
        "Now we can call the solver :py:mod:`pygimli.solver.solve`  for some\ndefault material values and global homogeneous Dirichlet boundary conditions.\n"
      ],
      "metadata": {}
    },
    {
      "source": [
        "u = pg.solver.solve(grid, f=1.,\n                    uB=[grid.findBoundaryByMarker(1, 5), 0.0],\n                    verbose=True)"
      ],
      "cell_type": "code",
      "execution_count": null,
      "outputs": [],
      "metadata": {
        "collapsed": false
      }
    },
    {
      "cell_type": "markdown",
      "source": [
        "The result is drawn with the function :py:mod:`pygimli.show`.\n"
      ],
      "metadata": {}
    },
    {
      "source": [
        "ax, cbar = pg.show(grid, data=u, colorBar=True, label='P1 Solution $u$')"
      ],
      "cell_type": "code",
      "execution_count": null,
      "outputs": [],
      "metadata": {
        "collapsed": false
      }
    },
    {
      "cell_type": "markdown",
      "source": [
        ":py:mod:`pygimli.show` is just a shortcut for various routines that can also\nbe called directly.\n\n"
      ],
      "metadata": {}
    },
    {
      "source": [
        "pg.mplviewer.drawMesh(ax, grid)"
      ],
      "cell_type": "code",
      "execution_count": null,
      "outputs": [],
      "metadata": {
        "collapsed": false
      }
    },
    {
      "cell_type": "markdown",
      "source": [
        "\nWe repeat the computation with a spatially (H) refined version of the\noriginal grid.\n"
      ],
      "metadata": {}
    },
    {
      "source": [
        "gridh2 = grid.createH2()\n\nuh = pg.solver.solve(gridh2, f=1.,\n                     uB=[gridh2.findBoundaryByMarker(1, 5), 0.0],\n                     verbose=True)\n\nax, cbar = pg.show(gridh2, data=uh, colorBar=True, label='H2 Solution $u$')\n\npg.mplviewer.drawMesh(ax, gridh2)"
      ],
      "cell_type": "code",
      "execution_count": null,
      "outputs": [],
      "metadata": {
        "collapsed": false
      }
    },
    {
      "cell_type": "markdown",
      "source": [
        "\nWe do the same using quadratic (P) refinement, i.e. the same number of nodes.\n"
      ],
      "metadata": {}
    },
    {
      "source": [
        "gridp2 = grid.createP2()\n\nup = pg.solver.solve(gridp2, f=1.,\n                     uB=[gridp2.findBoundaryByMarker(1, 5), 0.0],\n                     verbose=True)"
      ],
      "cell_type": "code",
      "execution_count": null,
      "outputs": [],
      "metadata": {
        "collapsed": false
      }
    },
    {
      "cell_type": "markdown",
      "source": [
        "Fortunately there exist an analytical solution for this example.\n"
      ],
      "metadata": {}
    },
    {
      "source": [
        "def uAna(r):\n    x = r[0]\n    y = r[1]\n\n    ret = 0\n    for k in range(1, 151, 2):\n        kp = k*np.pi\n        s = np.sin(kp * (1. + x)/2) / (k**3 * np.sinh(kp)) * \\\n            (np.sinh(kp * (1. + y)/2) + np.sinh(kp * (1. - y)/2))\n        ret += s\n    return (1. - x**2)/2 - 16./(np.pi**3) * ret"
      ],
      "cell_type": "code",
      "execution_count": null,
      "outputs": [],
      "metadata": {
        "collapsed": false
      }
    },
    {
      "cell_type": "markdown",
      "source": [
        "To compare the different results the in detail we interpolate our solution\nalong a probe line through the domain.\n\n"
      ],
      "metadata": {}
    },
    {
      "source": [
        "x = np.linspace(-1.0, 1.0, 100)\n\nprobe = np.zeros((len(x), 3))\nprobe[:, 0] = x\n\nuH1 = pg.interpolate(srcMesh=grid, inVec=u, destPos=probe)\nuH2 = pg.interpolate(srcMesh=gridh2, inVec=uh, destPos=probe)\nuP2 = pg.interpolate(srcMesh=gridp2, inVec=up, destPos=probe)\n\nplt.figure()\nplt.plot(x, np.array(list(map(uAna, probe))), 'black', linewidth=2,\n         label='analytical')\nplt.plot(x, uH1, label='linear (H1)')\nplt.plot(x, uH2, label='linear (H2)')\nplt.plot(x, uP2, label='quadratic (P2)')\n\nplt.xlim([-0.4, 0.4])\nplt.ylim([0.25, 0.3])\nplt.legend()\n\n\nplt.show()"
      ],
      "cell_type": "code",
      "execution_count": null,
      "outputs": [],
      "metadata": {
        "collapsed": false
      }
    }
  ],
  "nbformat": 4,
  "metadata": {
    "language_info": {
      "codemirror_mode": {
        "version": 3,
        "name": "ipython"
      },
      "nbconvert_exporter": "python",
      "mimetype": "text/x-python",
      "version": "3.5.1",
      "name": "python",
      "pygments_lexer": "ipython3",
      "file_extension": ".py"
    },
    "kernelspec": {
      "language": "python",
      "display_name": "Python 3",
      "name": "python3"
    }
  }
}