{
 "cells": [
  {
   "cell_type": "code",
   "execution_count": null,
   "metadata": {
    "collapsed": false
   },
   "outputs": [],
   "source": [
    "%matplotlib inline"
   ]
  },
  {
   "cell_type": "markdown",
   "metadata": {},
   "source": [
    "\n",
    "\n",
    "Modelling\n",
    "---------\n",
    "\n",
    "This is the first step for the modelling tutorial where we actually use\n",
    "finite elements computation.\n",
    "\n",
    "We will not go in deep detail about the finite elements theory here,\n",
    "as this can be found in several books, e.g., :cite:`Zienkiewicz1977`\n",
    "\n",
    "In this modelling tutorial we just want to solve some simple problems\n",
    "to show how the *M* (Modelling) in *GIMLi* works.\n",
    "\n",
    "We start with a simple elliptic partial differential equation and\n",
    "with zero boundary values, but a nonzero right hand side.\n",
    "\n",
    "$$\\nabla\\cdot(A \\cdot \\nabla u ) + B u + C & =\n",
    "    0 \\quad{\\mathrm{in}}\\quad\\Omega \\\\\n",
    "    \\alpha u + \\beta \\frac{\\partial u }{\\partial n} & =\n",
    "    0 \\quad{\\mathrm{on}}\\quad\\partial\\Omega$$\n",
    "\n",
    "Let $A=1,\\,B=0\\,` and :math:`C = 1$ we get the simplest Poisson equation:\n",
    "\n",
    "$$- \\Delta u & = 1 \\quad{\\mathrm{in}}\\quad\\Omega\\\\\n",
    "             u & = 0 \\quad{\\mathrm{on}}\\quad\\partial\\Omega\\\\$$\n",
    "\n",
    "\n",
    "Model domain is the unit square: $\\Omega=[-1, 1]^2$\n",
    "\n",
    "We start by importing the pygimli package.\n"
   ]
  },
  {
   "cell_type": "code",
   "execution_count": null,
   "metadata": {
    "collapsed": false
   },
   "outputs": [],
   "source": [
    "import pygimli as pg\n",
    "\n",
    "import numpy as np\n",
    "import matplotlib.pyplot as plt"
   ]
  },
  {
   "cell_type": "markdown",
   "metadata": {},
   "source": [
    "We create a grid for our modelling domain with equidistant spacing in x\n",
    "and y direction.\n"
   ]
  },
  {
   "cell_type": "code",
   "execution_count": null,
   "metadata": {
    "collapsed": false
   },
   "outputs": [],
   "source": [
    "grid = pg.createGrid(x=np.linspace(-1.0, 1.0, 10),\n",
    "                     y=np.linspace(-1.0, 1.0, 10))"
   ]
  },
  {
   "cell_type": "markdown",
   "metadata": {},
   "source": [
    "Now we can call the solver :py:mod:`pygimli.solver.solve`  for some\n",
    "default material values and global homogeneous Dirichlet boundary conditions.\n"
   ]
  },
  {
   "cell_type": "code",
   "execution_count": null,
   "metadata": {
    "collapsed": false
   },
   "outputs": [],
   "source": [
    "u = pg.solver.solve(grid, f=1.,\n",
    "                    uB=[grid.findBoundaryByMarker(1, 5), 0.0],\n",
    "                    verbose=True)"
   ]
  },
  {
   "cell_type": "markdown",
   "metadata": {},
   "source": [
    "The result is drawn with the function :py:mod:`pygimli.show`.\n"
   ]
  },
  {
   "cell_type": "code",
   "execution_count": null,
   "metadata": {
    "collapsed": false
   },
   "outputs": [],
   "source": [
    "ax, cbar = pg.show(grid, data=u, colorBar=True, label='P1 Solution $u$')"
   ]
  },
  {
   "cell_type": "markdown",
   "metadata": {},
   "source": [
    ":py:mod:`pygimli.show` is just a shortcut for various routines that can also\n",
    "be called directly.\n",
    "\n"
   ]
  },
  {
   "cell_type": "code",
   "execution_count": null,
   "metadata": {
    "collapsed": false
   },
   "outputs": [],
   "source": [
    "pg.mplviewer.drawMesh(ax, grid)"
   ]
  },
  {
   "cell_type": "markdown",
   "metadata": {},
   "source": [
    "\n",
    "We repeat the computation with a spatially (H) refined version of the\n",
    "original grid.\n"
   ]
  },
  {
   "cell_type": "code",
   "execution_count": null,
   "metadata": {
    "collapsed": false
   },
   "outputs": [],
   "source": [
    "gridh2 = grid.createH2()\n",
    "\n",
    "uh = pg.solver.solve(gridh2, f=1.,\n",
    "                     uB=[gridh2.findBoundaryByMarker(1, 5), 0.0],\n",
    "                     verbose=True)\n",
    "\n",
    "ax, cbar = pg.show(gridh2, data=uh, colorBar=True, label='H2 Solution $u$')\n",
    "\n",
    "pg.mplviewer.drawMesh(ax, gridh2)"
   ]
  },
  {
   "cell_type": "markdown",
   "metadata": {},
   "source": [
    "\n",
    "We do the same using quadratic (P) refinement, i.e. the same number of nodes.\n"
   ]
  },
  {
   "cell_type": "code",
   "execution_count": null,
   "metadata": {
    "collapsed": false
   },
   "outputs": [],
   "source": [
    "gridp2 = grid.createP2()\n",
    "\n",
    "up = pg.solver.solve(gridp2, f=1.,\n",
    "                     uB=[gridp2.findBoundaryByMarker(1, 5), 0.0],\n",
    "                     verbose=True)"
   ]
  },
  {
   "cell_type": "markdown",
   "metadata": {},
   "source": [
    "Fortunately there exist an analytical solution for this example.\n"
   ]
  },
  {
   "cell_type": "code",
   "execution_count": null,
   "metadata": {
    "collapsed": false
   },
   "outputs": [],
   "source": [
    "def uAna(r):\n",
    "    x = r[0]\n",
    "    y = r[1]\n",
    "\n",
    "    ret = 0\n",
    "    for k in range(1, 151, 2):\n",
    "        kp = k*np.pi\n",
    "        s = np.sin(kp * (1. + x)/2) / (k**3 * np.sinh(kp)) * \\\n",
    "            (np.sinh(kp * (1. + y)/2) + np.sinh(kp * (1. - y)/2))\n",
    "        ret += s\n",
    "    return (1. - x**2)/2 - 16./(np.pi**3) * ret"
   ]
  },
  {
   "cell_type": "markdown",
   "metadata": {},
   "source": [
    "To compare the different results the in detail we interpolate our solution\n",
    "along a probe line through the domain.\n",
    "\n"
   ]
  },
  {
   "cell_type": "code",
   "execution_count": null,
   "metadata": {
    "collapsed": false
   },
   "outputs": [],
   "source": [
    "x = np.linspace(-1.0, 1.0, 100)\n",
    "\n",
    "probe = np.zeros((len(x), 3))\n",
    "probe[:, 0] = x\n",
    "\n",
    "uH1 = pg.interpolate(srcMesh=grid, inVec=u, destPos=probe)\n",
    "uH2 = pg.interpolate(srcMesh=gridh2, inVec=uh, destPos=probe)\n",
    "uP2 = pg.interpolate(srcMesh=gridp2, inVec=up, destPos=probe)\n",
    "\n",
    "plt.figure()\n",
    "plt.plot(x, np.array(list(map(uAna, probe))), 'black', linewidth=2,\n",
    "         label='analytical')\n",
    "plt.plot(x, uH1, label='linear (H1)')\n",
    "plt.plot(x, uH2, label='linear (H2)')\n",
    "plt.plot(x, uP2, label='quadratic (P2)')\n",
    "\n",
    "plt.xlim([-0.4, 0.4])\n",
    "plt.ylim([0.25, 0.3])\n",
    "plt.legend()\n",
    "\n",
    "\n",
    "plt.show()"
   ]
  }
 ],
 "metadata": {
  "kernelspec": {
   "display_name": "Python 2",
   "language": "python2",
   "name": "python2"
  },
  "language_info": {
   "codemirror_mode": {
    "name": "ipython",
    "version": 2
   },
   "file_extension": ".py",
   "mimetype": "text/x-python",
   "name": "python",
   "nbconvert_exporter": "python",
   "pygments_lexer": "ipython2",
   "version": "2.7.11"
  }
 },
 "nbformat": 4,
 "nbformat_minor": 0
}
