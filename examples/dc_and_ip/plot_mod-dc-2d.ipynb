{
  "nbformat": 4,
  "nbformat_minor": 0,
  "metadata": {
    "kernelspec": {
      "display_name": "Python 3",
      "language": "python",
      "name": "python3"
    },
    "language_info": {
      "file_extension": ".py",
      "name": "python",
      "codemirror_mode": {
        "version": 3,
        "name": "ipython"
      },
      "mimetype": "text/x-python",
      "nbconvert_exporter": "python",
      "version": "3.4.3",
      "pygments_lexer": "ipython3"
    }
  },
  "cells": [
    {
      "outputs": [],
      "cell_type": "code",
      "source": [
        "%matplotlib inline"
      ],
      "metadata": {
        "collapsed": false
      },
      "execution_count": null
    },
    {
      "cell_type": "markdown",
      "metadata": {},
      "source": [
        "\nGeoelectrics in 2.5D\n--------------------\n\nGeoelectrical modeling example in 2.5D. CR\n"
      ]
    },
    {
      "cell_type": "markdown",
      "metadata": {},
      "source": [
        "Let us start with a mathematical formulation ...\n\n\\begin{align}\\nabla\\cdot(\\sigma\\nabla u)=-I\\delta(\\vec{r}-\\vec{r}_{\\text{s}}) \\in R^3\\end{align}\n\nThe source term is 3 dimensional but the distribution of the electrical\nconductivity $\\sigma(x,y)$ should by 2 dimensional so we need a\nFourier-Cosine-Transform from $u(x,y,z) \\mapsto u(x,y,k)$ with the\nwavenumber $k$\n\n\\begin{align}\\nabla\\cdot( \\sigma \\nabla u ) - \\sigma k^2 u\n    &=-I\\delta(\\vec{r}-\\vec{r}_{\\text{s}}) \\in R^2 \\\\\n    \\frac{\\partial }{\\partial x} \\left(\\cdot( \\sigma\n    \\frac{\\partial u}{\\partial x}\\right) + \\frac{\\partial }{\\partial y} \\left(\\cdot(\\sigma\n    \\frac{\\partial u}{\\partial y}\\right) - \\sigma k^2 u & =\n    -I\\delta(x-x_{\\text{s}})\\delta(y-y_{\\text{s}}) \\in R^2 \\\\\n    \\frac{\\partial u}{\\partial \\vec{n}} & = 0 \\quad\\mathrm{on}\\quad\\text{Surface} z=0\\end{align}\n\n\n"
      ]
    },
    {
      "outputs": [],
      "cell_type": "code",
      "source": [
        "import numpy as np\nimport pygimli as pg\n\nfrom pygimli.solver import solve\n\nfrom pygimli.viewer import show\nfrom pygimli.mplviewer import drawStreams\n\n\ndef uAnalytical(p, sourcePos, k):\n    \"\"\"Analytical solution for one source location.\"\"\"\n    r1A = (p - sourcePos).abs()\n    # Mirror on surface at depth=0\n    r2A = (p - pg.RVector3(1.0, -1.0, 1.0) * sourcePos).abs()\n\n    # need rho here!!!!!!!!!!!!!!!!!!!!!!!!!!!1\n\n    if r1A > 1e-12 and r2A > 1e-12:\n        return (pg.besselK0(r1A * k) + pg.besselK0(r2A * k)) / (2.0 * np.pi)\n    else:\n        return 0.\n\n\ndef mixedBC(boundary, userData):\n    \"\"\"Mixed boundary conditions.\n\n    Define the derivative of the analytical solution regarding the outer normal\n    direction :math:`\\vec{n}`. So we can define the value for the Neumann type\n    Boundary conditions for the boundaries in the subsurface.\n    \"\"\"\n    sourcePos = userData['sourcePos']\n    k = userData['k']\n    r1 = boundary.center() - sourcePos\n    # Mirror on surface at depth=0\n    r2 = boundary.center() - pg.RVector3(1.0, -1.0, 1.0) * sourcePos\n    r1A = r1.abs()\n    r2A = r2.abs()\n\n    n = boundary.norm()\n    # need rho here !!!!!!!!!!!!!!!!!!!!!!!!!!!1\n\n    if r1A > 1e-12 and r2A > 1e-12:\n        return k * ((r1.dot(n)) / r1A * pg.besselK1(r1A * k) +\n                    (r2.dot(n)) / r2A * pg.besselK1(r2A * k)) / \\\n            (pg.besselK0(r1A * k) + pg.besselK0(r2A * k))\n    else:\n        return 0."
      ],
      "metadata": {
        "collapsed": false
      },
      "execution_count": null
    },
    {
      "outputs": [],
      "cell_type": "code",
      "source": [
        "def pointSource(cell, f, userData):\n    \"\"\"Define function for the current source term.\n\n    :math:`\\delta(x-pos), \\int f(x) \\delta(x-pos)=f(pos)=N(pos)`\n    Right hand side entries will be shape functions(pos)\n    \"\"\"\n    sourcePos = userData['sourcePos']\n\n    if cell.shape().isInside(sourcePos):\n        f.setVal(cell.N(cell.shape().rst(sourcePos)), cell.ids())\n\ndx = 0.5\ngrid = pg.createGrid(x=np.arange(-10.0, 10.0+dx, dx),\n                     y=np.arange(-15.0, .0+dx, dx))\n# grid = pg.createGrid(x=np.linspace(-10.0, 10.0, 21),\n#                      y=np.linspace(-15.0, .0, 16))\n\ngrid = grid.createP2()\n\nsourcePosA = [-5.0, -4.0]\nsourcePosB = [+5.0, -4.0]\n\nneumannBC = [[1, mixedBC],  # left boundary\n             [2, mixedBC],  # right boundary\n             [4, mixedBC]]  # bottom boundary\n\nk = 1e-3\nsigma = 1\nu = solve(grid, a=sigma, b=sigma * k*k, f=pointSource,\n          duB=neumannBC,\n          userData={'sourcePos': sourcePosA, 'k': k},\n          verbose=True)\n\nu -= solve(grid, a=sigma, b=sigma * k*k, f=pointSource,\n           duB=neumannBC,\n           userData={'sourcePos': sourcePosB, 'k': k},\n           verbose=True)\n\n# uAna = pg.RVector(map(lambda p__: uAnalytical(p__, sourcePosA, k),\n#                       grid.positions()))\n# uAna -= pg.RVector(map(lambda p__: uAnalytical(p__, sourcePosB, k),\n#                        grid.positions()))\n\n# err = (1.0 -u/uAna) * 100.0\n\n# print(\"error min max\", min(err), max(err))\n\nax = show(grid, data=u, filled=True, colorBar=True, cmap=\"RdBu_r\",\n          orientation='horizontal', label='Solution u', hold=True)[0]\nshow(grid, ax=ax, hold=True)\ngridCoarse = pg.createGrid(x=np.linspace(-10.0, 10.0, 20),  # ???\n                           y=np.linspace(-15.0, .0, 20))\n# Instead of the grid we want to add streamlines to the plot to show the\n# gradients of the solution.\ndrawStreams(ax, grid, u, coarseMesh=gridCoarse, color='Black')\npg.wait()"
      ],
      "metadata": {
        "collapsed": false
      },
      "execution_count": null
    }
  ]
}