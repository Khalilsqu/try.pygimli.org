{
  "nbformat": 4,
  "nbformat_minor": 0,
  "metadata": {
    "kernelspec": {
      "display_name": "Python 3",
      "language": "python",
      "name": "python3"
    },
    "language_info": {
      "file_extension": ".py",
      "name": "python",
      "codemirror_mode": {
        "version": 3,
        "name": "ipython"
      },
      "mimetype": "text/x-python",
      "nbconvert_exporter": "python",
      "version": "3.4.3",
      "pygments_lexer": "ipython3"
    }
  },
  "cells": [
    {
      "outputs": [],
      "cell_type": "code",
      "source": [
        "%matplotlib inline"
      ],
      "metadata": {
        "collapsed": false
      },
      "execution_count": null
    },
    {
      "cell_type": "markdown",
      "metadata": {},
      "source": [
        "\nGenerating SIP signatures\n-------------------------\n\nThis example highlights some of the capabilities of pyGimli to generate\nspectral induced polarization (SIP) signatures.\n"
      ]
    },
    {
      "cell_type": "markdown",
      "metadata": {},
      "source": [
        "Generate a Cole-Cole signature\n\n"
      ]
    },
    {
      "outputs": [],
      "cell_type": "code",
      "source": [
        "from pygimli.physics.SIP import ColeColeRho\nimport numpy as np\nimport pygimli as pg\nimport matplotlib as mpl\n\nf = np.logspace(-2, 5, 100)\n\nZ = ColeColeRho(f, rho=10, m=0.1, tau=0.04, c=0.5)\n\nfig, axes = pg.plt.subplots(\n    2, 2,\n    figsize=(15 / 2.54, 10 / 2.54),\n    sharex=True,\n)\nax = axes[0, 0]\nax.semilogx(f, np.abs(Z), '.-')\nax.set_ylabel(r'$|Z| [\\Omega m]$')\nax = axes[0, 1]\nax.semilogx(f, -np.angle(Z) * 1e3, '.-')\nax.set_ylabel(r'$-\\phi$ [mrad]')\nax = axes[1, 0]\nY = 1 / Z\nax.loglog(f, np.real(Y), '.-')\nax.set_xlabel('frequency [Hz]')\nax.set_ylabel(r\"$\\sigma' [S/m]$\")\nax = axes[1, 1]\nax.loglog(f, np.imag(Y), '.-')\nax.set_xlabel('frequency [Hz]')\nax.set_ylabel(r\"$\\sigma'' [S/m]$\")\n\nfor ax in axes.flat:\n    ax.xaxis.set_major_locator(\n        mpl.ticker.LogLocator(numticks=5)\n    )\nfig.tight_layout()\npg.plt.show()"
      ],
      "metadata": {
        "collapsed": false
      },
      "execution_count": null
    },
    {
      "cell_type": "markdown",
      "metadata": {},
      "source": [
        "Generate a double Cole-Cole signature\n\n"
      ]
    },
    {
      "outputs": [],
      "cell_type": "code",
      "source": [
        "from pygimli.physics.SIP import ColeColeRho\nimport numpy as np\nimport pygimli as pg\n\nf = np.logspace(-2, 5, 100)\n\n# term1\nZ1 = ColeColeRho(f, rho=1, m=0.1, tau=0.5, c=0.5)\n# term2\nZ2 = ColeColeRho(f, rho=1, m=0.25, tau=0.0001, c=0.8)\n# create sum\nrho0 = 100\nZ = rho0 * (Z1 + Z2)\n\nfig, axes = pg.plt.subplots(2, 2, figsize=(15 / 2.54, 10 / 2.54))\nax = axes[0, 0]\nax.semilogx(f, np.abs(Z), '.-')\nax.set_ylabel(r'$|Z| [\\Omega m]$')\nax = axes[0, 1]\nax.semilogx(f, -np.angle(Z) * 1e3, '.-')\nax.set_ylabel(r'$-\\phi$ [mrad]')\nax = axes[1, 0]\nY = 1 / Z\nax.loglog(f, np.real(Y), '.-')\nax.set_xlabel('frequency [Hz]')\nax.set_ylabel(r\"$\\sigma' [S/m]$\")\nax = axes[1, 1]\nax.loglog(f, np.imag(Y), '.-')\nax.set_xlabel('frequency [Hz]')\nax.set_ylabel(r\"$\\sigma'' [S/m]$\")\n\nfor ax in axes.flat:\n    ax.xaxis.set_major_locator(\n        mpl.ticker.LogLocator(numticks=5)\n    )\nfig.tight_layout()\n\npg.plt.show()"
      ],
      "metadata": {
        "collapsed": false
      },
      "execution_count": null
    }
  ]
}