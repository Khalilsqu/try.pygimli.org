{
  "nbformat": 4,
  "nbformat_minor": 0,
  "metadata": {
    "kernelspec": {
      "display_name": "Python 3",
      "language": "python",
      "name": "python3"
    },
    "language_info": {
      "file_extension": ".py",
      "name": "python",
      "codemirror_mode": {
        "version": 3,
        "name": "ipython"
      },
      "mimetype": "text/x-python",
      "nbconvert_exporter": "python",
      "version": "3.4.3",
      "pygments_lexer": "ipython3"
    }
  },
  "cells": [
    {
      "outputs": [],
      "cell_type": "code",
      "source": [
        "%matplotlib inline"
      ],
      "metadata": {
        "collapsed": false
      },
      "execution_count": null
    },
    {
      "cell_type": "markdown",
      "metadata": {},
      "source": [
        "\nFitting SIP signatures\n----------------------\n\nThis example highlights some of the capabilities of pyGimli to analyze spectral\ninduced polarization (SIP) signatures.\n"
      ]
    },
    {
      "cell_type": "markdown",
      "metadata": {},
      "source": [
        "Generate synthetic data and initialize an SIPSpectrum object\n\n"
      ]
    },
    {
      "outputs": [],
      "cell_type": "code",
      "source": [
        "from pygimli.physics.SIP import ColeColeRho\nfrom pygimli.physics import SIPSpectrum\nimport numpy as np\nimport pygimli as pg\n\nf = np.logspace(-2, 5, 100)\n\n# term1\nZ1 = ColeColeRho(f, rho=1, m=0.1, tau=0.5, c=0.5)\n# term2\nZ2 = ColeColeRho(f, rho=1, m=0.25, tau=1e-6, c=1.0)\n# create sum\nrho0 = 100\nZ = rho0 * (Z1 + Z2)\namplitude = np.abs(Z)\nphase = np.angle(Z)\n\nsip = SIPSpectrum(\n    f=f,\n    amp=np.abs(Z),\n    # note the minus sign: we need to provide -phase[rad]\n    phi=-np.angle(Z),\n)\nsip.showData()\nsip.showDataKK()  # check Kramers-Kronig relations"
      ],
      "metadata": {
        "collapsed": false
      },
      "execution_count": null
    },
    {
      "cell_type": "markdown",
      "metadata": {},
      "source": [
        "Fit a Cole-Cole model\n\n"
      ]
    },
    {
      "outputs": [],
      "cell_type": "code",
      "source": [
        "from pygimli.physics import SIPSpectrum\nfrom pygimli.physics.SIP import ColeColeRho\nimport numpy as np\nimport pygimli as pg\n\nf = np.logspace(-2, 5, 100)\nm = np.linspace(0.1, 0.9, 5)\ntau = 0.01\n\n# generate synthetic data to fit\nZ = ColeColeRho(f, rho=100, m=m[0], tau=tau, c=0.5)\namplitude = np.abs(Z)\nphase = np.angle(Z)\n\nsip = SIPSpectrum(\n    f=f,\n    amp=np.abs(Z),\n    # note the minus sign: we need to provide -phase[rad]\n    phi=-np.angle(Z),\n)\nsip.fitColeCole(useCond=False)  # works for both rho and sigma models\nsip.showAll()  # save=True)\npg.wait()"
      ],
      "metadata": {
        "collapsed": false
      },
      "execution_count": null
    },
    {
      "cell_type": "markdown",
      "metadata": {},
      "source": [
        "Fit a double Cole-Cole model\n\n"
      ]
    },
    {
      "outputs": [],
      "cell_type": "code",
      "source": [
        "from pygimli.physics.SIP import ColeColeRho\nimport numpy as np\nimport pygimli as pg\n\nf = np.logspace(-2, 5, 100)\n\n# term1\nZ1 = ColeColeRho(f, rho=1, m=0.1, tau=0.5, c=0.5)\n# term2\nZ2 = ColeColeRho(f, rho=1, m=0.25, tau=1e-6, c=1.0)\n# create sum\nrho0 = 100\nZ = rho0 * (Z1 + Z2)\namplitude = np.abs(Z)\nphase = np.angle(Z)\n\nsip = SIPSpectrum(\n    f=f,\n    amp=np.abs(Z),\n    # note the minus sign: we need to provide -phase[rad]\n    phi=-np.angle(Z),\n)\nsip.fitCCEM()  # fit an SIP Cole-Cole term and an EM term (also Cole-Cole)\n\n# %% create titles and plot data, fit and model\nsip.showAll()  # save=True)\n# %%\npg.wait()"
      ],
      "metadata": {
        "collapsed": false
      },
      "execution_count": null
    },
    {
      "cell_type": "markdown",
      "metadata": {},
      "source": [
        "Given is a SIP signature for N frequencies in the form of resistivity\nmagnitude and phase values\n\n"
      ]
    },
    {
      "outputs": [],
      "cell_type": "code",
      "source": [
        "from pygimli.physics import SIPSpectrum\nfrom pygimli.physics.SIP import ColeColeRho\nimport numpy as np\nimport pygimli as pg\n\nf = np.logspace(-2, 5, 100)\nm = np.linspace(0.1, 0.9, 5)\ntau = 0.01\n\n# generate synthetic data to fit\nZ = ColeColeRho(f, rho=100, m=m[0], tau=tau, c=0.5)\namplitude = np.abs(Z)\nphase = np.angle(Z)\n\nsip = SIPSpectrum(\n    f=f,\n    amp=np.abs(Z),\n    # note the minus sign: we need to provide -phase[rad]\n    phi=-np.angle(Z),\n)\n# sip.showData()  # znorm=True)\n# sip.showDataKK()  # check Kramers-Kronig relations\n# if True:  # determine constant epsilon and remove i omega term\n#     sip.removeEpsilonEffect()\n#     sip.showDataKK()  # check Kramers-Kronig again after removing epsilon\n#   # sip.fitColeCole(useCond=False)  # works for both rho and sigma models\n\n# %% create titles and plot data, fit and model\nsip.showAll()  # save=True)\n# %%\nsip.fitDebyeModel(new=True, showFit=True)\npg.wait()"
      ],
      "metadata": {
        "collapsed": false
      },
      "execution_count": null
    }
  ]
}