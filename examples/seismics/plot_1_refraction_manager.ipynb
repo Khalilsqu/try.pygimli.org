{
  "nbformat": 4,
  "nbformat_minor": 0,
  "metadata": {
    "kernelspec": {
      "display_name": "Python 3",
      "language": "python",
      "name": "python3"
    },
    "language_info": {
      "file_extension": ".py",
      "name": "python",
      "codemirror_mode": {
        "version": 3,
        "name": "ipython"
      },
      "mimetype": "text/x-python",
      "nbconvert_exporter": "python",
      "version": "3.4.3",
      "pygments_lexer": "ipython3"
    }
  },
  "cells": [
    {
      "outputs": [],
      "cell_type": "code",
      "source": [
        "%matplotlib inline"
      ],
      "metadata": {
        "collapsed": false
      },
      "execution_count": null
    },
    {
      "cell_type": "markdown",
      "metadata": {},
      "source": [
        "\nRefraction Manager\n------------------\n\nThis example shows how to use the Refraction manager to generate the response\nof a three-layered sloping model and to invert the synthetic noisified data.\n"
      ]
    },
    {
      "outputs": [],
      "cell_type": "code",
      "source": [
        "import numpy as np\n\nimport pygimli as pg\nimport pygimli.meshtools as mt\nfrom pygimli.physics import Refraction"
      ],
      "metadata": {
        "collapsed": false
      },
      "execution_count": null
    },
    {
      "cell_type": "markdown",
      "metadata": {},
      "source": [
        "We start by creating a three-layered slope (The model is taken from the BSc\nthesis of Constanze Reinken (University of Bonn).\n\n"
      ]
    },
    {
      "outputs": [],
      "cell_type": "code",
      "source": [
        "layer1 = mt.createPolygon([[0.0, 137], [117.5, 164], [117.5, 162], [0.0, 135]],\n                          isClosed=True, marker=1, area=1)\nlayer2 = mt.createPolygon([[0.0, 126], [0.0, 135], [117.5, 162], [117.5, 153]],\n                          isClosed=True, marker=2)\nlayer3 = mt.createPolygon([[0.0, 110], [0.0, 126], [117.5, 153], [117.5, 110]],\n                          isClosed=True, marker=3)\n\nslope = (164 - 137) / 117.5\n\ngeom = mt.mergePLC([layer1, layer2, layer3])\nmesh = mt.createMesh(geom, quality=34.3, area=3, smooth=[1, 10])\npg.show(mesh)"
      ],
      "metadata": {
        "collapsed": false
      },
      "execution_count": null
    },
    {
      "cell_type": "markdown",
      "metadata": {},
      "source": [
        "Next we define geophone positions and a measurement scheme, which consists of\nshot and receiver indices.\n\n"
      ]
    },
    {
      "outputs": [],
      "cell_type": "code",
      "source": [
        "numberGeophones = 48\nsensors = np.linspace(0., 117.5, numberGeophones)\nscheme = pg.physics.traveltime.createRAData(sensors)\n\n# Adapt sensor positions to slope\npos = np.array(scheme.sensorPositions())\nfor x in pos[:, 0]:\n    i = np.where(pos[:, 0] == x)\n    new_y = x * slope + 137\n    pos[i, 1] = new_y\n\nscheme.setSensorPositions(pos)"
      ],
      "metadata": {
        "collapsed": false
      },
      "execution_count": null
    },
    {
      "cell_type": "markdown",
      "metadata": {},
      "source": [
        "Now we initialize the refraction manager and asssign P-wave velocities to the\nlayers. To this end, we create a map from cell markers 0 through 3 to\nvelocities (in m/s) and generate a velocity vector.  To check whether the\nit is correct, we plot it # along with the sensor positions\n\n"
      ]
    },
    {
      "outputs": [],
      "cell_type": "code",
      "source": [
        "ra = Refraction()\nvp = np.array(mesh.cellMarkers())\nvp[vp == 1] = 250\nvp[vp == 2] = 500\nvp[vp == 3] = 1300\n\nax, _ = pg.show(mesh, vp, colorBar=True, logScale=False, label='v in m/s')\nax.plot(pos[:, 0], pos[:, 1], 'w+')"
      ],
      "metadata": {
        "collapsed": false
      },
      "execution_count": null
    },
    {
      "cell_type": "markdown",
      "metadata": {},
      "source": [
        "We use this model to create noisified synthetic data and look at the\ntraveltime curves showing three different slopes.\n\n"
      ]
    },
    {
      "outputs": [],
      "cell_type": "code",
      "source": [
        "data = ra.simulate(mesh, 1.0 / vp, scheme, noiseLevel=0.001, noiseAbs=0.001,\n                   verbose=True)\n# ra.showData(data)  # can be used to show the data."
      ],
      "metadata": {
        "collapsed": false
      },
      "execution_count": null
    },
    {
      "cell_type": "markdown",
      "metadata": {},
      "source": [
        "And invert the synthetic data on an independent mesh without # information on\nthe layered structure we create a new instance of the class using the data.\nInstead of the data, a file name can be given. This is probably where most\nusers with data start. See refraction class for supported formats.\n\n"
      ]
    },
    {
      "outputs": [],
      "cell_type": "code",
      "source": [
        "ra = Refraction(data)\nra.showData()\nra.createMesh(depth=30., paraMaxCellSize=5.0)  # can be omitted\nvest = ra.invert()  # estimated velocity distribution"
      ],
      "metadata": {
        "collapsed": false
      },
      "execution_count": null
    },
    {
      "cell_type": "markdown",
      "metadata": {},
      "source": [
        "The method showResult is used to plot the result. Note that only covered\ncells are shown by default. For comparison we plot the geometry on top.\n\n"
      ]
    },
    {
      "outputs": [],
      "cell_type": "code",
      "source": [
        "ax, cb = ra.showResult(cMin=min(vp), cMax=max(vp), logScale=False)\npg.show(geom, ax=ax, fillRegion=False, regionMarker=False)  # lines on top"
      ],
      "metadata": {
        "collapsed": false
      },
      "execution_count": null
    },
    {
      "cell_type": "markdown",
      "metadata": {},
      "source": [
        "Note that internally the following is called\n\n.. code-block:: python\n\n   ax, _ = pg.show(ra.mesh, vest, label=\"Velocity [m/s]\", **kwargs)\n\n\n"
      ]
    },
    {
      "cell_type": "markdown",
      "metadata": {},
      "source": [
        "Another useful tool is to show the model along with its respone on the data_\n\n"
      ]
    },
    {
      "outputs": [],
      "cell_type": "code",
      "source": [
        "ra.showResultAndFit()"
      ],
      "metadata": {
        "collapsed": false
      },
      "execution_count": null
    },
    {
      "cell_type": "markdown",
      "metadata": {},
      "source": [
        "Takeaway message:\nA default data inversion with checking of the data consists of only few lines\n(Everthing else can be looked at by introspecting the Refraction manager)\n\n.. code-block:: python\n\n   from pygimli.physics import Refraction\n   ra = Refraction(filename)\n   ra.invert()\n   ra.showResultAndFit()\n\n"
      ]
    },
    {
      "outputs": [],
      "cell_type": "code",
      "source": [
        "pg.wait()"
      ],
      "metadata": {
        "collapsed": false
      },
      "execution_count": null
    }
  ]
}