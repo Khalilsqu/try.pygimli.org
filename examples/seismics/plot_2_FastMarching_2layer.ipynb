{
  "nbformat": 4,
  "nbformat_minor": 0,
  "metadata": {
    "kernelspec": {
      "display_name": "Python 3",
      "language": "python",
      "name": "python3"
    },
    "language_info": {
      "file_extension": ".py",
      "name": "python",
      "codemirror_mode": {
        "version": 3,
        "name": "ipython"
      },
      "mimetype": "text/x-python",
      "nbconvert_exporter": "python",
      "version": "3.4.3",
      "pygments_lexer": "ipython3"
    }
  },
  "cells": [
    {
      "outputs": [],
      "cell_type": "code",
      "source": [
        "%matplotlib inline"
      ],
      "metadata": {
        "collapsed": false
      },
      "execution_count": null
    },
    {
      "cell_type": "markdown",
      "metadata": {},
      "source": [
        "\nFast Marching Method test using a two-layer model\n-------------------------------------------------\n\nThis example shows how the FMM implementation of pyGIMLi works. FMM is an\nalternative to the Shortest path method and utilized by the Refraction manager.\nWe illustrate the effectiveness and compare the solutions.\n"
      ]
    },
    {
      "cell_type": "markdown",
      "metadata": {},
      "source": [
        "The first-arrival travel-time $t$ from a shot point at the origin is\ndescribed by a Hamilton-Jacobi (HJ) type equation, known as Eikonal equation\n:cite:`podvin1991GJI`\n\n\\begin{align}(\\nabla t)^2 = s^2\\end{align}\n\nwhere $s$ is the spatially distributed slowness (i.e. 1 / velocity).\nUnder the assumption of piece-wise slowness (for individual cells) one can\nsolve this equation by the so-called Fast-Marching method as first developed\nfor 2D grids by Podvon & Lecompte (1991). Starting from the source location,\na front is successively increased and filled by the travel times.\n\nThis example demonstrates the core features of an FMM Python implementation\nand compares the travel time for a two-layer model with the analytical\nsolution (known for straight or sloped layers from the text books) and the\nshortest-path algorithm (Moser, 1991) implemented in the pyGIMLi core.\n:cite:`moser1991G`\n\n"
      ]
    },
    {
      "outputs": [],
      "cell_type": "code",
      "source": [
        "import time\nfrom math import asin, tan\n\nimport numpy as np\nimport matplotlib.pyplot as plt\n\nimport pygimli as pg\nfrom pygimli.mplviewer import drawMesh, drawField, drawStreamLines\nfrom pygimli.physics.traveltime import fastMarch"
      ],
      "metadata": {
        "collapsed": false
      },
      "execution_count": null
    },
    {
      "cell_type": "markdown",
      "metadata": {},
      "source": [
        "First we provide the analytical solution for a given offset vector x.\n\n"
      ]
    },
    {
      "outputs": [],
      "cell_type": "code",
      "source": [
        "def analyticalSolution2Layer(x, zlay, v1, v2):\n    \"\"\"Analytical solution: minimum of direct and critically refracted wave.\"\"\"\n    tdirect = np.abs(x) / v1  # direct wave\n    alfa = asin(v1 / v2)  # critically refracted wave angle\n    xreflec = tan(alfa) * zlay * 2.  # first critically refracted\n    trefrac = (x - xreflec) / v2 + xreflec * v2 / v1**2\n    return np.minimum(tdirect, trefrac)"
      ],
      "metadata": {
        "collapsed": false
      },
      "execution_count": null
    },
    {
      "cell_type": "markdown",
      "metadata": {},
      "source": [
        "The model consists of two boxes, in the first is the source (1)\n\n.. code-block:: none\n\n    0--1--------2\n    |           |\n    6-----------3\n    |           |\n    5-----------4\n\nWe create a PLC (piece-wise linear complex) and insert the nodes.\n\n"
      ]
    },
    {
      "outputs": [],
      "cell_type": "code",
      "source": [
        "xmin, xmax, zlay = -20., 150., 20.  # model dimensions\nplc = pg.Mesh(2)\nnodes = []\nnodes.append(plc.createNode(xmin, 0., 0.))  # 0\nnodes.append(plc.createNode(0.0, 0., 0.))  # 1\nnodes.append(plc.createNode(xmax, 0., 0.))  # 2\nnodes.append(plc.createNode(xmax, -zlay, 0.))  # 3\nnodes.append(plc.createNode(xmax, -zlay * 2, 0.))  # 4\nnodes.append(plc.createNode(xmin, -zlay * 2, 0.))  # 5\nnodes.append(plc.createNode(xmin, -zlay, 0.))  # 6"
      ],
      "metadata": {
        "collapsed": false
      },
      "execution_count": null
    },
    {
      "cell_type": "markdown",
      "metadata": {},
      "source": [
        "The nodes are connected from from 0 to 6 and back to 0.\nAn additional edge is drawn from 6 to 3. Node/edge markers do not matter.\n\n"
      ]
    },
    {
      "outputs": [],
      "cell_type": "code",
      "source": [
        "for i in range(6):\n    plc.createEdge(nodes[i], nodes[i + 1])\n\nplc.createEdge(nodes[6], nodes[0])\nplc.createEdge(nodes[6], nodes[3])"
      ],
      "metadata": {
        "collapsed": false
      },
      "execution_count": null
    },
    {
      "cell_type": "markdown",
      "metadata": {},
      "source": [
        "We insert region markers (0 and 1) into the two layers and generate the mesh.\n\n"
      ]
    },
    {
      "outputs": [],
      "cell_type": "code",
      "source": [
        "tri = pg.TriangleWrapper(plc)\nplc.addRegionMarker(pg.RVector3(0., -zlay + .1), 0, 3.)  # 10m^2 max area\nplc.addRegionMarker(pg.RVector3(0., -zlay - .1), 1, 10.)\ntri.setSwitches('-pzeAfaq34.6')\nmesh = pg.Mesh(2)\ntri.generate(mesh)\nmesh.createNeighbourInfos()\nprint(mesh)"
      ],
      "metadata": {
        "collapsed": false
      },
      "execution_count": null
    },
    {
      "cell_type": "markdown",
      "metadata": {},
      "source": [
        "Next we generate a velocity model from the markers by using a map.\nThe values are associated to the markers and stored as attributes.\n\n"
      ]
    },
    {
      "outputs": [],
      "cell_type": "code",
      "source": [
        "v = [1000., 3000.]\nslomap = pg.stdMapF_F()  # mapping markers to real slowness values\nfor i, vi in enumerate(v):\n    slomap.insert(i, 1. / vi)\n\nmesh.mapCellAttributes(slomap)  # map values to attributes using map"
      ],
      "metadata": {
        "collapsed": false
      },
      "execution_count": null
    },
    {
      "cell_type": "markdown",
      "metadata": {},
      "source": [
        "We initialize the source position and the travel time vector\ninitialize sets and tags and define the initial condition.\n\n"
      ]
    },
    {
      "outputs": [],
      "cell_type": "code",
      "source": [
        "source = pg.RVector3(0., 0.)  # does not have to be a node!\ntimes = pg.RVector(mesh.nodeCount(), 0.)\nupwind, downwind = set(), set()\nupTags, downTags = np.zeros(mesh.nodeCount()), np.zeros(mesh.nodeCount())\ncell = mesh.findCell(source)\nfor i, n in enumerate(cell.nodes()):\n    times[n.id()] = cell.attribute() * n.pos().distance(source)\n    upTags[n.id()] = 1\nfor i, n in enumerate(cell.nodes()):\n    tmpNodes = pg.commonNodes(n.cellSet())\n    for nn in tmpNodes:\n        if not upTags[nn.id()] and not downTags[nn.id()]:\n            downwind.add(nn)\n            downTags[nn.id()] = 1"
      ],
      "metadata": {
        "collapsed": false
      },
      "execution_count": null
    },
    {
      "cell_type": "markdown",
      "metadata": {},
      "source": [
        "Then we start marching until all fields are filled.\n\n"
      ]
    },
    {
      "outputs": [],
      "cell_type": "code",
      "source": [
        "tic = time.time()\nwhile len(downwind) > 0:\n    fastMarch(mesh, downwind, times, upTags, downTags)\n\nprint(time.time() - tic, \"s\")"
      ],
      "metadata": {
        "collapsed": false
      },
      "execution_count": null
    },
    {
      "cell_type": "markdown",
      "metadata": {},
      "source": [
        "First, we plot the traveltime field and streamlines\n\n"
      ]
    },
    {
      "outputs": [],
      "cell_type": "code",
      "source": [
        "fig, ax = plt.subplots(figsize=(10, 5))\ndrawMesh(ax, mesh)\nax.set_xlabel('x [m]')\nax.set_ylabel('y [m]')\ndrawField(ax, mesh, times, cmap='Spectral', fillContour=True)\ndrawStreamLines(ax, mesh, -times, nx=50, ny=50)"
      ],
      "metadata": {
        "collapsed": false
      },
      "execution_count": null
    },
    {
      "cell_type": "markdown",
      "metadata": {},
      "source": [
        "We compare the result with the analytical solution along the x axis\n\n"
      ]
    },
    {
      "outputs": [],
      "cell_type": "code",
      "source": [
        "x = np.arange(0., 140., 0.5)\ntFMM = pg.interpolate(mesh, times, x, x * 0., x * 0.)\ntAna = analyticalSolution2Layer(x, zlay, v[0], v[1])\nprint(\"min(dt)={} ms  max(dt)={} ms\".format(min(tFMM - tAna) * 1000,\n                                            max(tFMM - tAna) * 1000))"
      ],
      "metadata": {
        "collapsed": false
      },
      "execution_count": null
    },
    {
      "cell_type": "markdown",
      "metadata": {},
      "source": [
        "In order to use the Dijkstra, we extract the surface positions >0\n\n"
      ]
    },
    {
      "outputs": [],
      "cell_type": "code",
      "source": [
        "mx = pg.x(mesh.positions())\nmy = pg.y(mesh.positions())\nfi = pg.find((my == 0.0) & (mx >= 0))\npx = np.sort(mx(fi))"
      ],
      "metadata": {
        "collapsed": false
      },
      "execution_count": null
    },
    {
      "cell_type": "markdown",
      "metadata": {},
      "source": [
        "A data container with index arrays named s (shot) and g (geophones) is\ncreated and filled with the positions and shot/geophone indices.\n\n"
      ]
    },
    {
      "outputs": [],
      "cell_type": "code",
      "source": [
        "data = pg.DataContainer()\ndata.registerSensorIndex('s')\ndata.registerSensorIndex('g')\nfor pxi in px:\n    data.createSensor(pg.RVector3(pxi, 0.0))\n\nndata = len(px) - 1\ndata.resize(ndata)\ndata.set('s', pg.RVector(ndata, 0))  # only one shot at first sensor\ndata.set('g', pg.utils.grange(1, ndata, 1))  # all others and geophones\nfop = pg.TravelTimeDijkstraModelling(mesh, data)\ntDijkstra = fop.response(mesh.cellAttributes())"
      ],
      "metadata": {
        "collapsed": false
      },
      "execution_count": null
    },
    {
      "cell_type": "markdown",
      "metadata": {},
      "source": [
        "We plot the calculated and measured travel times and relative differences\n\n"
      ]
    },
    {
      "outputs": [],
      "cell_type": "code",
      "source": [
        "fig, ax = plt.subplots()\nax.plot(x, tAna*1000, 'r-', label='analytical')\nax.plot(x, tFMM*1000, 'b+-', label='FMM')\nax.plot(px[1:], tDijkstra*1000, 'gx-', label='Dijkstra')\nax.set_xlabel('x [m]')\nax.set_ylabel('t [s]')\nax.grid(True)\nax.legend()\nax2 = ax.twinx()\ndtFMM = (tFMM - tAna) * 1000\ntAnaD = analyticalSolution2Layer(px[1:], zlay, v[0], v[1])\ndtDijkstra = (tDijkstra - tAnaD) * 1000\nax2.set_ylabel('dt [ms]')\nif 1:  # relative differences in percent\n    ax2.set_ylabel('dt [%]')\n    dtFMM /= (tAna * 10)\n    dtDijkstra /= (tAnaD * 10)\nax2.plot(x, dtFMM, 'b.-')\nax2.plot(px[1:], dtDijkstra, 'g.-')\npg.wait()"
      ],
      "metadata": {
        "collapsed": false
      },
      "execution_count": null
    },
    {
      "cell_type": "markdown",
      "metadata": {},
      "source": [
        "Note that the Fast Marching Method is implemented in a modelling class\n(right now Python and very slow but to be replaced by fast C++ soon)\nFMModelling that can be more easily used with the Refraction manager by\nra.useFMM(True)\n\n"
      ]
    }
  ]
}