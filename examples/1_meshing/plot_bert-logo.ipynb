{
  "nbformat": 4,
  "nbformat_minor": 0,
  "metadata": {
    "kernelspec": {
      "display_name": "Python 3",
      "language": "python",
      "name": "python3"
    },
    "language_info": {
      "file_extension": ".py",
      "name": "python",
      "codemirror_mode": {
        "version": 3,
        "name": "ipython"
      },
      "mimetype": "text/x-python",
      "nbconvert_exporter": "python",
      "version": "3.4.3",
      "pygments_lexer": "ipython3"
    }
  },
  "cells": [
    {
      "outputs": [],
      "cell_type": "code",
      "source": [
        "%matplotlib inline"
      ],
      "metadata": {
        "collapsed": false
      },
      "execution_count": null
    },
    {
      "cell_type": "markdown",
      "metadata": {},
      "source": [
        "\nMeshing the Omega aka. BERT logo\n================================\n\nThis is a fun example creating a logo for the BERT software. It illustrates the\npossibility to hand over matplotlib path objects to the TriangleWrapper.\n"
      ]
    },
    {
      "outputs": [],
      "cell_type": "code",
      "source": [
        "import matplotlib.pyplot as plt\nimport matplotlib.textpath\nimport pygimli as pg"
      ],
      "metadata": {
        "collapsed": false
      },
      "execution_count": null
    },
    {
      "cell_type": "markdown",
      "metadata": {},
      "source": [
        "We start by generating a matplotlib path respresenting the $\\Omega$\ncharacter.\n\n"
      ]
    },
    {
      "outputs": [],
      "cell_type": "code",
      "source": [
        "logo_path = matplotlib.textpath.TextPath((0, 0), r'$\\Omega$', size=1)\npatch = matplotlib.patches.PathPatch(logo_path)"
      ],
      "metadata": {
        "collapsed": false
      },
      "execution_count": null
    },
    {
      "cell_type": "markdown",
      "metadata": {},
      "source": [
        "The vertices of the path are defined as mesh nodes and connected with edges.\n\n"
      ]
    },
    {
      "outputs": [],
      "cell_type": "code",
      "source": [
        "nodes = patch.get_verts() * 50\nnodes = pg.utils.unique_rows(nodes)  # remove duplicate nodes\npoly = pg.Mesh(2)\n\nfor node in nodes:\n    poly.createNode(node[0], node[1], 0.0)\n\nfor i in range(poly.nodeCount() - 1):\n    poly.createEdge(poly.node(i), poly.node(i + 1))\n\npoly.createEdge(poly.node(poly.nodeCount() - 1), poly.node(0))"
      ],
      "metadata": {
        "collapsed": false
      },
      "execution_count": null
    },
    {
      "cell_type": "markdown",
      "metadata": {},
      "source": [
        "We call the TriangleWrapper to generate the mesh and set the x values as the\ndata for a color transition.\n\n"
      ]
    },
    {
      "outputs": [],
      "cell_type": "code",
      "source": [
        "tri = pg.TriangleWrapper(poly)\nmesh = pg.Mesh(2)\ntri.setSwitches('-pzeAfa5q33')\ntri.generate(mesh)\n\ndata = []\nfor cell in mesh.cells():\n    data.append(cell.center().x())"
      ],
      "metadata": {
        "collapsed": false
      },
      "execution_count": null
    },
    {
      "cell_type": "markdown",
      "metadata": {},
      "source": [
        "Last, we create a BERT caption, visualize the mesh and fine-tune the figure.\n\n"
      ]
    },
    {
      "outputs": [],
      "cell_type": "code",
      "source": [
        "fig, ax = plt.subplots(figsize=(4, 3))\nax.axis('off')\noffset = -10\nt = ax.text(1.7, offset, 'BERT', fontsize=37, fontweight='bold')\npg.show(mesh, data, ax=ax, cmap='RdBu', logScale=False, showLater=True)\npg.show(mesh, ax=ax)\nax.set_ylim(offset, mesh.ymax())\n\npg.wait()"
      ],
      "metadata": {
        "collapsed": false
      },
      "execution_count": null
    }
  ]
}