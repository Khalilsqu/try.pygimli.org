{
  "nbformat": 4,
  "nbformat_minor": 0,
  "metadata": {
    "kernelspec": {
      "display_name": "Python 3",
      "language": "python",
      "name": "python3"
    },
    "language_info": {
      "file_extension": ".py",
      "name": "python",
      "codemirror_mode": {
        "version": 3,
        "name": "ipython"
      },
      "mimetype": "text/x-python",
      "nbconvert_exporter": "python",
      "version": "3.4.3",
      "pygments_lexer": "ipython3"
    }
  },
  "cells": [
    {
      "outputs": [],
      "cell_type": "code",
      "source": [
        "%matplotlib inline"
      ],
      "metadata": {
        "collapsed": false
      },
      "execution_count": null
    },
    {
      "cell_type": "markdown",
      "metadata": {},
      "source": [
        "\nBuilding a hybrid mesh in 2D\n----------------------------\n\nIn some cases, the modelling domain may require flexibility in one region and\nequidistant structure in another. In this short example, we demonstrate how to\naccomplish this for a two-dimensional mesh consisting of a region with regularly\nspaced quadrilaterals and a region with unstructured triangles.\n"
      ]
    },
    {
      "cell_type": "markdown",
      "metadata": {},
      "source": [
        "We start by importing numpy, matplotlib and pygimli with its required components.\n\n"
      ]
    },
    {
      "outputs": [],
      "cell_type": "code",
      "source": [
        "import numpy as np\n\nimport pygimli as pg\nfrom pygimli.meshtools import appendTriangleBoundary, merge2Meshes\nfrom pygimli.mplviewer import drawMesh\nfrom pygimli.viewer import showMesh"
      ],
      "metadata": {
        "collapsed": false
      },
      "execution_count": null
    },
    {
      "cell_type": "markdown",
      "metadata": {},
      "source": [
        "We continue by building a regular grid and assign the marker 2 to all cells.\n\n"
      ]
    },
    {
      "outputs": [],
      "cell_type": "code",
      "source": [
        "xmin, xmax = 0., 50.\nzmin, zmax = -50., -25.\n\ndx = 1.0\nxreg = np.arange(xmin, xmax + dx, dx, 'float')\nzreg = np.arange(zmin, zmax + dx, dx, 'float')\n\nmesh1 = pg.Mesh(2)\nmesh1.create2DGrid(xreg, zreg, 0)\nfor c in mesh1.cells():\n    c.setMarker(2)\n\nprint(mesh1)"
      ],
      "metadata": {
        "collapsed": false
      },
      "execution_count": null
    },
    {
      "cell_type": "markdown",
      "metadata": {},
      "source": [
        "Next, we build an unstructured region on top by creating the polygon and\ncalling triangle via pygimli's TriangleWrapper.\n\n"
      ]
    },
    {
      "outputs": [],
      "cell_type": "code",
      "source": [
        "poly = pg.Mesh(2)  # empty 2d mesh\nnStart = poly.createNode(xmin, zmax, 0.0)\n\nnA = nStart\nfor x in xreg[1:]:\n    nB = poly.createNode(x, zmax, 0.0)\n    poly.createEdge(nA, nB)\n    nA = nB\n\nz2 = 0.\nnA = poly.createNode(xmax, z2, 0.0)\npoly.createEdge(nB, nA)\nnB = poly.createNode(xmin, z2, 0.0)\npoly.createEdge(nA, nB)\npoly.createEdge(nB, nStart)\n\ntri = pg.TriangleWrapper(poly)\ntri.setSwitches('-pzeAfaq31')"
      ],
      "metadata": {
        "collapsed": false
      },
      "execution_count": null
    },
    {
      "cell_type": "markdown",
      "metadata": {},
      "source": [
        "For more information on the triangle switches and the corresponding settings,\nthe reader is referred to `the triangle website\n<http://www.cs.cmu.edu/~quake/triangle.switch.html>`_.\n\nNow we can generate the unstructured mesh.\n\n"
      ]
    },
    {
      "outputs": [],
      "cell_type": "code",
      "source": [
        "mesh2 = pg.Mesh(2)\ntri.generate(mesh2)\n\nfor cell in mesh2.cells():\n    cell.setMarker(1)"
      ],
      "metadata": {
        "collapsed": false
      },
      "execution_count": null
    },
    {
      "cell_type": "markdown",
      "metadata": {},
      "source": [
        "Finally, the grid and the unstructured mesh can be merged to single mesh for\nfurther modelling.\n\n"
      ]
    },
    {
      "outputs": [],
      "cell_type": "code",
      "source": [
        "mesh3 = merge2Meshes(mesh1, mesh2)"
      ],
      "metadata": {
        "collapsed": false
      },
      "execution_count": null
    },
    {
      "cell_type": "markdown",
      "metadata": {},
      "source": [
        "Of course, you can treat the hybrid mesh like any other mesh and append a\ntriangle boundary for example with the function\n:py:func:`pygimli.meshtools.grid.appendTriangleBoundary`.\n\n"
      ]
    },
    {
      "outputs": [],
      "cell_type": "code",
      "source": [
        "mesh = appendTriangleBoundary(mesh3, -100., 100., quality=31, smooth=True,\n                              marker=3, isSubSurface=True)\n\nax, cbar = showMesh(mesh, mesh.cellMarkers(), cmap=\"summer\",\n                    label=\"Region marker\")\n\ndrawMesh(ax, mesh)\n\nax, _ = showMesh(mesh, mesh.cellMarkers(), logScale=False,\n                 label=\"Region marker\")\n\ndrawMesh(ax, mesh)\npg.wait()"
      ],
      "metadata": {
        "collapsed": false
      },
      "execution_count": null
    }
  ]
}