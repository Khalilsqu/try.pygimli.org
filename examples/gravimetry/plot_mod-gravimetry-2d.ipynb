{
  "nbformat": 4,
  "nbformat_minor": 0,
  "metadata": {
    "kernelspec": {
      "display_name": "Python 3",
      "language": "python",
      "name": "python3"
    },
    "language_info": {
      "file_extension": ".py",
      "name": "python",
      "codemirror_mode": {
        "version": 3,
        "name": "ipython"
      },
      "mimetype": "text/x-python",
      "nbconvert_exporter": "python",
      "version": "3.4.3",
      "pygments_lexer": "ipython3"
    }
  },
  "cells": [
    {
      "outputs": [],
      "cell_type": "code",
      "source": [
        "%matplotlib inline"
      ],
      "metadata": {
        "collapsed": false
      },
      "execution_count": null
    },
    {
      "cell_type": "markdown",
      "metadata": {},
      "source": [
        "\n\nGravimetry in 2D - Part I\n-------------------------\n\nSimple gravimetric field solution.\n\nCalculate for the gravimetric potential $u$\n\n\\begin{align}\\frac{\\partial u}{\\partial z}\\end{align}\n\nalong a profile for a cylindrical heterogeneity with different approaches.\n\n"
      ]
    },
    {
      "outputs": [],
      "cell_type": "code",
      "source": [
        "import numpy as np\nimport pygimli as pg\nfrom pygimli.meshtools import createCircle, createWorld, createMesh\n\nfrom pygimli.physics.gravimetry import gradUCylinderHoriz, solveGravimetry\n\nradius = 2.  # [m]\ndepth = 5.   # [m]\npos = [0., -depth]\ndRho = 100\n\nx = np.arange(-20, 20.1, .5)\npnts = np.array([x, np.zeros(len(x))]).T"
      ],
      "metadata": {
        "collapsed": false
      },
      "execution_count": null
    },
    {
      "cell_type": "markdown",
      "metadata": {},
      "source": [
        "Analytical solution first\n\n"
      ]
    },
    {
      "outputs": [],
      "cell_type": "code",
      "source": [
        "gz_a = gradUCylinderHoriz(pnts, radius, dRho, pos)[:, 1]"
      ],
      "metadata": {
        "collapsed": false
      },
      "execution_count": null
    },
    {
      "cell_type": "markdown",
      "metadata": {},
      "source": [
        "Integration for a 2D polygon after :cite:`WonBev1987`\n\n"
      ]
    },
    {
      "outputs": [],
      "cell_type": "code",
      "source": [
        "circ = createCircle([0, -depth], radius=radius, marker=2, area=0.1,\n                    segments=16)\ngz_p = solveGravimetry(circ, dRho, pnts, complete=False)"
      ],
      "metadata": {
        "collapsed": false
      },
      "execution_count": null
    },
    {
      "cell_type": "markdown",
      "metadata": {},
      "source": [
        "Integration for complete 2D mesh after :cite:`WonBev1987`\n\n"
      ]
    },
    {
      "outputs": [],
      "cell_type": "code",
      "source": [
        "world = createWorld(start=[-20, 0], end=[20, -10], marker=1)\nmesh = createMesh([world, circ])\ndRhoC = pg.solver.parseMapToCellArray([[1, 0.0], [2, dRho]], mesh)\ngc_m = solveGravimetry(mesh, dRhoC, pnts)"
      ],
      "metadata": {
        "collapsed": false
      },
      "execution_count": null
    },
    {
      "cell_type": "markdown",
      "metadata": {},
      "source": [
        "Finite Element solution for $u$\n\n"
      ]
    },
    {
      "outputs": [],
      "cell_type": "code",
      "source": [
        "world = createWorld(start=[-200, 200], end=[200, -200], marker=1)\n\n# Add some nodes to the measurement points to increase the accuracy a bit\n[world.createNode(x_, 0.0,  1) for x_ in x]\nmesh = createMesh([world, circ], quality=34)\nmesh = mesh.createP2()\n\ndensity = pg.solver.parseMapToCellArray([[1, 0.0], [2, dRho]], mesh)\nu = pg.solver.solve(mesh, a=1, f=density, uB=[[-2, 0], [-1, 0]])"
      ],
      "metadata": {
        "collapsed": false
      },
      "execution_count": null
    },
    {
      "cell_type": "markdown",
      "metadata": {},
      "source": [
        "Calculate gradient of gravimetric potential\n$\\frac{\\partial u}{\\partial (x,z)}$\n\n"
      ]
    },
    {
      "outputs": [],
      "cell_type": "code",
      "source": [
        "dudz = np.zeros(len(pnts))\n\nfor i, p in enumerate(pnts):\n    c = mesh.findCell(p)\n    g = c.grad(p, u)\n    dudz[i] = -g[1] * 4. * np.pi * pg.physics.constants.GmGal  # why 4 pi here?"
      ],
      "metadata": {
        "collapsed": false
      },
      "execution_count": null
    },
    {
      "cell_type": "markdown",
      "metadata": {},
      "source": [
        "Finishing the plots\n\n"
      ]
    },
    {
      "outputs": [],
      "cell_type": "code",
      "source": [
        "ax1 = pg.plt.subplot(2, 1, 1)\nax1.plot(x, gz_a, '-b', marker='.', label='Analytical')\nax1.plot(x, gz_p, label='Integration: Polygon ')\nax1.plot(x, gc_m, label='Integration: Mesh')\nax1.plot(x, dudz, label=r'FEM: $\\frac{\\partial u}{\\partial z}$')\n\nax2 = pg.plt.subplot(2, 1, 2)\npg.show([world,  circ], ax=ax2)\nax2.plot(x, x*0,  'bv')\n\nax1.set_ylabel(r'$\\frac{\\partial u}{\\partial z}$ [mGal]')\nax1.set_xlabel('$x$-coordinate [m]')\nax1.grid()\nax1.legend()\n\nax2.set_aspect(1)\nax2.set_xlabel('$x$-coordinate [m]')\nax2.set_ylabel('$z$-coordinate [m]')\nax2.set_ylim((-9, 1))\nax2.set_xlim((-20, 20))\n\npg.wait()"
      ],
      "metadata": {
        "collapsed": false
      },
      "execution_count": null
    }
  ]
}