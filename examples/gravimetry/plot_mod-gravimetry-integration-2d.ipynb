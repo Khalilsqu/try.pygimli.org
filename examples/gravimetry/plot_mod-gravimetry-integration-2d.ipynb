{
  "nbformat": 4,
  "nbformat_minor": 0,
  "metadata": {
    "kernelspec": {
      "display_name": "Python 3",
      "language": "python",
      "name": "python3"
    },
    "language_info": {
      "file_extension": ".py",
      "name": "python",
      "codemirror_mode": {
        "version": 3,
        "name": "ipython"
      },
      "mimetype": "text/x-python",
      "nbconvert_exporter": "python",
      "version": "3.4.3",
      "pygments_lexer": "ipython3"
    }
  },
  "cells": [
    {
      "outputs": [],
      "cell_type": "code",
      "source": [
        "%matplotlib inline"
      ],
      "metadata": {
        "collapsed": false
      },
      "execution_count": null
    },
    {
      "cell_type": "markdown",
      "metadata": {},
      "source": [
        "\nGravimetry in 2D - Part II\n--------------------------\n\nSimple gravimetric field solution with Integration after :cite:`WonBev1987`.\n\n\n\n"
      ]
    },
    {
      "outputs": [],
      "cell_type": "code",
      "source": [
        "import numpy as np\nimport pygimli as pg\nfrom pygimli.meshtools import createCircle\nfrom pygimli.physics.gravimetry import solveGravimetry\nfrom pygimli.physics.gravimetry import gradUCylinderHoriz, gradGZCylinderHoriz\nfrom pygimli.physics.gravimetry import gradUHalfPlateHoriz\nfrom pygimli.physics.gravimetry import gradGZHalfPlateHoriz\n\nradius = 2.\ndepth = 5.\nrho = 1000.0\n\nx = np.arange(-20, 30, 1)\npnts = np.zeros((len(x), 2))\npnts[:, 0] = x\npos = [0, -depth]\n\n\ndef plot(x, a1, ga, gza, a2, g, gz):\n    a1.plot(x, ga[:, 0],  label=r'Analytical $\\frac{\\partial u}{\\partial x}$')\n    a1.plot(x, ga[:, 1],  label=r'Analytical $\\frac{\\partial u}{\\partial z}$')\n\n    a1.plot(x, g[:, 0], label=r'Won & Bevis: $\\frac{\\partial u}{\\partial x}$',\n            marker='o', linewidth=0)\n    a1.plot(x, g[:, 2], label=r'Won & Bevis: $\\frac{\\partial u}{\\partial z}$',\n            marker='o', linewidth=0)\n\n    a2.plot(x, gza[:, 0],\n            label=r'Analytical $\\frac{\\partial^2 u}{\\partial z,x}$')\n    a2.plot(x, gza[:, 1],\n            label=r'Analytical $\\frac{\\partial^2 u}{\\partial z,z}$')\n\n    a2.plot(x, gz[:, 0], marker='o', linestyle='',\n            label=r'Won & Bevis: $\\frac{\\partial^2 u}{\\partial z,x}$')\n    a2.plot(x, gz[:, 2], marker='o', linestyle='',\n            label=r'Won & Bevis: $\\frac{\\partial^2 u}{\\partial z,z}$')\n    a1.set_xlabel('$x$-coordinate [m]')\n    a1.set_ylabel(r'$\\frac{\\partial u}{\\partial (x,z)}$ [mGal]')\n    a1.legend(loc='best')\n\n    a2.set_xlabel('$x$-coordinate [m]')\n    a2.legend(loc='best')\n\n\nfig = pg.plt.figure(figsize=(8,8))\nax = [fig.add_subplot(2, 2, i) for i in range(1, 5)]\n\n# Horizontal cylinder\n\nga = gradUCylinderHoriz(pnts, radius, rho, pos=pos)\ngza = gradGZCylinderHoriz(pnts, radius, rho, pos=pos)\n\ncirc = createCircle([0, -depth], radius=radius, marker=2, area=0.1,\n                    segments=32)\ng, gz = solveGravimetry(circ, rho, pnts, complete=True)\n\nplot(x, ax[0], ga, gza, ax[1], g, gz)\n\n# Half plate\n\nthickness = 0.1\n\n# mesh = pg.createGrid(x=[-2,2], y=[-2,2], z=[-3,-7])\nmesh = pg.createGrid(x=np.linspace(0, 5000, 2),\n                     y=[-depth-thickness/2.0, -depth+thickness/2.0])\n\nga = gradUHalfPlateHoriz(pnts, thickness, rho, pos=[0, -depth])\ngza = gradGZHalfPlateHoriz(pnts, thickness, rho, pos=[0, -depth])\ng, gz = solveGravimetry(mesh, rho, pnts, complete=True)\n\nplot(x, ax[2], ga, gza, ax[3], g, gz)"
      ],
      "metadata": {
        "collapsed": false
      },
      "execution_count": null
    }
  ]
}