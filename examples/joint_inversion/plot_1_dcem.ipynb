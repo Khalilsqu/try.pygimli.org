{
  "nbformat": 4,
  "nbformat_minor": 0,
  "metadata": {
    "kernelspec": {
      "display_name": "Python 3",
      "language": "python",
      "name": "python3"
    },
    "language_info": {
      "file_extension": ".py",
      "name": "python",
      "codemirror_mode": {
        "version": 3,
        "name": "ipython"
      },
      "mimetype": "text/x-python",
      "nbconvert_exporter": "python",
      "version": "3.4.3",
      "pygments_lexer": "ipython3"
    }
  },
  "cells": [
    {
      "outputs": [],
      "cell_type": "code",
      "source": [
        "%matplotlib inline"
      ],
      "metadata": {
        "collapsed": false
      },
      "execution_count": null
    },
    {
      "cell_type": "markdown",
      "metadata": {},
      "source": [
        "\nDC-EM Joint inversion\n---------------------\n\nThis is an old script from early pyGIMLi jointly inverting direct current (DC)\nand electromagnetic (EM) soundings on the modelling abstraction level.\nNote that this is not recommended as a basis for programming, because there\nis a dedicated framework for classical joint inversion. However, it explains\nwhat happens under the hood in the much simpler script that follows.\n"
      ]
    },
    {
      "cell_type": "markdown",
      "metadata": {},
      "source": [
        "The case has been documented by :cite:`Guenther2013NSG`.\n\n"
      ]
    },
    {
      "outputs": [],
      "cell_type": "code",
      "source": [
        "import numpy as np\nimport matplotlib.pyplot as plt\n\nimport pygimli as pg\nfrom pygimli.mplviewer import drawModel1D"
      ],
      "metadata": {
        "collapsed": false
      },
      "execution_count": null
    },
    {
      "cell_type": "markdown",
      "metadata": {},
      "source": [
        "First, we define a modelling class that calls two other classes and pastes\ntheir results to one vector.\n\n"
      ]
    },
    {
      "outputs": [],
      "cell_type": "code",
      "source": [
        "class DCEM1dModelling(pg.ModellingBase):\n    \"\"\"Modelling jointing DC and EM 1Dforward operators.\"\"\"\n\n    def __init__(self, nlay, ab2, mn2, freq, coilspacing, verbose=False):\n        \"\"\"Init number of layers, AB/2, MN/2, frequencies & coil spacing.\"\"\"\n        pg.ModellingBase.__init__(self, verbose)\n        self.nlay_ = nlay\n        self.fDC_ = pg.DC1dModelling(nlay, ab2, mn2, verbose)\n        self.fEM_ = pg.FDEM1dModelling(nlay, freq, coilspacing, verbose)\n        self.mesh_ = pg.createMesh1DBlock(nlay)\n        self.setMesh(self.mesh_)\n\n    def response(self, model):\n        \"\"\"Return concatenated response of DC and EM FOPs.\"\"\"\n        return pg.cat(self.fDC_(model), self.fEM_(model))"
      ],
      "metadata": {
        "collapsed": false
      },
      "execution_count": null
    },
    {
      "cell_type": "markdown",
      "metadata": {},
      "source": [
        "The actual script starts here. There are some options to play with\n\n"
      ]
    },
    {
      "outputs": [],
      "cell_type": "code",
      "source": [
        "noiseEM = 1.  # absolute (per cent of primary signal)\nnoiseDC = 3.  # in per cent\nlamEM, lamDC, lamDCEM = 300., 500., 500.  # regularization strength\nverbose = False"
      ],
      "metadata": {
        "collapsed": false
      },
      "execution_count": null
    },
    {
      "cell_type": "markdown",
      "metadata": {},
      "source": [
        "First we create a synthetic model.\n\n"
      ]
    },
    {
      "outputs": [],
      "cell_type": "code",
      "source": [
        "nlay = 3  # number of layers\nthk = pg.RVector(nlay - 1, 15.0)  # 15m thickness each\nres = pg.RVector(nlay, 200.0)  # 200 Ohmm\nres[1] = 10.\nres[2] = 50.\nmodel = pg.cat(thk, res)  # paste together to one model"
      ],
      "metadata": {
        "collapsed": false
      },
      "execution_count": null
    },
    {
      "cell_type": "markdown",
      "metadata": {},
      "source": [
        "We first set up EM forward operator and generate synthetic data with noise\n\n"
      ]
    },
    {
      "outputs": [],
      "cell_type": "code",
      "source": [
        "coilspacing = 50.\nnf = 10\nfreq = pg.RVector(nf, 110.)\nfor i in range(nf-1):\n    freq[i+1] = freq[i] * 2.\n\nfEM = pg.FDEM1dModelling(nlay, freq, coilspacing)\ndataEM = fEM(model)\nfor i in range(len(dataEM)):\n    dataEM[i] += np.random.randn(1)[0] * noiseEM"
      ],
      "metadata": {
        "collapsed": false
      },
      "execution_count": null
    },
    {
      "cell_type": "markdown",
      "metadata": {},
      "source": [
        "We define model transformations: logarithms and log with upper+lower bounds\n\n"
      ]
    },
    {
      "outputs": [],
      "cell_type": "code",
      "source": [
        "transRhoa = pg.RTransLog()\ntransThk = pg.RTransLog()\ntransRes = pg.RTransLogLU(1., 1000.)\ntransEM = pg.RTrans()\nfEM.region(0).setTransModel(transThk)\nfEM.region(1).setTransModel(transRes)"
      ],
      "metadata": {
        "collapsed": false
      },
      "execution_count": null
    },
    {
      "cell_type": "markdown",
      "metadata": {},
      "source": [
        "We set up the independent EM inversion and run the model.\n\n"
      ]
    },
    {
      "outputs": [],
      "cell_type": "code",
      "source": [
        "invEM = pg.RInversion(dataEM, fEM, transEM, verbose)\nmodelEM = pg.RVector(nlay * 2 - 1, 50.)\ninvEM.setModel(modelEM)\ninvEM.setAbsoluteError(noiseEM)\ninvEM.setLambda(lamEM)\ninvEM.setMarquardtScheme(0.9)\nmodelEM = invEM.run()\nrespEM = invEM.response()"
      ],
      "metadata": {
        "collapsed": false
      },
      "execution_count": null
    },
    {
      "cell_type": "markdown",
      "metadata": {},
      "source": [
        "Next we set up the DC forward operator and generate synthetic data with noise\n\n"
      ]
    },
    {
      "outputs": [],
      "cell_type": "code",
      "source": [
        "ab2 = pg.RVector(20, 3.)\nna = len(ab2)\nmn2 = pg.RVector(na, 1.0)\nfor i in range(na-1):\n    ab2[i+1] = ab2[i] * 1.3\nfDC = pg.DC1dModelling(nlay, ab2, mn2)\ndataDC = fDC(model)\nfor i in range(len(dataDC)):\n    dataDC[i] *= 1. + np.random.randn(1)[0] * noiseDC / 100.\n\nfDC.region(0).setTransModel(transThk)\nfDC.region(1).setTransModel(transRes)\n\n# We set up the independent DC inversion and let it run.\ninvDC = pg.RInversion(dataDC, fDC, transRhoa, verbose)\nmodelDC = pg.RVector(nlay*2-1, 20.)\ninvDC.setModel(modelDC)\ninvDC.setRelativeError(noiseDC/100.)\ninvDC.setLambda(lamDC)\ninvDC.setMarquardtScheme(0.9)\nmodelDC = invDC.run()\nrespDC = invDC.response()"
      ],
      "metadata": {
        "collapsed": false
      },
      "execution_count": null
    },
    {
      "cell_type": "markdown",
      "metadata": {},
      "source": [
        "Next we create a the joint forward operator (see class above).\n\n"
      ]
    },
    {
      "outputs": [],
      "cell_type": "code",
      "source": [
        "fDCEM = DCEM1dModelling(nlay, ab2, mn2, freq, coilspacing)\nfDCEM.region(0).setTransModel(transThk)\nfDCEM.region(1).setTransModel(transRes)"
      ],
      "metadata": {
        "collapsed": false
      },
      "execution_count": null
    },
    {
      "cell_type": "markdown",
      "metadata": {},
      "source": [
        "We setup the joint inversion combining, transformations, data and errors.\n\n"
      ]
    },
    {
      "outputs": [],
      "cell_type": "code",
      "source": [
        "transData = pg.RTransCumulative()\ntransData.add(transRhoa, na)\ntransData.add(transEM, nf*2)\ninvDCEM = pg.RInversion(pg.cat(dataDC, dataEM), fDCEM, transData, verbose)\nmodelDCEM = pg.RVector(nlay * 2 - 1, 20.)\ninvDCEM.setModel(modelDCEM)\nerr = pg.cat(dataDC * noiseDC / 100., pg.RVector(len(dataEM), noiseEM))\ninvDCEM.setAbsoluteError(err)\ninvDCEM.setLambda(lamDCEM)\ninvDCEM.setMarquardtScheme(0.9)\nmodelDCEM = invDCEM.run()\nrespDCEM = invDCEM.response()"
      ],
      "metadata": {
        "collapsed": false
      },
      "execution_count": null
    },
    {
      "cell_type": "markdown",
      "metadata": {},
      "source": [
        "The results of the inversion are plotted for comparison.\n\n"
      ]
    },
    {
      "outputs": [],
      "cell_type": "code",
      "source": [
        "for inv in [invEM, invDC, invDCEM]:\n    inv.echoStatus()\nprint([invEM.chi2(), invDC.chi2(), invDCEM.chi2()])  # chi-square values"
      ],
      "metadata": {
        "collapsed": false
      },
      "execution_count": null
    },
    {
      "cell_type": "markdown",
      "metadata": {},
      "source": [
        "%% We finally plot the results\n\n"
      ]
    },
    {
      "outputs": [],
      "cell_type": "code",
      "source": [
        "fig = plt.figure(1, figsize=(10, 5))\nax1 = fig.add_subplot(131)\ndrawModel1D(ax1, thk, res, plot='semilogx', color='blue')\ndrawModel1D(ax1, modelEM(0, nlay-1), modelEM(nlay-1, nlay*2-1), color='green')\ndrawModel1D(ax1, modelDC(0, nlay-1), modelDC(nlay-1, nlay*2-1), color='cyan')\ndrawModel1D(ax1, modelDCEM(0, nlay-1), modelDCEM(nlay-1, nlay*2-1),\n            color='red')\nax1.legend(('syn', 'EM', 'DC', 'JI'))\nax1.set_xlim((10., 1000.))\nax1.set_ylim((40., 0.))\nax1.grid(which='both')\nax2 = fig.add_subplot(132)\nax2.semilogy(dataEM(0, nf), freq, 'bx', label='syn IP')\nax2.semilogy(dataEM(nf, nf*2), freq, 'bo', label='syn OP')\nax2.semilogy(respEM(0, nf), freq, 'g--', label='EM')\nax2.semilogy(respEM(nf, nf*2), freq, 'g--')\nax2.semilogy(respDCEM(na, na+nf), freq, 'r:', label='DCEM')\nax2.semilogy(respDCEM(na+nf, na+nf*2), freq, 'r:')\nax2.set_ylim((min(freq), max(freq)))\nax2.set_xlabel(\"IP/OP in %\")\nax2.set_ylabel(\"$f$ in Hz\")\nax2.yaxis.set_label_position(\"right\")\nax2.grid(which='both')\nax2.legend(loc=\"best\")\nax3 = fig.add_subplot(133)\nax3.loglog(dataDC, ab2, 'bx-', label='syn')\nax3.loglog(respDC, ab2, 'c-', label='DC')\nax3.loglog(respDCEM(0, na), ab2, 'r:', label='DCEM')\n# ax3.axis('tight')\nax3.set_ylim((max(ab2), min(ab2)))\nax3.grid(which='both')\nax3.set_xlabel(r\"$\\rho_a$ in $\\Omega$m\")\nax3.set_ylabel(\"AB/2 in m\")\nax3.yaxis.set_ticks_position(\"right\")\nax3.yaxis.set_label_position(\"right\")\nax3.legend(loc=\"best\")\npg.wait()"
      ],
      "metadata": {
        "collapsed": false
      },
      "execution_count": null
    },
    {
      "outputs": [],
      "cell_type": "code",
      "source": [
        "# G\u00fcnther, T. (2013): On Inversion of Frequency Domain Electromagnetic Data in\n# Salt Water Problems - Sensitivity and Resolution. Ext. Abstr., 19th European\n# Meeting of Environmental and Engineering Geophysics, Bochum, Germany."
      ],
      "metadata": {
        "collapsed": false
      },
      "execution_count": null
    }
  ]
}