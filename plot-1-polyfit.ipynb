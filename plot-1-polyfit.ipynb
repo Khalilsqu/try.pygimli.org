{
  "nbformat_minor": 0,
  "cells": [
    {
      "source": [
        "%matplotlib inline"
      ],
      "cell_type": "code",
      "execution_count": null,
      "outputs": [],
      "metadata": {
        "collapsed": false
      }
    },
    {
      "cell_type": "markdown",
      "source": [
        "\nPolyfit\n=======\n\nThis tutorial shows how to treat the simplest inversion case with an own\nforward calculation. As regression is the easiest inverse problem we start with\nfitting a polynomial of degree $P$\n\n$$f(x) = p_0 + p_1 x + \\ldots + p_P x^P = \\sum\\limits_{i=0}^{P} p_i x^i$$\n\nto given data $y$.\nThe unknown model is the coefficient vector $\\m=[p_0,\\ldots,p_P]$.\nThe vectorized function for a vector\n$\\arr{x}=\\transpose{[x_1,\\ldots,x_N]}$\ncan be written as matrix-vector product\n\n.. _eq:yAx:\n$${\\bf f} ({\\bf x}) = {\\bf A} {\\bf x} \\quad\\mbox{with}\\quad {\\bf A}=\n  \\left[ \n    \\begin{array}{cccc}\n        1 & x_1    & \\ldots & x_1^P \\\\\n   \\vdots & \\vdots & \\ddots & \\vdots \\\\ \n        1 & x_N    & \\ldots & x_N^P\n  \\end{array} \n  \\right] =\n  [ {\\bf 1}\\quad {\\bf x} \\quad {\\bf x}^2 \\ldots {\\bf x}^P ] \\;.$$\n\nWe set up the modelling operator, i.e. to return ${\\bf f}({\\bf x})$ for given\n$p_i$, as a class derived from the modelling base class.\nThe latter holds the main mimic of generating Jacobian, gradients by brute\nforce. The only function to overwrite is \\cw{response()}.\n\nPython is a very flexible language for programming and scripting and has many\npackages for numerical computing and graphical visualization.\nFor this reason, we built Python bindings and compiled the library pygimli.\nAs a main advantage, all classes can be used and derived.\nThis makes the use of GIMLi very easy for non-programmers.\nAll existing modelling classes can be used, but it is also easy to create new\nmodelling classes.\n\nWe exemplify this by the preceding example.\nFirst, the library must be imported.\nTo avoid name clashes with other libraries we suggest to import `pygimli` and\nalias it to an easy name (as usually done for numpy or matplotlib), e.g. by\n"
      ],
      "metadata": {}
    },
    {
      "source": [
        "import pygimli as pg\nimport numpy as np\nimport matplotlib.pyplot as plt\n\nprint(pg.__version__)"
      ],
      "cell_type": "code",
      "execution_count": null,
      "outputs": [],
      "metadata": {
        "collapsed": false
      }
    },
    {
      "cell_type": "markdown",
      "source": [
        "As a result, all :ref:`sec:api` objects (classes and functions) can be refer-\nred to with a preceding `pg.`, e.g., printing the version string for gimli.\n\nNext, the modelling class is derived from ModellingBase, a constructor is\ndefined and the response function is defined.\n\nThe pygimli library must once be imported (in this case under the name g) and\nall classes (e.g. modelling operators) can be used by pg.classname, e.g.\npg.RVector is the already known vector of real (double) values.\n\nThe main program is very easy then and the code is very similar to C++.\nData are loaded, both forward operator and inversion are created.\nInversion options are set and it the result of run is save to a file.\nThat's it.\n\nAs a main advantage of Python, the actual computations can be easily combined\nwith post-processing or visualization, or building graphical user-interfaces.\nIn this code example we use matplotlib, a plotting library providing a\nfunctionality known from Matlab, but more thorough and flexible.\n"
      ],
      "metadata": {}
    },
    {
      "source": [
        "class FunctionModelling(pg.ModellingBase):\n    def __init__(self, nc, xvec, verbose=False):\n        pg.ModellingBase.__init__(self, verbose)\n        self.x_ = xvec\n        self.nc_ = nc\n        self.regionManager().setParameterCount(nc)\n\n    def response(self, par):\n        y = pg.RVector(len(self.x_), par[0])\n\n        for i in range(1, self.nc_):\n            y += pg.pow(self.x_, i) * par[i]\n\n        return y\n\n    def startModel(self):\n        return pg.RVector(self.nc_, 0.5)"
      ],
      "cell_type": "code",
      "execution_count": null,
      "outputs": [],
      "metadata": {
        "collapsed": false
      }
    },
    {
      "cell_type": "markdown",
      "source": [
        "Let us create some synthetic data for some x values\n"
      ],
      "metadata": {}
    },
    {
      "source": [
        "x = np.arange(0., 10., 1)\ny = 1.1 + 2.1 * x"
      ],
      "cell_type": "code",
      "execution_count": null,
      "outputs": [],
      "metadata": {
        "collapsed": false
      }
    },
    {
      "cell_type": "markdown",
      "source": [
        "We now start by setting up the modelling operator, and inversion and run it.\n"
      ],
      "metadata": {}
    },
    {
      "source": [
        "nP = 3\n\n# two coefficients and x-vector (first data column)\nfop = FunctionModelling(nP, x)\n\n# initialize inversion with data and forward operator and set options\ninv = pg.RInversion(y, fop)\n\n# constant absolute error of 0.01 is 1% (not necessary, only for chi^2)\ninv.setAbsoluteError(0.01)\n\n# the problem is well-posed and does not need regularization\ninv.setLambda(0)\n\n# actual inversion run yielding coefficient model\ncoeff = inv.run()\n\nprint(coeff)"
      ],
      "cell_type": "code",
      "execution_count": null,
      "outputs": [],
      "metadata": {
        "collapsed": false
      }
    },
    {
      "cell_type": "markdown",
      "source": [
        "The result is easily plotted by\n"
      ],
      "metadata": {}
    },
    {
      "source": [
        "plt.plot(x, y, 'rx', x, inv.response(), 'b-')\n\nplt.show()"
      ],
      "cell_type": "code",
      "execution_count": null,
      "outputs": [],
      "metadata": {
        "collapsed": false
      }
    }
  ],
  "nbformat": 4,
  "metadata": {
    "language_info": {
      "codemirror_mode": {
        "version": 3,
        "name": "ipython"
      },
      "nbconvert_exporter": "python",
      "mimetype": "text/x-python",
      "version": "3.5.1",
      "name": "python",
      "pygments_lexer": "ipython3",
      "file_extension": ".py"
    },
    "kernelspec": {
      "language": "python",
      "display_name": "Python 3",
      "name": "python3"
    }
  }
}