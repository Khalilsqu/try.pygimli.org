{
 "cells": [
  {
   "cell_type": "code",
   "execution_count": null,
   "metadata": {
    "collapsed": false
   },
   "outputs": [],
   "source": [
    "%matplotlib inline"
   ]
  },
  {
   "cell_type": "markdown",
   "metadata": {},
   "source": [
    "\n",
    "Polyfit\n",
    "=======\n",
    "\n",
    "This tutorial shows how to treat the simplest inversion case with an own\n",
    "forward calculation. As regression is the easiest inverse problem we start with\n",
    "fitting a polynomial of degree $P$\n",
    "\n",
    "$$f(x) = p_0 + p_1 x + \\ldots + p_P x^P = \\sum\\limits_{i=0}^{P} p_i x^i$$\n",
    "\n",
    "to given data $y$.\n",
    "The unknown model is the coefficient vector $\\m=[p_0,\\ldots,p_P]$.\n",
    "The vectorized function for a vector\n",
    "$\\arr{x}=\\transpose{[x_1,\\ldots,x_N]}$\n",
    "can be written as matrix-vector product\n",
    "\n",
    ".. _eq:yAx:\n",
    "$${\\bf f} ({\\bf x}) = {\\bf A} {\\bf x} \\quad\\mbox{with}\\quad {\\bf A}=\n",
    "  \\left[ \n",
    "    \\begin{array}{cccc}\n",
    "        1 & x_1    & \\ldots & x_1^P \\\\\n",
    "   \\vdots & \\vdots & \\ddots & \\vdots \\\\ \n",
    "        1 & x_N    & \\ldots & x_N^P\n",
    "  \\end{array} \n",
    "  \\right] =\n",
    "  [ {\\bf 1}\\quad {\\bf x} \\quad {\\bf x}^2 \\ldots {\\bf x}^P ] \\;.$$\n",
    "\n",
    "We set up the modelling operator, i.e. to return ${\\bf f}({\\bf x})$ for given\n",
    "$p_i$, as a class derived from the modelling base class.\n",
    "The latter holds the main mimic of generating Jacobian, gradients by brute\n",
    "force. The only function to overwrite is \\cw{response()}.\n",
    "\n",
    "Python is a very flexible language for programming and scripting and has many\n",
    "packages for numerical computing and graphical visualization.\n",
    "For this reason, we built Python bindings and compiled the library pygimli.\n",
    "As a main advantage, all classes can be used and derived.\n",
    "This makes the use of GIMLi very easy for non-programmers.\n",
    "All existing modelling classes can be used, but it is also easy to create new\n",
    "modelling classes.\n",
    "\n",
    "We exemplify this by the preceding example.\n",
    "First, the library must be imported.\n",
    "To avoid name clashes with other libraries we suggest to import `pygimli` and\n",
    "alias it to an easy name (as usually done for numpy or matplotlib), e.g. by\n"
   ]
  },
  {
   "cell_type": "code",
   "execution_count": null,
   "metadata": {
    "collapsed": false
   },
   "outputs": [],
   "source": [
    "import pygimli as pg\n",
    "import numpy as np\n",
    "import matplotlib.pyplot as plt\n",
    "\n",
    "print(pg.__version__)"
   ]
  },
  {
   "cell_type": "markdown",
   "metadata": {},
   "source": [
    "As a result, all :ref:`sec:api` objects (classes and functions) can be refer-\n",
    "red to with a preceding `pg.`, e.g., printing the version string for gimli.\n",
    "\n",
    "Next, the modelling class is derived from ModellingBase, a constructor is\n",
    "defined and the response function is defined.\n",
    "\n",
    "The pygimli library must once be imported (in this case under the name g) and\n",
    "all classes (e.g. modelling operators) can be used by pg.classname, e.g.\n",
    "pg.RVector is the already known vector of real (double) values.\n",
    "\n",
    "The main program is very easy then and the code is very similar to C++.\n",
    "Data are loaded, both forward operator and inversion are created.\n",
    "Inversion options are set and it the result of run is save to a file.\n",
    "That's it.\n",
    "\n",
    "As a main advantage of Python, the actual computations can be easily combined\n",
    "with post-processing or visualization, or building graphical user-interfaces.\n",
    "In this code example we use matplotlib, a plotting library providing a\n",
    "functionality known from Matlab, but more thorough and flexible.\n"
   ]
  },
  {
   "cell_type": "code",
   "execution_count": null,
   "metadata": {
    "collapsed": false
   },
   "outputs": [],
   "source": [
    "class FunctionModelling(pg.ModellingBase):\n",
    "    def __init__(self, nc, xvec, verbose=False):\n",
    "        pg.ModellingBase.__init__(self, verbose)\n",
    "        self.x_ = xvec\n",
    "        self.nc_ = nc\n",
    "        self.regionManager().setParameterCount(nc)\n",
    "\n",
    "    def response(self, par):\n",
    "        y = pg.RVector(len(self.x_), par[0])\n",
    "\n",
    "        for i in range(1, self.nc_):\n",
    "            y += pg.pow(self.x_, i) * par[i]\n",
    "\n",
    "        return y\n",
    "\n",
    "    def startModel(self):\n",
    "        return pg.RVector(self.nc_, 0.5)"
   ]
  },
  {
   "cell_type": "markdown",
   "metadata": {},
   "source": [
    "Let us create some synthetic data for some x values\n"
   ]
  },
  {
   "cell_type": "code",
   "execution_count": null,
   "metadata": {
    "collapsed": false
   },
   "outputs": [],
   "source": [
    "x = np.arange(0., 10., 1)\n",
    "y = 1.1 + 2.1 * x"
   ]
  },
  {
   "cell_type": "markdown",
   "metadata": {},
   "source": [
    "We now start by setting up the modelling operator, and inversion and run it.\n"
   ]
  },
  {
   "cell_type": "code",
   "execution_count": null,
   "metadata": {
    "collapsed": false
   },
   "outputs": [],
   "source": [
    "nP = 3\n",
    "\n",
    "# two coefficients and x-vector (first data column)\n",
    "fop = FunctionModelling(nP, x)\n",
    "\n",
    "# initialize inversion with data and forward operator and set options\n",
    "inv = pg.RInversion(y, fop)\n",
    "\n",
    "# constant absolute error of 0.01 is 1% (not necessary, only for chi^2)\n",
    "inv.setAbsoluteError(0.01)\n",
    "\n",
    "# the problem is well-posed and does not need regularization\n",
    "inv.setLambda(0)\n",
    "\n",
    "# actual inversion run yielding coefficient model\n",
    "coeff = inv.run()\n",
    "\n",
    "print(coeff)"
   ]
  },
  {
   "cell_type": "markdown",
   "metadata": {},
   "source": [
    "The result is easily plotted by\n"
   ]
  },
  {
   "cell_type": "code",
   "execution_count": null,
   "metadata": {
    "collapsed": false
   },
   "outputs": [],
   "source": [
    "plt.plot(x, y, 'rx', x, inv.response(), 'b-')\n",
    "\n",
    "plt.show()"
   ]
  }
 ],
 "metadata": {
  "kernelspec": {
   "display_name": "Python 2",
   "language": "python2",
   "name": "python2"
  },
  "language_info": {
   "codemirror_mode": {
    "name": "ipython",
    "version": 2
   },
   "file_extension": ".py",
   "mimetype": "text/x-python",
   "name": "python",
   "nbconvert_exporter": "python",
   "pygments_lexer": "ipython2",
   "version": "2.7.11"
  }
 },
 "nbformat": 4,
 "nbformat_minor": 0
}
