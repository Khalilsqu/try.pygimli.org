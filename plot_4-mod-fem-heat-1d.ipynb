{
  "nbformat_minor": 0,
  "cells": [
    {
      "source": [
        "%matplotlib inline"
      ],
      "cell_type": "code",
      "execution_count": null,
      "outputs": [],
      "metadata": {
        "collapsed": false
      }
    },
    {
      "cell_type": "markdown",
      "source": [
        "\n\nHeat equation in 1D\n-------------------\n\nAssume isotropic and homogeneous heat equation in one dimension:\n\n$$\\Delta u(t,x) - check(-) \\frac{\\partial u(t,x)}{\\partial t} & = f(t,x)\\\\\n    u(0,x) & = \\sin(\\pi x)\\in x=\\Omega \\\\\n    u(t,x) & = 0 \\in x=\\partial\\Omega$$\n\nWe will solve this for :math:`(t,x) \\in [0,1]\n\\text{s} \\times \\Omega=[0,1]\\text{m}`\ntemporal $k=0.04\\text{s}` & spatial discretization :math:`h=0.1\\text{m}$\n\nSee: :py:mod:`pygimli.viewer`\n\nDiscussion: FEM is less suited for problems with piece-wise (element) constant\nsolutions, because linear shape functions demand twice differentiable solution.\nFor diffusion and wave equation with partially starting gradients = 0 you can\nobtain numeric undulations (acausal overshoots) caused by the shape functions.\n\n"
      ],
      "metadata": {}
    },
    {
      "source": [
        "import pygimli as pg\nimport pygimli.solver as solver\nimport matplotlib.pyplot as plt\nimport numpy as np\n\ngrid = pg.createGrid(x=np.linspace(0.0, 1.0, 100))\ntimes = np.arange(0, 1.0, 0.04)\n\ndirichletBC = [[1, 0],  # top\n               [2, 0]]  # bottom\n\nprobeID = int(grid.nodeCount() / 2)"
      ],
      "cell_type": "code",
      "execution_count": null,
      "outputs": [],
      "metadata": {
        "collapsed": false
      }
    },
    {
      "cell_type": "markdown",
      "source": [
        "For this case we have an analytical solution:\n\n$$u(t,x) = \\e^{-\\pi^2 t} \\sin(\\pi x)$$\n\n\n"
      ],
      "metadata": {}
    },
    {
      "source": [
        "def uAna(t, x):\n    return np.exp(-np.pi**2. * t) * np.sin(np.pi * x)\n\nplt.plot(times, uAna(times, grid.node(probeID).pos()[0]), label='Analytical')\n\n# u = solvePoisson(grid, times=times, theta=0.0,\n#                 u0=lambda r: np.sin(np.pi * r[0]),\n#                 uBoundary=dirichletBC)\ndof = grid.nodeCount()\nu = np.zeros((len(times), dof))\nu[0, :] = list(map(lambda r: np.sin(np.pi * r[0]), grid.positions()))\n\ndt = times[1] - times[0]\nA = solver.createStiffnessMatrix(grid, np.ones(grid.cellCount()))\nM = solver.createMassMatrix(grid, np.ones(grid.cellCount()))\n\nut = pg.RVector(dof, 0.0)\nrhs = pg.RVector(dof, 0.0)\nb = pg.RVector(dof, 0.0)\ntheta = 0\n\nboundUdir = solver.parseArgToBoundaries(dirichletBC, grid)\n\nfor n in range(1, len(times)):\n    b = (M - A * dt) * u[n - 1] + rhs * dt\n    S = M\n\n    solver.assembleDirichletBC(S, boundUdir, rhs=b)\n\n#    solver.assembleBoundaryConditions(grid, S,\n#                                      rhs=b,\n#                                      boundArgs=dirichletBC,\n#                                      assembler=solver.assembleDirichletBC)\n\n    solve = pg.LinSolver(S)\n    solve.solve(b, ut)\n\n    u[n, :] = ut\n\n# u = solver.solvePoisson(grid, times=times, theta=0.0,\n#                 u0=lambda r: np.sin(np.pi * r[0]),\n#                 uBoundary=dirichletBC)\n\nplt.plot(times, u[:, probeID], label='Explicit Euler')\n\n\ntheta = 1\n\nfor n in range(1, len(times)):\n    b = (M + A * (dt*(theta - 1.0))) * u[n-1] + \\\n        rhs * (dt*(1.0 - theta)) + \\\n        rhs * dt * theta\n\n    b = M * u[n-1] + rhs * dt\n\n    S = M + A * dt\n\n    solver.assembleDirichletBC(S, boundUdir, rhs=b)\n\n    solve = pg.LinSolver(S)\n    solve.solve(b, ut)\n\n    u[n, :] = ut\n\n# u = solver.solvePoisson(grid, times=times, theta=1.0,\n#                 u0=lambda r: np.sin(np.pi * r[0]),\n#                 uBoundary=dirichletBC)\n\nplt.plot(times, u[:, probeID], label='Implicit Euler')\n\nu = solver.solve(grid, times=times, theta=0.5,\n                 u0=lambda r: np.sin(np.pi * r[0]),\n                 uB=dirichletBC)\n\nplt.plot(times, u[:, probeID], label='Crank-Nicolson')\n\nplt.xlabel(\"t[s] at x = \" + str(round(grid.node(probeID).pos()[0], 2)))\nplt.ylabel(\"u\")\nplt.ylim(0.0, 1.0)\nplt.xlim(0.0, 0.5)\nplt.legend()\nplt.grid()"
      ],
      "cell_type": "code",
      "execution_count": null,
      "outputs": [],
      "metadata": {
        "collapsed": false
      }
    },
    {
      "cell_type": "markdown",
      "source": [
        "Explicit Euler scheme is unstable at progressing time.\n"
      ],
      "metadata": {}
    },
    {
      "source": [
        "plt.show()"
      ],
      "cell_type": "code",
      "execution_count": null,
      "outputs": [],
      "metadata": {
        "collapsed": false
      }
    }
  ],
  "nbformat": 4,
  "metadata": {
    "language_info": {
      "codemirror_mode": {
        "version": 3,
        "name": "ipython"
      },
      "nbconvert_exporter": "python",
      "mimetype": "text/x-python",
      "version": "3.5.1",
      "name": "python",
      "pygments_lexer": "ipython3",
      "file_extension": ".py"
    },
    "kernelspec": {
      "language": "python",
      "display_name": "Python 3",
      "name": "python3"
    }
  }
}