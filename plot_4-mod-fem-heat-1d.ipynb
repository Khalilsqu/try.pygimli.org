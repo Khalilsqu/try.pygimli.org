{
 "cells": [
  {
   "cell_type": "code",
   "execution_count": null,
   "metadata": {
    "collapsed": false
   },
   "outputs": [],
   "source": [
    "%matplotlib inline"
   ]
  },
  {
   "cell_type": "markdown",
   "metadata": {},
   "source": [
    "\n",
    "\n",
    "Heat equation in 1D\n",
    "-------------------\n",
    "\n",
    "Assume isotropic and homogeneous heat equation in one dimension:\n",
    "\n",
    "$$\\Delta u(t,x) - check(-) \\frac{\\partial u(t,x)}{\\partial t} & = f(t,x)\\\\\n",
    "    u(0,x) & = \\sin(\\pi x)\\in x=\\Omega \\\\\n",
    "    u(t,x) & = 0 \\in x=\\partial\\Omega$$\n",
    "\n",
    "We will solve this for :math:`(t,x) \\in [0,1]\n",
    "\\text{s} \\times \\Omega=[0,1]\\text{m}`\n",
    "temporal $k=0.04\\text{s}` & spatial discretization :math:`h=0.1\\text{m}$\n",
    "\n",
    "See: :py:mod:`pygimli.viewer`\n",
    "\n",
    "Discussion: FEM is less suited for problems with piece-wise (element) constant\n",
    "solutions, because linear shape functions demand twice differentiable solution.\n",
    "For diffusion and wave equation with partially starting gradients = 0 you can\n",
    "obtain numeric undulations (acausal overshoots) caused by the shape functions.\n",
    "\n"
   ]
  },
  {
   "cell_type": "code",
   "execution_count": null,
   "metadata": {
    "collapsed": false
   },
   "outputs": [],
   "source": [
    "import pygimli as pg\n",
    "import pygimli.solver as solver\n",
    "import matplotlib.pyplot as plt\n",
    "import numpy as np\n",
    "\n",
    "grid = pg.createGrid(x=np.linspace(0.0, 1.0, 100))\n",
    "times = np.arange(0, 1.0, 0.04)\n",
    "\n",
    "dirichletBC = [[1, 0],  # top\n",
    "               [2, 0]]  # bottom\n",
    "\n",
    "probeID = int(grid.nodeCount() / 2)"
   ]
  },
  {
   "cell_type": "markdown",
   "metadata": {},
   "source": [
    "For this case we have an analytical solution:\n",
    "\n",
    "$$u(t,x) = \\e^{-\\pi^2 t} \\sin(\\pi x)$$\n",
    "\n",
    "\n"
   ]
  },
  {
   "cell_type": "code",
   "execution_count": null,
   "metadata": {
    "collapsed": false
   },
   "outputs": [],
   "source": [
    "def uAna(t, x):\n",
    "    return np.exp(-np.pi**2. * t) * np.sin(np.pi * x)\n",
    "\n",
    "plt.plot(times, uAna(times, grid.node(probeID).pos()[0]), label='Analytical')\n",
    "\n",
    "# u = solvePoisson(grid, times=times, theta=0.0,\n",
    "#                 u0=lambda r: np.sin(np.pi * r[0]),\n",
    "#                 uBoundary=dirichletBC)\n",
    "dof = grid.nodeCount()\n",
    "u = np.zeros((len(times), dof))\n",
    "u[0, :] = list(map(lambda r: np.sin(np.pi * r[0]), grid.positions()))\n",
    "\n",
    "dt = times[1] - times[0]\n",
    "A = solver.createStiffnessMatrix(grid, np.ones(grid.cellCount()))\n",
    "M = solver.createMassMatrix(grid, np.ones(grid.cellCount()))\n",
    "\n",
    "ut = pg.RVector(dof, 0.0)\n",
    "rhs = pg.RVector(dof, 0.0)\n",
    "b = pg.RVector(dof, 0.0)\n",
    "theta = 0\n",
    "\n",
    "boundUdir = solver.parseArgToBoundaries(dirichletBC, grid)\n",
    "\n",
    "for n in range(1, len(times)):\n",
    "    b = (M - A * dt) * u[n - 1] + rhs * dt\n",
    "    S = M\n",
    "\n",
    "    solver.assembleDirichletBC(S, boundUdir, rhs=b)\n",
    "\n",
    "#    solver.assembleBoundaryConditions(grid, S,\n",
    "#                                      rhs=b,\n",
    "#                                      boundArgs=dirichletBC,\n",
    "#                                      assembler=solver.assembleDirichletBC)\n",
    "\n",
    "    solve = pg.LinSolver(S)\n",
    "    solve.solve(b, ut)\n",
    "\n",
    "    u[n, :] = ut\n",
    "\n",
    "# u = solver.solvePoisson(grid, times=times, theta=0.0,\n",
    "#                 u0=lambda r: np.sin(np.pi * r[0]),\n",
    "#                 uBoundary=dirichletBC)\n",
    "\n",
    "plt.plot(times, u[:, probeID], label='Explicit Euler')\n",
    "\n",
    "\n",
    "theta = 1\n",
    "\n",
    "for n in range(1, len(times)):\n",
    "    b = (M + A * (dt*(theta - 1.0))) * u[n-1] + \\\n",
    "        rhs * (dt*(1.0 - theta)) + \\\n",
    "        rhs * dt * theta\n",
    "\n",
    "    b = M * u[n-1] + rhs * dt\n",
    "\n",
    "    S = M + A * dt\n",
    "\n",
    "    solver.assembleDirichletBC(S, boundUdir, rhs=b)\n",
    "\n",
    "    solve = pg.LinSolver(S)\n",
    "    solve.solve(b, ut)\n",
    "\n",
    "    u[n, :] = ut\n",
    "\n",
    "# u = solver.solvePoisson(grid, times=times, theta=1.0,\n",
    "#                 u0=lambda r: np.sin(np.pi * r[0]),\n",
    "#                 uBoundary=dirichletBC)\n",
    "\n",
    "plt.plot(times, u[:, probeID], label='Implicit Euler')\n",
    "\n",
    "u = solver.solve(grid, times=times, theta=0.5,\n",
    "                 u0=lambda r: np.sin(np.pi * r[0]),\n",
    "                 uB=dirichletBC)\n",
    "\n",
    "plt.plot(times, u[:, probeID], label='Crank-Nicolson')\n",
    "\n",
    "plt.xlabel(\"t[s] at x = \" + str(round(grid.node(probeID).pos()[0], 2)))\n",
    "plt.ylabel(\"u\")\n",
    "plt.ylim(0.0, 1.0)\n",
    "plt.xlim(0.0, 0.5)\n",
    "plt.legend()\n",
    "plt.grid()"
   ]
  },
  {
   "cell_type": "markdown",
   "metadata": {},
   "source": [
    "Explicit Euler scheme is unstable at progressing time.\n"
   ]
  },
  {
   "cell_type": "code",
   "execution_count": null,
   "metadata": {
    "collapsed": false
   },
   "outputs": [],
   "source": [
    "plt.show()"
   ]
  }
 ],
 "metadata": {
  "kernelspec": {
   "display_name": "Python 2",
   "language": "python2",
   "name": "python2"
  },
  "language_info": {
   "codemirror_mode": {
    "name": "ipython",
    "version": 2
   },
   "file_extension": ".py",
   "mimetype": "text/x-python",
   "name": "python",
   "nbconvert_exporter": "python",
   "pygments_lexer": "ipython2",
   "version": "2.7.11"
  }
 },
 "nbformat": 4,
 "nbformat_minor": 0
}
